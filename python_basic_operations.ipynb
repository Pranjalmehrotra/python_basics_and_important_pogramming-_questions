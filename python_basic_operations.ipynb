{
  "nbformat": 4,
  "nbformat_minor": 0,
  "metadata": {
    "colab": {
      "private_outputs": true,
      "provenance": []
    },
    "kernelspec": {
      "name": "python3",
      "display_name": "Python 3"
    },
    "language_info": {
      "name": "python"
    }
  },
  "cells": [
    {
      "cell_type": "code",
      "execution_count": null,
      "metadata": {
        "id": "WuCGN9X4amS3"
      },
      "outputs": [],
      "source": [
        "a=10\n",
        "b=20\n",
        "c=a+b\n",
        "d=a*b\n",
        "print(c)\n",
        "print(d)"
      ]
    },
    {
      "cell_type": "code",
      "source": [
        "type(c)"
      ],
      "metadata": {
        "id": "Dvq7z3SKa7GB"
      },
      "execution_count": null,
      "outputs": []
    },
    {
      "cell_type": "code",
      "source": [
        "type(d)"
      ],
      "metadata": {
        "id": "pAyWpCqFbsvA"
      },
      "execution_count": null,
      "outputs": []
    },
    {
      "cell_type": "markdown",
      "source": [
        "**Creating a comlex number and printing its imaginary and complex parts respectively**\n",
        "\n"
      ],
      "metadata": {
        "id": "VbI2KJNtdQqb"
      }
    },
    {
      "cell_type": "code",
      "source": [
        "e=8+7j    #Complex number has been created\n",
        "f=10\n",
        "f+e       #Addition of the complex number and natural number\n"
      ],
      "metadata": {
        "id": "OoJDK2ypbiXV"
      },
      "execution_count": null,
      "outputs": []
    },
    {
      "cell_type": "code",
      "source": [
        "type(e)"
      ],
      "metadata": {
        "id": "Hvgom2OgczYe"
      },
      "execution_count": null,
      "outputs": []
    },
    {
      "cell_type": "code",
      "source": [
        "e.real    #This will print the real part of the complex number."
      ],
      "metadata": {
        "id": "udD1KO2ic11X"
      },
      "execution_count": null,
      "outputs": []
    },
    {
      "cell_type": "code",
      "source": [
        "e.imag    #This will print the imaginary part of the complex number."
      ],
      "metadata": {
        "id": "7dJxcgu6c3cS"
      },
      "execution_count": null,
      "outputs": []
    },
    {
      "cell_type": "markdown",
      "source": [
        "**Various operations performaed in the variable**"
      ],
      "metadata": {
        "id": "IpXOUpIqh1V4"
      }
    },
    {
      "cell_type": "code",
      "source": [
        "a=10.67\n",
        "print(type(a))\n",
        "#b=0.56\n",
        "g=\"pranjal\"\n",
        "#a+g                    #Operations cannot be performed as the heterogeneous data type is there and python does not support the operations on heterogeneous data type.\n",
        "h=str(a)+\"pranjal\"      #Type casting concept(Method 1)using str used in the python which will convert the int to str and then operation can be performed.\n",
        "i=\"10.67\"+\"pranjal\"     #Type casting concept(Method 2)using inverted commas used in the python which will convert the int to str and then operation can be performed.\n",
        "print(i)\n",
        "print(h)\n"
      ],
      "metadata": {
        "id": "DIsV2fHegfJD"
      },
      "execution_count": null,
      "outputs": []
    },
    {
      "cell_type": "markdown",
      "source": [
        "**Reversing of the string using the step size function**"
      ],
      "metadata": {
        "id": "00zU_H1NCDXu"
      }
    },
    {
      "cell_type": "code",
      "source": [
        "name=\"PRANJAL\"\n",
        "name_new=name[6:: -1]    # Here -1 is not the index number.It represents that the decrement of -1 size will be there."
      ],
      "metadata": {
        "id": "U7VK5p0jgiye"
      },
      "execution_count": null,
      "outputs": []
    },
    {
      "cell_type": "code",
      "source": [
        "name[0:90]               # Here no error will be there as the in the concept of slicing last index number does not matter              "
      ],
      "metadata": {
        "id": "f8FGJWuL_XEl"
      },
      "execution_count": null,
      "outputs": []
    },
    {
      "cell_type": "code",
      "source": [
        "name[-20:90]             # In the Concept of the slicing last index and the first index doesnot matter if the index number does not fall withing the range of the defined string.By default the string will print the whole value."
      ],
      "metadata": {
        "id": "tl1VlECiuKF2"
      },
      "execution_count": null,
      "outputs": []
    },
    {
      "cell_type": "code",
      "source": [
        "name[5:1-1]"
      ],
      "metadata": {
        "id": "SKHhz14luQAZ"
      },
      "execution_count": null,
      "outputs": []
    },
    {
      "cell_type": "code",
      "source": [
        "name=\"sudh_kumar\""
      ],
      "metadata": {
        "id": "140f5_TNTINB"
      },
      "execution_count": null,
      "outputs": []
    },
    {
      "cell_type": "code",
      "source": [
        "name[5:1 -1]"
      ],
      "metadata": {
        "id": "BUGzDbEbTMDP"
      },
      "execution_count": null,
      "outputs": []
    },
    {
      "cell_type": "markdown",
      "source": [
        "**List creation and the property of the list**"
      ],
      "metadata": {
        "id": "hq0I6y-1V4ru"
      }
    },
    {
      "cell_type": "code",
      "source": [
        "l=[1,2,3,\"pranjal\",[1,2,3,4]]   # List is a collection of the heterogenous data type."
      ],
      "metadata": {
        "id": "M9ANYC3JmVsE"
      },
      "execution_count": null,
      "outputs": []
    },
    {
      "cell_type": "code",
      "source": [
        "s=l[4][1]\n",
        "#print(s[:: -1])\n",
        "print(s)"
      ],
      "metadata": {
        "id": "S-gxCp-4mZcd"
      },
      "execution_count": null,
      "outputs": []
    },
    {
      "cell_type": "code",
      "source": [
        "l[4][:: -1]                      "
      ],
      "metadata": {
        "id": "EIP1iRoemeP7"
      },
      "execution_count": null,
      "outputs": []
    },
    {
      "cell_type": "code",
      "source": [
        "l*4                           # This operation will multiply the list 4 times."
      ],
      "metadata": {
        "id": "gYfo8E-tozIX"
      },
      "execution_count": null,
      "outputs": []
    },
    {
      "cell_type": "code",
      "source": [
        "l + \"PRANJAL\"               # No addition is possible since we are trying to add the 2 disimmilar data types"
      ],
      "metadata": {
        "id": "TKvSHz5wqTl2"
      },
      "execution_count": null,
      "outputs": []
    },
    {
      "cell_type": "code",
      "source": [
        "l + list(\"PRANJAL\")          # By passing the name in the list, we have made 2 similar data types and hence the operations can be performed very easily."
      ],
      "metadata": {
        "id": "P0X_BLEbqndJ"
      },
      "execution_count": null,
      "outputs": []
    },
    {
      "cell_type": "markdown",
      "source": [
        "RANGE FUNCTION CONCEPTS\n"
      ],
      "metadata": {
        "id": "L2beobDBswQd"
      }
    },
    {
      "cell_type": "code",
      "source": [
        "list(range(0,10))            # Range function is always used to genrate the integer number only."
      ],
      "metadata": {
        "id": "ejAfAty7s1Jj"
      },
      "execution_count": null,
      "outputs": []
    },
    {
      "cell_type": "code",
      "source": [],
      "metadata": {
        "id": "rzAy4ahts_fn"
      },
      "execution_count": null,
      "outputs": []
    },
    {
      "cell_type": "markdown",
      "source": [
        "**Range function concepts**\n",
        "\n"
      ],
      "metadata": {
        "id": "u7zIyvl2zNwT"
      }
    },
    {
      "cell_type": "code",
      "source": [
        "a=input()\n",
        "b=input()"
      ],
      "metadata": {
        "id": "M8XoeHw8zQeZ"
      },
      "execution_count": null,
      "outputs": []
    },
    {
      "cell_type": "markdown",
      "source": [],
      "metadata": {
        "id": "yOaagcinzNqF"
      }
    },
    {
      "cell_type": "code",
      "source": [
        "a+b  #By default input function treats everything as a string and thats why a+b result has been concatenated rather than addition."
      ],
      "metadata": {
        "id": "Qc_7MOvEzbOC"
      },
      "execution_count": null,
      "outputs": []
    },
    {
      "cell_type": "code",
      "source": [
        "a=int(input())\n",
        "b=int(input())"
      ],
      "metadata": {
        "id": "6fU_0cK9zcMh"
      },
      "execution_count": null,
      "outputs": []
    },
    {
      "cell_type": "code",
      "source": [
        "a+b  #Here by passing the int in the input function now a and b are treated as a integer and hence value of a+b is 112 not 4567"
      ],
      "metadata": {
        "id": "1Mi9dIjvzv1Z"
      },
      "execution_count": null,
      "outputs": []
    },
    {
      "cell_type": "markdown",
      "source": [
        "**Using for loop to extracrt each element present in the list.**"
      ],
      "metadata": {
        "id": "TaHsHX44n1fL"
      }
    },
    {
      "cell_type": "code",
      "source": [
        "l=[1,2,3,4,5,6]\n",
        "for x in l:\n",
        "  print(x)"
      ],
      "metadata": {
        "id": "rUyfXQbxcAMd"
      },
      "execution_count": null,
      "outputs": []
    },
    {
      "cell_type": "code",
      "source": [
        "l=[1,2,3,4,5,6]\n",
        "for x in l:\n",
        "  if x==5:\n",
        "   break         # here break will discontinue the exection and the output will be printed till 4\n",
        "  print(x)"
      ],
      "metadata": {
        "id": "Nzzy4usgma06"
      },
      "execution_count": null,
      "outputs": []
    },
    {
      "cell_type": "code",
      "source": [
        "l=[1,2,3,4,5,6]\n",
        "for x in l:\n",
        "  if x==5:\n",
        "   break         # Here break will discontinue the exection and the output will be printed till 4.\n",
        "  print(x)\n",
        "else:            # Here else is not working because else will be executed only if the for will able to execute properly but in this case, break is there and in between for has been terminated.     \n",
        "  print(\"Programme not successful\")"
      ],
      "metadata": {
        "id": "W9a2RlV7SL1G"
      },
      "execution_count": null,
      "outputs": []
    },
    {
      "cell_type": "code",
      "source": [
        "l=[1,2,3,4,5,6]\n",
        "for x in l:\n",
        "  if x < 5:\n",
        "    print(x)\n",
        "else:            # Here else is not working because else will be executed only if the for will able to execute properly but in this case, break is there and in between for has been terminated.     \n",
        "  print(\"Programme not successful\")"
      ],
      "metadata": {
        "id": "MjdVoJJOS58C"
      },
      "execution_count": null,
      "outputs": []
    },
    {
      "cell_type": "code",
      "source": [
        "l=[1,2,3,4,5,6]\n",
        "for x in l:\n",
        "  if x==5:\n",
        "   continue     # here continue will discontinue the exection at the value it is passed and the output will be printed from the next value.\n",
        "  print(x)"
      ],
      "metadata": {
        "id": "tgm8-1wSosi6"
      },
      "execution_count": null,
      "outputs": []
    },
    {
      "cell_type": "code",
      "source": [
        "l=[1,2,3,\"Pranjal\",4,5,6]\n",
        "for x in l:\n",
        "  if x==2:\n",
        "    break\n",
        "  print(x)\n"
      ],
      "metadata": {
        "id": "NRjUoNzEv4zy"
      },
      "execution_count": null,
      "outputs": []
    },
    {
      "cell_type": "code",
      "source": [
        "l=[1,2,3,\"Pranjal\",4,5,6,\"Mehrotra\",\"Sunny\",\"Mukesh\",(1,2,3,4,5,6,7),[1,2,3,4,5,6,]]\n",
        "for x in l:\n",
        "  if(type(x)==int):\n",
        "    #if(type(x)==int):\n",
        "     print(x)\n"
      ],
      "metadata": {
        "id": "yzG3LOQtw4fa"
      },
      "execution_count": null,
      "outputs": []
    },
    {
      "cell_type": "markdown",
      "source": [
        "**Various manipulations in list**"
      ],
      "metadata": {
        "id": "UpPsxEgj1XEr"
      }
    },
    {
      "cell_type": "code",
      "source": [
        "l=[1,2,3,\"Pranjal\",4,5,6,\"Mehrotra\",\"Sunny\",\"Mukesh\",(1,2,3,4,5,6,7),[1,2,3,4,5,6,],[3,5,6,7,9],[5,6,7,9,10]]\n",
        "for x in l:\n",
        "  if type(x)==list or type(x)==str:\n",
        "   print(x)\n",
        "  else:\n",
        "    print (\"This is not possible\")"
      ],
      "metadata": {
        "id": "q-oTG4U6xj4d"
      },
      "execution_count": null,
      "outputs": []
    },
    {
      "cell_type": "code",
      "source": [
        "l=[1,2,3,\"Pranjal\",4,5,6,\"Mehrotra\",\"Sunny\",\"Mukesh\",(1,2,3,4,5,6,7),[1,2,3,4,5,6,],[3,5,6,7,9],[5,6,7,9,10]]\n",
        "for x in l:\n",
        "  if type(x)==list or type(x)==str:\n",
        "    print(x)\n",
        "  \n",
        "  "
      ],
      "metadata": {
        "id": "0tDKJD2n48_5"
      },
      "execution_count": null,
      "outputs": []
    },
    {
      "cell_type": "code",
      "source": [
        "p=\"pranjal\"\n",
        "for x in p:\n",
        "  print(x)\n"
      ],
      "metadata": {
        "id": "NvZLvtNL0vHq"
      },
      "execution_count": null,
      "outputs": []
    },
    {
      "cell_type": "code",
      "source": [
        "p=\"pranjal\"\n",
        "for x in p:\n",
        "  print(x+\"1\")"
      ],
      "metadata": {
        "id": "O43LNK4x00zU"
      },
      "execution_count": null,
      "outputs": []
    },
    {
      "cell_type": "code",
      "source": [
        "num=int(input(\"Enter the number from the user\"))\n",
        "for i in range(num):\n",
        "  for j in range(num):\n",
        "    print(\"*\",end=\" \")\n",
        "  print(\"\\r\")"
      ],
      "metadata": {
        "id": "k8frU0altvc2"
      },
      "execution_count": null,
      "outputs": []
    },
    {
      "cell_type": "code",
      "source": [
        "num=int(input(\"Enter the number from the user\"))\n",
        "for i in range(num):\n",
        "  for j in range(i+1):\n",
        "    print(\"*\",end=\" \")\n",
        "  print(\"\\r\")"
      ],
      "metadata": {
        "id": "N1XZROfV3iSC"
      },
      "execution_count": null,
      "outputs": []
    },
    {
      "cell_type": "code",
      "source": [
        "num=int(input(\"Enter the number from the user\"))\n",
        "for i in range(num):\n",
        "  for j in range(i+1):\n",
        "    print(\"*\",end=\" \")\n",
        "    print(\"\\r\")"
      ],
      "metadata": {
        "id": "tt8aMmhI5FL7"
      },
      "execution_count": null,
      "outputs": []
    },
    {
      "cell_type": "code",
      "source": [
        "num=int(input(\"Enter the number from the user\"))\n",
        "for i in range(num):\n",
        "  for j in range(num):\n",
        "    print(\"*\",end=\" \")\n",
        "  print(\"\\r\")"
      ],
      "metadata": {
        "id": "o_jEFmyq5PSh"
      },
      "execution_count": null,
      "outputs": []
    },
    {
      "cell_type": "code",
      "source": [
        "num=int(input(\"Enter the number from the user\"))\n",
        "for i in range(num):\n",
        "  for j in range(i-1):    ##Main logic of the programme is here.Change the codition and you will get the different output\n",
        "    print(\"*\",end=\" \")\n",
        "  print(\"\\r\")"
      ],
      "metadata": {
        "id": "K-0Ngg9J5uiB"
      },
      "execution_count": null,
      "outputs": []
    },
    {
      "cell_type": "code",
      "source": [
        "num=int(input(\"Enter the number from the user\"))\n",
        "for i in range(num):\n",
        "  for j in range(num):\n",
        "    print(j,end=\" \")\n",
        "  print(\"\\r\")"
      ],
      "metadata": {
        "id": "5iMchjQ26Xdp"
      },
      "execution_count": null,
      "outputs": []
    },
    {
      "cell_type": "code",
      "source": [
        "num=int(input(\"Enter the number from the user\"))\n",
        "for i in range(num):\n",
        "  for j in range(i+1):\n",
        "    if(j%2==0):\n",
        "      print(j,end=\" \")\n",
        "      print(\"\\r\")\n",
        "    elif(j%2==1):\n",
        "      print(j,end=\" \")\n",
        "      print(\"\\r\")"
      ],
      "metadata": {
        "id": "anEbGo3TmbqL"
      },
      "execution_count": null,
      "outputs": []
    },
    {
      "cell_type": "code",
      "source": [
        "num = int(input(\"Enter the number you want to enter\"))\n",
        "for i in range(1,num+1):   # i = 1\n",
        "  for j in range(1,num+1):\n",
        "    print(i ,end =\" \")\n",
        "  print(\"\\r\")"
      ],
      "metadata": {
        "id": "g_bqmkCqmLhx"
      },
      "execution_count": null,
      "outputs": []
    },
    {
      "cell_type": "code",
      "source": [
        "a = 0\n",
        "if a:\n",
        "  print(\"\"\"\"a's value\"\"\"\")\n",
        "else:\n",
        "  print(\"\"\"\"Sorry nothing will get printed\"\"\"\")"
      ],
      "metadata": {
        "id": "Jey7cFs5_YgX"
      },
      "execution_count": null,
      "outputs": []
    },
    {
      "cell_type": "code",
      "source": [
        "for char in 'Welcome':\n",
        "    print (char, end='*')\n",
        "print()"
      ],
      "metadata": {
        "id": "R04kLAHvCUHY"
      },
      "execution_count": null,
      "outputs": []
    },
    {
      "cell_type": "code",
      "source": [
        "a = 0\n",
        "if a:\n",
        "  print(\"a's value\")\n",
        "else:\n",
        "  print(\"Sorry nothing will get printed\")"
      ],
      "metadata": {
        "id": "TzKhNb-ECjAR"
      },
      "execution_count": null,
      "outputs": []
    },
    {
      "cell_type": "code",
      "source": [
        "dict_a=dict_b.copy()"
      ],
      "metadata": {
        "id": "MNTcH1p4C7su"
      },
      "execution_count": null,
      "outputs": []
    },
    {
      "cell_type": "code",
      "source": [
        "for x in (1,10,100): \n",
        "  print (x)"
      ],
      "metadata": {
        "id": "BmYFUr3NDFkA"
      },
      "execution_count": null,
      "outputs": []
    },
    {
      "cell_type": "code",
      "source": [
        "a.difference(b)"
      ],
      "metadata": {
        "id": "vDsAHx1DWZ8B"
      },
      "execution_count": null,
      "outputs": []
    },
    {
      "cell_type": "code",
      "source": [
        "bool(0)"
      ],
      "metadata": {
        "id": "UwPddso-WoHT"
      },
      "execution_count": null,
      "outputs": []
    },
    {
      "cell_type": "code",
      "source": [
        "l=[1,2,3,4]\n",
        "l[:]"
      ],
      "metadata": {
        "id": "zZO0P0VgWy_F"
      },
      "execution_count": null,
      "outputs": []
    },
    {
      "cell_type": "markdown",
      "source": [
        "**Loop Concepts**"
      ],
      "metadata": {
        "id": "F1NdnC2uNz9R"
      }
    },
    {
      "cell_type": "code",
      "source": [
        "name=\"PRANJAL\"\n",
        "s=len(name)-1\n",
        "for s in name:\n",
        "  print(name[s])\n",
        "  s=s-1\n",
        "  "
      ],
      "metadata": {
        "id": "xgaS7gReN11P"
      },
      "execution_count": null,
      "outputs": []
    },
    {
      "cell_type": "code",
      "source": [
        "name=\"PRANJAL\"\n",
        "s=len(name)-1\n",
        "while s>0:\n",
        "  print(name[s],end=\" \")\n",
        "  s=s-1"
      ],
      "metadata": {
        "id": "rMJev8EBhg4W"
      },
      "execution_count": null,
      "outputs": []
    },
    {
      "cell_type": "code",
      "source": [
        "name=\"PRANJAL\"\n",
        "s=len(name)-1\n",
        "if s>0:\n",
        " print(name[s],end=\"\")\n",
        "s=s-1"
      ],
      "metadata": {
        "id": "3mBKUgaOdA46"
      },
      "execution_count": null,
      "outputs": []
    },
    {
      "cell_type": "code",
      "source": [
        "name=input(\"Enter the name from the user\")\n",
        "company=input(\"Enter the company name from the user\")\n",
        "wife=input(\"Enter the wife name from the user\")\n",
        "print(\"The name of the person is {}, The company name of the user is {}, The wife name of the user is {}\".format(name,company,wife))   # Correct way to do formating in the python"
      ],
      "metadata": {
        "id": "FBeveniliQ48"
      },
      "execution_count": null,
      "outputs": []
    },
    {
      "cell_type": "markdown",
      "source": [
        "**Uselful operations of the list**"
      ],
      "metadata": {
        "id": "hnkaWwOcLNtG"
      }
    },
    {
      "cell_type": "code",
      "source": [
        "l=[1,2,3,[1,2,4,5],\"PRANJAL\"]\n",
        "l.pop()   #Pop function remove the last element present in the list"
      ],
      "metadata": {
        "id": "b-o1c3nPLSnN"
      },
      "execution_count": null,
      "outputs": []
    },
    {
      "cell_type": "code",
      "source": [
        "l"
      ],
      "metadata": {
        "id": "h-cBJNYsLZ6n"
      },
      "execution_count": null,
      "outputs": []
    },
    {
      "cell_type": "code",
      "source": [
        "l.pop(3) # It will remove the third element present in the list"
      ],
      "metadata": {
        "id": "MEOx2IreLcSI"
      },
      "execution_count": null,
      "outputs": []
    },
    {
      "cell_type": "code",
      "source": [
        "l\n"
      ],
      "metadata": {
        "id": "XOtildOCLnnp"
      },
      "execution_count": null,
      "outputs": []
    },
    {
      "cell_type": "markdown",
      "source": [
        "**List operations**"
      ],
      "metadata": {
        "id": "HDRe06XFOv65"
      }
    },
    {
      "cell_type": "code",
      "source": [
        "l"
      ],
      "metadata": {
        "id": "ng5l1XGHOzE6"
      },
      "execution_count": null,
      "outputs": []
    },
    {
      "cell_type": "code",
      "source": [
        "l1=[4,5,6]\n",
        "l+l1"
      ],
      "metadata": {
        "id": "DkR4c95OO0lR"
      },
      "execution_count": null,
      "outputs": []
    },
    {
      "cell_type": "code",
      "source": [
        "l+l1"
      ],
      "metadata": {
        "id": "FFs4v1vXO53Z"
      },
      "execution_count": null,
      "outputs": []
    },
    {
      "cell_type": "code",
      "source": [
        "l.append(l1)"
      ],
      "metadata": {
        "id": "K2QZDM9_O-vr"
      },
      "execution_count": null,
      "outputs": []
    },
    {
      "cell_type": "code",
      "source": [
        "l"
      ],
      "metadata": {
        "id": "khyypYcHPLeS"
      },
      "execution_count": null,
      "outputs": []
    },
    {
      "cell_type": "code",
      "source": [
        "l = [1,2,3]\n",
        "l.extend(l1)"
      ],
      "metadata": {
        "id": "eiY6QRFePM2e"
      },
      "execution_count": null,
      "outputs": []
    },
    {
      "cell_type": "code",
      "source": [
        "l"
      ],
      "metadata": {
        "id": "roYoi35APiCl"
      },
      "execution_count": null,
      "outputs": []
    },
    {
      "cell_type": "code",
      "source": [
        "name=\"My name is pranjal\"\n",
        "for i in name.split():\n",
        "  print(i)"
      ],
      "metadata": {
        "id": "JtN_0wcSPjj5"
      },
      "execution_count": null,
      "outputs": []
    },
    {
      "cell_type": "code",
      "source": [
        "name"
      ],
      "metadata": {
        "id": "rET7TdpEP2qo"
      },
      "execution_count": null,
      "outputs": []
    },
    {
      "cell_type": "code",
      "source": [
        "name.split()"
      ],
      "metadata": {
        "id": "ua4p-WpdQH2S"
      },
      "execution_count": null,
      "outputs": []
    },
    {
      "cell_type": "code",
      "source": [
        "l1 = [2,4,6,8,10,12,14,16,18,20]\n",
        "l2 = [1,3,5,7,9,11,13,15,17,19]\n",
        "l1+l2"
      ],
      "metadata": {
        "id": "jPqKa5YWQJUi"
      },
      "execution_count": null,
      "outputs": []
    },
    {
      "cell_type": "code",
      "source": [
        "# There are mainly 3 main operations in the list manipulation.These are:\n",
        "# 1.append\n",
        "# 2.pop\n",
        "# 3.extend\n",
        " "
      ],
      "metadata": {
        "id": "cnMSEsfQvtAD"
      },
      "execution_count": null,
      "outputs": []
    },
    {
      "cell_type": "code",
      "source": [
        "# 1.Append Operations\n",
        "l=[1,2,3,[1,2,4,5],\"PRANJAL\"]\n",
        "l1=[4,5,6]\n",
        "l.append(l1)  # l1 list will get appended to l list\n",
        "l"
      ],
      "metadata": {
        "id": "1trk8NivwORl"
      },
      "execution_count": null,
      "outputs": []
    },
    {
      "cell_type": "code",
      "source": [
        "# 2.pop Function\n",
        "l=[1,2,3,[1,2,4,5],\"PRANJAL\"]\n",
        "#l.pop() # By default pop function will remove the last element from the list\n",
        "l.pop(3) # Here pop will delete the fourth element present in the list\n",
        "l"
      ],
      "metadata": {
        "id": "-ojZCHK4W9x_"
      },
      "execution_count": null,
      "outputs": []
    },
    {
      "cell_type": "code",
      "source": [
        "# 3.Extend Function # Extend function will unwrapp all the elemets present in the list and then append it individually to the required list\n",
        "l=[1,2,3,[1,2,4,5],\"PRANJAL\"]\n",
        "l1=[4,5,6]\n",
        "l.extend(l1)\n",
        "l"
      ],
      "metadata": {
        "id": "s5xQOk5PvrBl"
      },
      "execution_count": null,
      "outputs": []
    },
    {
      "cell_type": "markdown",
      "source": [
        "**We have 2 list namely v1 and v2.Programm to add the respecive elemts of the list and store them in different list.** "
      ],
      "metadata": {
        "id": "2XOjbgibsLtV"
      }
    },
    {
      "cell_type": "code",
      "source": [
        "import numpy as np                                \n",
        "v1=np.array([2,4,6,8,10,12,14,16,18,20])    #Converting the list into the vector format\n",
        "v2=np.array([1,3,5,7,9,11,13,15,17,19])     #Converting the list into another vector format\n",
        "v3 = v1+v2                                  #Performaing the addition operation in the vector foramt(Vector Addition)\n",
        "print(v3) \n"
      ],
      "metadata": {
        "id": "iUAGnzJ8SprQ"
      },
      "execution_count": null,
      "outputs": []
    },
    {
      "cell_type": "markdown",
      "source": [
        "**Set DataStructure**"
      ],
      "metadata": {
        "id": "RKBhijliirvm"
      }
    },
    {
      "cell_type": "code",
      "source": [
        "s={1,2,2,2,2,2,5,5,5,5}     # Set data type has been declared.\n"
      ],
      "metadata": {
        "id": "YYfyLxpUiup2"
      },
      "execution_count": null,
      "outputs": []
    },
    {
      "cell_type": "code",
      "source": [
        "s                           # Set always give us the unique values."
      ],
      "metadata": {
        "id": "v9_MHI8qi2WZ"
      },
      "execution_count": null,
      "outputs": []
    },
    {
      "cell_type": "code",
      "source": [
        "l=[1,2,2,2222,2222,5,5,5,5,\"pranjal\",\"pranjal\",\"nishi\"]\n",
        "set(l)                      # Calling set inside the list.This is done in order to find out the uniqueness of the list "
      ],
      "metadata": {
        "id": "rjZwgTVkjcoT"
      },
      "execution_count": null,
      "outputs": []
    },
    {
      "cell_type": "code",
      "source": [
        "print('print(\"Testing\")')"
      ],
      "metadata": {
        "id": "08t7Hyb7jzbe"
      },
      "execution_count": null,
      "outputs": []
    },
    {
      "cell_type": "code",
      "source": [
        "print(\"print('Testing')\")"
      ],
      "metadata": {
        "id": "GoMZvdR8JeWV"
      },
      "execution_count": null,
      "outputs": []
    },
    {
      "cell_type": "markdown",
      "source": [
        "**Nested List Cannot be passed inside the set**"
      ],
      "metadata": {
        "id": "JhwJmjBLKXCS"
      }
    },
    {
      "cell_type": "code",
      "source": [
        "L=[1,2,3,4,5,6,7,[1,2,3,4,5,6,7,8]]\n",
        "set(L)"
      ],
      "metadata": {
        "id": "d23PyuzMKa5X"
      },
      "execution_count": null,
      "outputs": []
    },
    {
      "cell_type": "code",
      "source": [
        "#In order to solve this, we will be removing the list present inside another list.\n",
        "s1=set()\n",
        "for i in L:\n",
        "  if type(i)!= list:\n",
        "    s1.add(i)\n",
        "s1"
      ],
      "metadata": {
        "id": "rE4VgREHKlO_"
      },
      "execution_count": null,
      "outputs": []
    },
    {
      "cell_type": "code",
      "source": [
        "# DICTIONARY "
      ],
      "metadata": {
        "id": "qMvHS0ntYYKn"
      },
      "execution_count": null,
      "outputs": []
    },
    {
      "cell_type": "markdown",
      "source": [
        "**Continue and break statements**\n",
        "\n"
      ],
      "metadata": {
        "id": "OPP3PM8YIx3a"
      }
    },
    {
      "cell_type": "code",
      "source": [
        "# CONTINUE- It will not execute the statement written below it and directly pass the control to the loop.\n",
        "# BREAK-    It will not execute the statement written below it and it transfers the control out of the loop."
      ],
      "metadata": {
        "id": "PLZOAsHhEQVy"
      },
      "execution_count": null,
      "outputs": []
    },
    {
      "cell_type": "code",
      "source": [
        "l=[\"sudhanshu\",\"kumar\",1,2,3,4,5,6,7,8]\n",
        "for i in l:\n",
        "  if i == 5:\n",
        "    continue\n",
        "  print(i)"
      ],
      "metadata": {
        "id": "sNnOjUglJdAN"
      },
      "execution_count": null,
      "outputs": []
    },
    {
      "cell_type": "code",
      "source": [
        "l=[\"sudhanshu\",\"kumar\",1,2,3,4,5,6,7,8]\n",
        "for i in l:\n",
        "  print(i)\n",
        "  if i == 5:\n",
        "    continue\n",
        "   "
      ],
      "metadata": {
        "id": "0qyZ7saXLUjd"
      },
      "execution_count": null,
      "outputs": []
    },
    {
      "cell_type": "code",
      "source": [
        "l=[\"sudhanshu\",\"kumar\",1,2,3,4,5,6,7,8]\n",
        "for i in l:\n",
        " print(i)\n",
        " if i == 5:\n",
        "    break"
      ],
      "metadata": {
        "id": "eAA0wZuqLXjL"
      },
      "execution_count": null,
      "outputs": []
    },
    {
      "cell_type": "code",
      "source": [
        "l=[\"sudhanshu\",\"kumar\",1,2,3,4,5,6,7,8]\n",
        "for i in l:\n",
        " if i == 5:\n",
        "    break\n",
        " print(i)"
      ],
      "metadata": {
        "id": "HbMwUTyALyxT"
      },
      "execution_count": null,
      "outputs": []
    },
    {
      "cell_type": "code",
      "source": [
        "p=\"my name is pranjal\"\n",
        "p.split()\n",
        "for i in p.split():\n",
        "  print(i)"
      ],
      "metadata": {
        "id": "AY7o6ZxCl7lg"
      },
      "execution_count": null,
      "outputs": []
    },
    {
      "cell_type": "markdown",
      "source": [
        "**Squaring each element present in the list**"
      ],
      "metadata": {
        "id": "geDSL3MFyONe"
      }
    },
    {
      "cell_type": "code",
      "source": [
        "l=[1,4,6,78,90]\n",
        "l1=[]\n",
        "for i in l:\n",
        "  l1.append(i**2)\n",
        "l1"
      ],
      "metadata": {
        "id": "STL-kRwPxSv3"
      },
      "execution_count": null,
      "outputs": []
    },
    {
      "cell_type": "code",
      "source": [
        "L1 = []\n",
        "num=range(1,11)\n",
        "for i in num:\n",
        "  if i%2==0:\n",
        "    L1.append(i)\n",
        "L1"
      ],
      "metadata": {
        "id": "T3gTIoz9yIE4"
      },
      "execution_count": null,
      "outputs": []
    },
    {
      "cell_type": "code",
      "source": [
        "L2 = []\n",
        "num=range(0,11)\n",
        "for i in num:\n",
        "  if i%2==1:\n",
        "    L2.append(i)\n",
        "L2"
      ],
      "metadata": {
        "id": "bgKmNz_Czojh"
      },
      "execution_count": null,
      "outputs": []
    },
    {
      "cell_type": "code",
      "source": [
        "import numpy as np\n",
        "V1 = np.array(L1)\n",
        "V2 = np.array(L2)\n",
        "V3 = V1+V2\n",
        "print(V3)"
      ],
      "metadata": {
        "id": "PH3dGtqkztND"
      },
      "execution_count": null,
      "outputs": []
    },
    {
      "cell_type": "markdown",
      "source": [
        "**Tupples Concepts**"
      ],
      "metadata": {
        "id": "lu_yzqnSa09s"
      }
    },
    {
      "cell_type": "code",
      "source": [
        "T=(1,2,3,4,5,\"PRANJAL\",5,2,3,4)\n",
        "T[4]"
      ],
      "metadata": {
        "id": "MxOnsvPx-166"
      },
      "execution_count": null,
      "outputs": []
    },
    {
      "cell_type": "code",
      "source": [
        "# INBUILD FUNCTIONS-There are only 2 inbuilt functions because of its immutability nature.\n",
        "# The 2 inbuild functons are:   1.COUNT FOUNCTION    2.INDEX FUNCTION"
      ],
      "metadata": {
        "id": "eDg1ZW1-_FYt"
      },
      "execution_count": null,
      "outputs": []
    },
    {
      "cell_type": "code",
      "source": [
        "# COUNT EXAMPLE:\n",
        "T=(1,2,3,4,5,\"PRANJAL\",5,2,3,4)\n",
        "T.count(5)   # How many times 5 appear in tupple."
      ],
      "metadata": {
        "id": "IVBM903L_l_6"
      },
      "execution_count": null,
      "outputs": []
    },
    {
      "cell_type": "code",
      "source": [
        "# INDEX FUNCTION\n",
        "T=(1,2,3,4,5,\"PRANJAL\",5,2,3,4)\n",
        "T.index(4)  # Indicates the index number of the element 4."
      ],
      "metadata": {
        "id": "52qNn02R_uwt"
      },
      "execution_count": null,
      "outputs": []
    },
    {
      "cell_type": "code",
      "source": [
        " # del-This function is used to delete the list, tupples."
      ],
      "metadata": {
        "id": "iWrxdwvrAHHF"
      },
      "execution_count": null,
      "outputs": []
    },
    {
      "cell_type": "markdown",
      "source": [
        "**Concepts of Dictionaries**"
      ],
      "metadata": {
        "id": "O8tb78uR4A_u"
      }
    },
    {
      "cell_type": "code",
      "source": [
        "programming_dictionary = {\n",
        "                            \"Bug\":\"An error in the programme that prevents the programme from giving the expected output\",\n",
        "                            \n",
        "                            \"Function\": \"A Piece of code that we can call again and again and it performs the concept of resuability.\",\n",
        "                          \n",
        "                            \"Loop\" : \"The action of performing the same task again and again\"\n",
        "                          \n",
        "}"
      ],
      "metadata": {
        "id": "Q_aevH66-8ZG"
      },
      "execution_count": null,
      "outputs": []
    },
    {
      "cell_type": "code",
      "source": [
        "print(programming_dictionary[\"Bug\"])"
      ],
      "metadata": {
        "id": "EkBYI446Tbaa"
      },
      "execution_count": null,
      "outputs": []
    },
    {
      "cell_type": "markdown",
      "source": [
        "**Concept of accessing the values of the dicionary elements**"
      ],
      "metadata": {
        "id": "9phAUhKnDKn-"
      }
    },
    {
      "cell_type": "code",
      "source": [
        "#In dictionaries the items are accessed using the key parameters of the dictionary.\n",
        "print(programming_dictionary[\"Function\"])\n",
        "print(programming_dictionary[\"Loop\"])"
      ],
      "metadata": {
        "id": "JWAiyt7XDRsS"
      },
      "execution_count": null,
      "outputs": []
    },
    {
      "cell_type": "markdown",
      "source": [
        "**Adding a new entry to the dictionary**"
      ],
      "metadata": {
        "id": "hrCg4qbrFJ4l"
      }
    },
    {
      "cell_type": "code",
      "source": [
        "# We want to include the key as : Error and  value as : Part of bug that prevents the execution of the programme we can do as below:\n",
        "programming_dictionary[\"Error\"]=\"Part of bug that prevents the execution of the programme\"\n",
        "print(programming_dictionary)"
      ],
      "metadata": {
        "id": "JZkBI8QCFZps"
      },
      "execution_count": null,
      "outputs": []
    },
    {
      "cell_type": "markdown",
      "source": [
        "**Wiping of the dictionary(Clearing all the elements present in the dictionary)**"
      ],
      "metadata": {
        "id": "RCewf0R_I34b"
      }
    },
    {
      "cell_type": "code",
      "source": [
        "#programming_dictionary = {}\n",
        "#print(programming_dictionary)"
      ],
      "metadata": {
        "id": "uWRY7JU4FO5j"
      },
      "execution_count": null,
      "outputs": []
    },
    {
      "cell_type": "markdown",
      "source": [
        "**Editing in the present dictionary**"
      ],
      "metadata": {
        "id": "hjKH-zYdJlOO"
      }
    },
    {
      "cell_type": "code",
      "source": [
        "# Now i want to change the value of bug to A Moth in computer.It can be done as:\n",
        "programming_dictionary[\"Bug\"]=\"A Moth in a computer\"\n",
        "print(programming_dictionary)"
      ],
      "metadata": {
        "id": "qu_-8eHQJpfg"
      },
      "execution_count": null,
      "outputs": []
    },
    {
      "cell_type": "markdown",
      "source": [
        "**Looping in the dictionary**"
      ],
      "metadata": {
        "id": "K-I-1SCbMUNA"
      }
    },
    {
      "cell_type": "code",
      "source": [
        "# PRINTING THE KEY VALUES PRESENT IN THE DICTIONARY USING FOR LOOP"
      ],
      "metadata": {
        "id": "z3AcWY11Mcgn"
      },
      "execution_count": null,
      "outputs": []
    },
    {
      "cell_type": "code",
      "source": [
        "for thing in programming_dictionary:\n",
        "  print(thing)"
      ],
      "metadata": {
        "id": "-sMEPwLxLPh3"
      },
      "execution_count": null,
      "outputs": []
    },
    {
      "cell_type": "code",
      "source": [
        "# PRINTING THE VALUE VALUES PRESENT IN THE DICTIONARY USING FOR LOOP."
      ],
      "metadata": {
        "id": "4jgnzFY4MgjG"
      },
      "execution_count": null,
      "outputs": []
    },
    {
      "cell_type": "code",
      "source": [
        "for thing in programming_dictionary:\n",
        "  print(programming_dictionary[thing])"
      ],
      "metadata": {
        "id": "B8a_2-GtLUUl"
      },
      "execution_count": null,
      "outputs": []
    },
    {
      "cell_type": "markdown",
      "source": [
        "**Nesting in dictionary**"
      ],
      "metadata": {
        "id": "kNm6ulp9RsWD"
      }
    },
    {
      "cell_type": "code",
      "source": [
        "# The general Format of the nesting of the dictionary is:\n",
        "# Nesting = {\n",
        "  #           \"key1\":\"value1\",\n",
        "  #           \"key2\":\"value2\",\n",
        "  #           \"key3\":{\"key1\":\"value1\",\"key2\":\"value2\",......}   \n",
        "# }\n",
        "travel_log ={\n",
        "            \"cities_Visited\":{\"Paris\": 3,\"Berlain\": 4,\"Germany\":5}\n",
        "}"
      ],
      "metadata": {
        "id": "ZqyNZQfGRwWm"
      },
      "execution_count": null,
      "outputs": []
    },
    {
      "cell_type": "code",
      "source": [
        "# Nesting List in the dictionary\n",
        "\n",
        "travel_log = {\n",
        "             \"France\": [\"Paris\",\"Berlain\",\"Germany\"],\n",
        "             \"India\": [\"Allahabad\",\"Chennai\",\"Bangalore\"]   \n",
        "}\n"
      ],
      "metadata": {
        "id": "YtKqm_FJTyfD"
      },
      "execution_count": null,
      "outputs": []
    },
    {
      "cell_type": "code",
      "source": [
        "travel_log = {\n",
        "             \"France\":{\"cities_visited\":[\"Paris\",\"Berlain\",\"Germany\"],\"total_number of visits\":12},\n",
        "             \"India\":{\"cities_visited\":[\"Allahabad\",\"Chennai\",\"Bangalore\"],\"total_number of visits\":14},\n",
        "              \"USA\" :{\"cities_visited\":[\"New york\",\"Shinghai\"]}  \n",
        "}"
      ],
      "metadata": {
        "id": "xzREdonCWNJV"
      },
      "execution_count": null,
      "outputs": []
    },
    {
      "cell_type": "code",
      "source": [
        "# Nesting Dictionary in the list:\n",
        "travel_log = [\n",
        "              \n",
        "              {\n",
        "               \n",
        "               \"country\":\"France\",\n",
        "               \"cities_visited\":[\"Paris\",\"Berlain\",\"Germany\"],\n",
        "               \"total_number of visits\":12\n",
        "              },\n",
        "\n",
        "              {\n",
        "              \n",
        "               \"country\":\"India\",\n",
        "               \"cities_visited\":[\"Allahabad\",\"Chennai\",\"Bangalore\"], \n",
        "               \"total_number of visits\":14\n",
        "              },\n",
        "              \n",
        "              {\n",
        "                \n",
        "               \"country\":\"USA\" ,\n",
        "               \"cities_visited\":[\"New york\",\"Shinghai\"],\n",
        "               \"total number of visits\":123\n",
        "               }\n",
        "]\n"
      ],
      "metadata": {
        "id": "toZU4yyrYq-k"
      },
      "execution_count": null,
      "outputs": []
    },
    {
      "cell_type": "code",
      "source": [
        "a = [[], \"abc\", [0], 1, 0]\n",
        "print(list(filter(bool, a)))"
      ],
      "metadata": {
        "id": "Eh1fSDsbhlG4"
      },
      "execution_count": null,
      "outputs": []
    },
    {
      "cell_type": "code",
      "source": [
        "# It is a collection which keeps the values in the format of key,values pairs."
      ],
      "metadata": {
        "id": "umyVgV6i4Dbj"
      },
      "execution_count": null,
      "outputs": []
    },
    {
      "cell_type": "code",
      "source": [
        "d={}   # By default it will be dictionary.\n",
        "type(d)"
      ],
      "metadata": {
        "id": "z3W8GflrP4e-"
      },
      "execution_count": null,
      "outputs": []
    },
    {
      "cell_type": "code",
      "source": [
        "d={1,2,3} # Now it be treated as a SET by the python compiler.\n",
        "type(d)"
      ],
      "metadata": {
        "id": "AvO54_nhULel"
      },
      "execution_count": null,
      "outputs": []
    },
    {
      "cell_type": "code",
      "source": [
        "# List indices is equivalent to keys in dictionaries.\n",
        "# List values is equivalent to dictionaries values."
      ],
      "metadata": {
        "id": "7_LK1szwUNfW"
      },
      "execution_count": null,
      "outputs": []
    },
    {
      "cell_type": "code",
      "source": [
        "d={   4:\"sudh\",    \"pranj\":\"nandi\",   \"k2\":[1,2,3,4,5,6],   \"pop\":{34,56,7,8,}   }  # d is a dictionary type having key and value pairs."
      ],
      "metadata": {
        "id": "VlQLX4swB3uI"
      },
      "execution_count": null,
      "outputs": []
    },
    {
      "cell_type": "code",
      "source": [
        "#  RULES OR SYNTAX FOR NAMING THE KEY IN DICTIONARIES\n",
        "\n",
        "#  1. Special Characters viz. %, @ , # , * etc cannot be used in the key variables. \n",
        "#  2. Strings viz. \"K1\",\"K2\" etc.can be used in key variables.\n",
        "#  3. Lists, sets are not allowed inside the key variables.\n",
        "#  4. Tupples are allowed to be used as key variabkles.\n",
        "#  5. _ Underscore also called Place holder operator in programming are also allowed to be used in the key variables.\n",
        "#  KEY VALUE WILL ALWAYS BE UNIQUE.It will always pass the latest value if any multile key values are there."
      ],
      "metadata": {
        "id": "X1yC41OqCkgd"
      },
      "execution_count": null,
      "outputs": []
    },
    {
      "cell_type": "code",
      "source": [
        "d2={     1:\"sudh\",  2:\"kumar\" , 3: [\"ML\" , \"DL,\" , \"AIOPS\", \" Exceptional Handling \"], 4: \"sudh\",  \"xyz\": \" year\",  5:{\"Pranjal\",\"Nandi\",\"Gopal\"}   }\n",
        "#d3=list(d2.items())"
      ],
      "metadata": {
        "id": "zH0ult18FsAM"
      },
      "execution_count": null,
      "outputs": []
    },
    {
      "cell_type": "code",
      "source": [
        "# For accessing the values of the dictionaries, we have to call the corresponding key element present in the dictionary as shown in the example.\n",
        "try:\n",
        " d2[0]        # It will not work as no key value 0 present in the dictionary.\n",
        "except:\n",
        " print(d2[1]) # It will print sudh as the value corresponding to the key element 4."
      ],
      "metadata": {
        "id": "ScSjJEzmMWgf"
      },
      "execution_count": null,
      "outputs": []
    },
    {
      "cell_type": "code",
      "source": [
        "# ITERATING THE ELEMENTS OF DICTIONARY VIA. FOR loop\n",
        "for i in d2:\n",
        "  print(i)  # It is just giving the values of the keys only.Not the values."
      ],
      "metadata": {
        "id": "EDpaHtaUM99U"
      },
      "execution_count": null,
      "outputs": []
    },
    {
      "cell_type": "code",
      "source": [
        "# There is an inbuilt function in python for the d2.values() and d2.keys() which are used for printing the values and keys respectively.\n",
        "print(d2.values())\n",
        "d2.keys()"
      ],
      "metadata": {
        "id": "QyVqcdQvOuNM"
      },
      "execution_count": null,
      "outputs": []
    },
    {
      "cell_type": "code",
      "source": [
        "d2.items() # It will print key and values simultaneously."
      ],
      "metadata": {
        "id": "-mJlHs2yYH5M"
      },
      "execution_count": null,
      "outputs": []
    },
    {
      "cell_type": "code",
      "source": [
        "list(d2.items())[1]   # It will treat d2 as a list and every list operations is applicable on it too just like the list."
      ],
      "metadata": {
        "id": "Q_0AS-ZqYmW2"
      },
      "execution_count": null,
      "outputs": []
    },
    {
      "cell_type": "code",
      "source": [
        "d2={     1:\"sudh\",  2:\"kumar\" , 3: [\"ML\" , \"DL,\" , \"AIOPS\", \" Exceptional Handling \"], 4: \"sudh\",  \"xyz\": \" year\",  5:{\"Pranjal\",\"Nandi\",\"Gopal\"}   }"
      ],
      "metadata": {
        "id": "VU30LMNVZmLZ"
      },
      "execution_count": null,
      "outputs": []
    },
    {
      "cell_type": "code",
      "source": [
        "type(d2)"
      ],
      "metadata": {
        "id": "MH7p0jaqb7mL"
      },
      "execution_count": null,
      "outputs": []
    },
    {
      "cell_type": "code",
      "source": [
        "# Question: W.A.P to check if the dictionary type of value is present inside the dictionary and if yes, then try to print that value only."
      ],
      "metadata": {
        "id": "KOtIw3HIbCbE"
      },
      "execution_count": null,
      "outputs": []
    },
    {
      "cell_type": "code",
      "source": [
        "try:\n",
        " for i in d2.keys():\n",
        "   if type(d2[i])==dict:\n",
        "     print(d2[i])\n",
        "except:\n",
        "  print(\"Please check your logic\")"
      ],
      "metadata": {
        "id": "jtYv_xq5bcGV"
      },
      "execution_count": null,
      "outputs": []
    },
    {
      "cell_type": "code",
      "source": [
        "d2={     1:\"sudh\",  2:\"kumar\" , 3: [\"ML\" , \"DL,\" , \"AIOPS\", \" Exceptional Handling \"], 4: \"sudh\",  \"xyz\": \" year\",  5:{\"Pranjal\",\"Nandi\",\"Gopal\"}   }\n",
        "try: \n",
        " for i in d2.keys():\n",
        "   if type(d2[i])==dict:\n",
        "     print(d2[i])\n",
        "except:\n",
        "  print(\"Please check your logic\")"
      ],
      "metadata": {
        "id": "IGlAWjV3c_My"
      },
      "execution_count": null,
      "outputs": []
    },
    {
      "cell_type": "code",
      "source": [
        "#  Dictionary containing key as integers from 0 to 10 and values as the corresponding squares of the key integers."
      ],
      "metadata": {
        "id": "TI_ezZW5ffdp"
      },
      "execution_count": null,
      "outputs": []
    },
    {
      "cell_type": "code",
      "source": [
        "d3={}\n",
        "for i in range(0,11):\n",
        "  d3[i]=i**2"
      ],
      "metadata": {
        "id": "iM_GKFHKfsk_"
      },
      "execution_count": null,
      "outputs": []
    },
    {
      "cell_type": "code",
      "source": [
        "d3"
      ],
      "metadata": {
        "id": "Oy5WjdIEf0R0"
      },
      "execution_count": null,
      "outputs": []
    },
    {
      "cell_type": "code",
      "source": [
        "s=\"Pranjal\"\n",
        "#WAP in which key will be each alphabet present in a word and value will be s only for each case.\n",
        "d4={}\n",
        "for i in s:\n",
        "  d4[i]=s"
      ],
      "metadata": {
        "id": "KwD0klIohADh"
      },
      "execution_count": null,
      "outputs": []
    },
    {
      "cell_type": "code",
      "source": [
        "d4"
      ],
      "metadata": {
        "id": "Rkid1b11lGRs"
      },
      "execution_count": null,
      "outputs": []
    },
    {
      "cell_type": "code",
      "source": [
        "d = { \"ineuron\": {\"a\" : 23, \"b\": 34, \"c\" : 56}, \"course\" : {\"d\" : 45, \"e\" : 12}, \"x\": 99}"
      ],
      "metadata": {
        "id": "3R6FXt6Kla5C"
      },
      "execution_count": null,
      "outputs": []
    },
    {
      "cell_type": "code",
      "source": [
        "# WAP to print the maximum value present in the above dictionary."
      ],
      "metadata": {
        "id": "a-7BKQRNmNr2"
      },
      "execution_count": null,
      "outputs": []
    },
    {
      "cell_type": "code",
      "source": [
        "try:\n",
        "  max = 0\n",
        "  for i in d.values():\n",
        "   #print(i)\n",
        "    for j in i.values():\n",
        "      print(j)\n",
        "      if (max<d[j]):\n",
        "        max=d[j]\n",
        "  print(max)\n",
        "except:\n",
        "  print(\"Please check your logic\")"
      ],
      "metadata": {
        "id": "BY5uqDG6tSBP"
      },
      "execution_count": null,
      "outputs": []
    }
  ]
}