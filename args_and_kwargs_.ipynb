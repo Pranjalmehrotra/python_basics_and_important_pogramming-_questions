{
  "nbformat": 4,
  "nbformat_minor": 0,
  "metadata": {
    "colab": {
      "private_outputs": true,
      "provenance": []
    },
    "kernelspec": {
      "name": "python3",
      "display_name": "Python 3"
    },
    "language_info": {
      "name": "python"
    }
  },
  "cells": [
    {
      "cell_type": "code",
      "execution_count": null,
      "metadata": {
        "id": "ES2St5dni9mC"
      },
      "outputs": [],
      "source": [
        "#KEY NOTES FOR FUNCTIONS:\n",
        "#- Print function will always return the nontype of the value.\n",
        "#- If the function is giving the output with the print statement then its return type would be also nontype and we will not be able to perform any kind of operations with that function.\n",
        "#- In order to remove this ambiguity, we would be suing the return type.   "
      ]
    },
    {
      "cell_type": "markdown",
      "source": [
        "Case1. Output using print"
      ],
      "metadata": {
        "id": "11ljfWcxjocU"
      }
    },
    {
      "cell_type": "code",
      "source": [
        "def testing(a,b):\n",
        "  if type(a)!=str:\n",
        "    print(str(a)+b)\n",
        "  else:\n",
        "    print(a+b)"
      ],
      "metadata": {
        "id": "FBF10iUNjdTc"
      },
      "execution_count": null,
      "outputs": []
    },
    {
      "cell_type": "code",
      "source": [
        "testing(\"Mehrotra\",\"Pranjal\")"
      ],
      "metadata": {
        "id": "epCxKH_vjmVv"
      },
      "execution_count": null,
      "outputs": []
    },
    {
      "cell_type": "code",
      "source": [
        "type(testing(\"Mehrotra\",\"Pranjal\"))"
      ],
      "metadata": {
        "id": "G9EkwUXsjzNZ"
      },
      "execution_count": null,
      "outputs": []
    },
    {
      "cell_type": "code",
      "source": [
        "testing(4,\"Pranjal\") + \"Rajesh\"       # Not able to perform any other operation with the test1."
      ],
      "metadata": {
        "id": "H62VM4hHj89d"
      },
      "execution_count": null,
      "outputs": []
    },
    {
      "cell_type": "markdown",
      "source": [],
      "metadata": {
        "id": "81N2VPAxkF_7"
      }
    },
    {
      "cell_type": "markdown",
      "source": [
        "Case 2.Output using return"
      ],
      "metadata": {
        "id": "uovbvu7jjuJv"
      }
    },
    {
      "cell_type": "code",
      "source": [
        "def test1(a,b):\n",
        "  if type(a)!=str:\n",
        "    return str(a)+b\n",
        "  else:\n",
        "    return a+b"
      ],
      "metadata": {
        "id": "rFLlWKz5kO59"
      },
      "execution_count": null,
      "outputs": []
    },
    {
      "cell_type": "code",
      "source": [
        "test1(4,\"Pranjal\")"
      ],
      "metadata": {
        "id": "C1ypwhcvkUp5"
      },
      "execution_count": null,
      "outputs": []
    },
    {
      "cell_type": "code",
      "source": [
        "type(test1(4,\"Pranjal\"))"
      ],
      "metadata": {
        "id": "3JcxYUF3kXU0"
      },
      "execution_count": null,
      "outputs": []
    },
    {
      "cell_type": "code",
      "source": [
        "test1(4,\"Pranjal\") + \"Rajesh\" "
      ],
      "metadata": {
        "id": "GJfY_Umxka5W"
      },
      "execution_count": null,
      "outputs": []
    },
    {
      "cell_type": "markdown",
      "source": [
        "CONCEPT"
      ],
      "metadata": {
        "id": "M0_0oOpN9d8n"
      }
    },
    {
      "cell_type": "code",
      "source": [
        "def test3(a,b,c):\n",
        "  return a+2,b+3,c*8,a+b+c"
      ],
      "metadata": {
        "id": "B5VL9ISU9oo-"
      },
      "execution_count": null,
      "outputs": []
    },
    {
      "cell_type": "code",
      "source": [
        "test3(13,56,56) # Output is in the form of tupples."
      ],
      "metadata": {
        "id": "zLBkNnEB9yZ7"
      },
      "execution_count": null,
      "outputs": []
    },
    {
      "cell_type": "code",
      "source": [
        "# Suppose if we want to individually find out the values of a+2,b+ # and son then we can use the place holder as shown."
      ],
      "metadata": {
        "id": "MH0BUhsS94jb"
      },
      "execution_count": null,
      "outputs": []
    },
    {
      "cell_type": "code",
      "source": [
        "A,B,C,D=test3(13,56,56)"
      ],
      "metadata": {
        "id": "lkKc2PEF-Rks"
      },
      "execution_count": null,
      "outputs": []
    },
    {
      "cell_type": "code",
      "source": [
        "A   # It is holding a+2 where a=13."
      ],
      "metadata": {
        "id": "nv0CcPkK_BYg"
      },
      "execution_count": null,
      "outputs": []
    },
    {
      "cell_type": "code",
      "source": [
        "B   # It is holding b+3 where a=56."
      ],
      "metadata": {
        "id": "KyNAcsje_COa"
      },
      "execution_count": null,
      "outputs": []
    },
    {
      "cell_type": "code",
      "source": [
        "C  # It is holding c*8 where b=56."
      ],
      "metadata": {
        "id": "P_BQlXRU_B7I"
      },
      "execution_count": null,
      "outputs": []
    },
    {
      "cell_type": "code",
      "source": [
        "D  # It is holding a+b+c where a=13,b=56.c=56."
      ],
      "metadata": {
        "id": "eCDE--td_EJ9"
      },
      "execution_count": null,
      "outputs": []
    },
    {
      "cell_type": "code",
      "source": [
        "# Now suppose we are interested in the last variable for doing various airthmatic operations and we have to initilised only one variable for that.Then we can use the place holder "
      ],
      "metadata": {
        "id": "mdJ1yfKN_7M-"
      },
      "execution_count": null,
      "outputs": []
    },
    {
      "cell_type": "code",
      "source": [
        "_, _, _ ,D=test3(13,56,56)  "
      ],
      "metadata": {
        "id": "wfTwVqHSGyel"
      },
      "execution_count": null,
      "outputs": []
    },
    {
      "cell_type": "code",
      "source": [
        "_"
      ],
      "metadata": {
        "id": "sUSG0usYG8m8"
      },
      "execution_count": null,
      "outputs": []
    },
    {
      "cell_type": "code",
      "source": [
        "D"
      ],
      "metadata": {
        "id": "TUw0TcS9G9EK"
      },
      "execution_count": null,
      "outputs": []
    },
    {
      "cell_type": "code",
      "source": [
        "# DOCSTRING CONCEPT - for creating the docstring use the sentences between \"\"\"------------------\"\"\" between these quotations."
      ],
      "metadata": {
        "id": "ZM-SuEESHF7B"
      },
      "execution_count": null,
      "outputs": []
    },
    {
      "cell_type": "code",
      "source": [
        "def test8(l):\n",
        "  \"\"\"This is function returning the number of string character present in the data type input by the user\"\"\"            # Docstring of test8 has been created.\n",
        "  count=0\n",
        "  for i in l:\n",
        "    if type(i)==str:\n",
        "      count+=1\n",
        "  print(count)"
      ],
      "metadata": {
        "id": "O1bwEW6GOsAq"
      },
      "execution_count": null,
      "outputs": []
    },
    {
      "cell_type": "code",
      "source": [
        "l=[\"Pranjal\",\"Nishi,\",5,6,7,\"Rajesh\"]"
      ],
      "metadata": {
        "id": "RMryAkPIO4k2"
      },
      "execution_count": null,
      "outputs": []
    },
    {
      "cell_type": "code",
      "source": [
        "test8(l)"
      ],
      "metadata": {
        "id": "erbJrZgbO8nk"
      },
      "execution_count": null,
      "outputs": []
    },
    {
      "cell_type": "code",
      "source": [
        "# If we have to pass n no of arguments or parameters in our function."
      ],
      "metadata": {
        "id": "V2_-SYb0VqHD"
      },
      "execution_count": null,
      "outputs": []
    },
    {
      "cell_type": "code",
      "source": [
        "def test5(*args):    # With the help of this *args, we can pass any no of arguments inside function.\n",
        "  return args"
      ],
      "metadata": {
        "id": "S4_x6zObVwZw"
      },
      "execution_count": null,
      "outputs": []
    },
    {
      "cell_type": "code",
      "source": [
        "test5(3,4,5,6,7)     "
      ],
      "metadata": {
        "id": "QV0DGLFgV_9U"
      },
      "execution_count": null,
      "outputs": []
    },
    {
      "cell_type": "code",
      "source": [
        "test5(2,3,4)     "
      ],
      "metadata": {
        "id": "fBjnddtZWB6o"
      },
      "execution_count": null,
      "outputs": []
    },
    {
      "cell_type": "code",
      "source": [
        "test5(\"Pranjal\",\"Nishi\",\"Rajesh\",5,6,7,45.6)"
      ],
      "metadata": {
        "id": "B_B_zerZWFgo"
      },
      "execution_count": null,
      "outputs": []
    },
    {
      "cell_type": "code",
      "source": [
        "# Problem statement: N arguments we have to input and then dfo the concatanation of all the strings present in the argument."
      ],
      "metadata": {
        "id": "yYfrqzdYWMQR"
      },
      "execution_count": null,
      "outputs": []
    },
    {
      "cell_type": "code",
      "source": [
        "def concat(*args):\n",
        "  count=\"\"\n",
        "  for i in args:\n",
        "    if type(i)==str:\n",
        "      count = count+i\n",
        "  print(count)"
      ],
      "metadata": {
        "id": "IULKvGV5X8cF"
      },
      "execution_count": null,
      "outputs": []
    },
    {
      "cell_type": "code",
      "source": [
        "concat(\"Rajesh\",\"Nishi\",\"Guddu\",6,7,8,9)"
      ],
      "metadata": {
        "id": "wSKS5gMBYNDo"
      },
      "execution_count": null,
      "outputs": []
    },
    {
      "cell_type": "code",
      "source": [
        "def test5(*args,a,b,c,d):    \n",
        "  return args,a,b,c,d"
      ],
      "metadata": {
        "id": "qzu2GvwZYUJL"
      },
      "execution_count": null,
      "outputs": []
    },
    {
      "cell_type": "code",
      "source": [
        "test5(3,4,6,7,8,9) # Now this is giving error as the programme is expecting the args contain all the parameters and we have passed a,b,c,d also but no initilization has been done."
      ],
      "metadata": {
        "id": "YYjyW8V0aGgd"
      },
      "execution_count": null,
      "outputs": []
    },
    {
      "cell_type": "code",
      "source": [
        "test5(3,4,6,7,8,9,a=78,b=90,c=67,d=9999) # Assigning the values while passing in the parameters is the solution to the above problem which has been rectified here."
      ],
      "metadata": {
        "id": "JGMJvQ1faJeK"
      },
      "execution_count": null,
      "outputs": []
    },
    {
      "cell_type": "code",
      "source": [
        "# If we want to pass the key value pair as an n no of arguments inside the function then we have to use the kwargs concept."
      ],
      "metadata": {
        "id": "31-ygydCbPnn"
      },
      "execution_count": null,
      "outputs": []
    },
    {
      "cell_type": "code",
      "source": [
        "def test5(**kwargs):    \n",
        "  return kwargs"
      ],
      "metadata": {
        "id": "GNLl41dldbvL"
      },
      "execution_count": null,
      "outputs": []
    },
    {
      "cell_type": "code",
      "source": [
        "test5(a=5,b=89,c=788,Pranjal=\"Rajesh\")"
      ],
      "metadata": {
        "id": "o_SAvM1tdsu_"
      },
      "execution_count": null,
      "outputs": []
    },
    {
      "cell_type": "markdown",
      "source": [
        "**Imp questions on args and kwargs**"
      ],
      "metadata": {
        "id": "kCG5a_xA5rHB"
      }
    },
    {
      "cell_type": "markdown",
      "source": [
        "*args should be in between the variables defined and the **kwargs\n",
        "\n",
        "if args are defined in starting     ----> it will give error\n",
        "\n",
        "if args are defined after the kwargs---->it will give error"
      ],
      "metadata": {
        "id": "mauqaCy-7Vlg"
      }
    },
    {
      "cell_type": "code",
      "source": [
        "# Case 1 : args are defined in between arguments a,b and kwargs"
      ],
      "metadata": {
        "id": "9uwAr-FF7qDf"
      },
      "execution_count": null,
      "outputs": []
    },
    {
      "cell_type": "code",
      "source": [
        "def func(a, b, *args, option = False, **kwargs):\n",
        "    print(a, b)\n",
        "    print(args)\n",
        "    print(option)\n",
        "    print(kwargs)\n",
        "\n",
        "func(1, 3, 10, 20, Name = 'Tom', Salary = 60000)"
      ],
      "metadata": {
        "id": "ZMq_M9HldxeN"
      },
      "execution_count": null,
      "outputs": []
    },
    {
      "cell_type": "code",
      "source": [
        "# Case 2 : args are defined in the starting ----> it will give error"
      ],
      "metadata": {
        "id": "nrRfb_WX72Nx"
      },
      "execution_count": null,
      "outputs": []
    },
    {
      "cell_type": "code",
      "source": [
        "def func(*args,a,b ,option = False, **kwargs):\n",
        "    print(a, b)\n",
        "    print(args)\n",
        "    print(option)\n",
        "    print(kwargs)\n",
        "\n",
        "func( 10, 20, 30,50,Name = 'Tom', Salary = 60000)"
      ],
      "metadata": {
        "id": "Vr_Sa6je6IJ9"
      },
      "execution_count": null,
      "outputs": []
    },
    {
      "cell_type": "code",
      "source": [
        "# Case 3 : args are defined after the kwargs ----> it will give error"
      ],
      "metadata": {
        "id": "bCCmLL3Z8Bc_"
      },
      "execution_count": null,
      "outputs": []
    },
    {
      "cell_type": "code",
      "source": [
        "def func(a, b, **kwargs,*args):\n",
        "    print(a, b)\n",
        "    #print(args)\n",
        "    print(kwargs)\n",
        "\n",
        "func(1, 3, 10, 20, Name = 'Tom', Salary = 60000)\n"
      ],
      "metadata": {
        "id": "BvdmdZpn6KZB"
      },
      "execution_count": null,
      "outputs": []
    },
    {
      "cell_type": "code",
      "source": [
        "def func(a, b, *args,**kwargs):\n",
        "    print(a, b)\n",
        "    #print(args)\n",
        "    print(kwargs)\n",
        "\n",
        "func(1, 3, 10, 20, Name = 'Tom', Salary = 60000)\n"
      ],
      "metadata": {
        "id": "J7_Eq7Vf7Ctw"
      },
      "execution_count": null,
      "outputs": []
    }
  ]
}