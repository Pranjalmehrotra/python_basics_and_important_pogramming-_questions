{
  "nbformat": 4,
  "nbformat_minor": 0,
  "metadata": {
    "colab": {
      "private_outputs": true,
      "provenance": []
    },
    "kernelspec": {
      "name": "python3",
      "display_name": "Python 3"
    },
    "language_info": {
      "name": "python"
    }
  },
  "cells": [
    {
      "cell_type": "code",
      "execution_count": null,
      "metadata": {
        "id": "fgurjPxaDDI5"
      },
      "outputs": [],
      "source": [
        "import pandas as pd"
      ]
    },
    {
      "cell_type": "code",
      "source": [
        "df1=pd.read_csv(\"https://raw.githubusercontent.com/datasciencedojo/datasets/master/titanic.csv\") #Importing the titanic csv file from the github url"
      ],
      "metadata": {
        "id": "SwwrvaG0YMzN"
      },
      "execution_count": null,
      "outputs": []
    },
    {
      "cell_type": "code",
      "source": [
        "df1.head()"
      ],
      "metadata": {
        "id": "0LvuMQw2YQTi"
      },
      "execution_count": null,
      "outputs": []
    },
    {
      "cell_type": "code",
      "source": [
        "type(df1)  "
      ],
      "metadata": {
        "id": "Ck_5aenXYbUE"
      },
      "execution_count": null,
      "outputs": []
    },
    {
      "cell_type": "code",
      "source": [
        "df1.dtypes  # dtypes- is used to find out the datatyps of each column present in the dataset. "
      ],
      "metadata": {
        "id": "L6y8tHY8ZEb5"
      },
      "execution_count": null,
      "outputs": []
    },
    {
      "cell_type": "code",
      "source": [
        "# We have to find out the column names whose datatype is object type."
      ],
      "metadata": {
        "id": "BwcqpIsTZYmK"
      },
      "execution_count": null,
      "outputs": []
    },
    {
      "cell_type": "code",
      "source": [
        "df1.dtypes == \"object\""
      ],
      "metadata": {
        "id": "ovKuHeKoo560"
      },
      "execution_count": null,
      "outputs": []
    },
    {
      "cell_type": "code",
      "source": [
        "df1.dtypes[df1.dtypes == \"object\"]"
      ],
      "metadata": {
        "id": "UhQ99Bx6o-Y8"
      },
      "execution_count": null,
      "outputs": []
    },
    {
      "cell_type": "code",
      "source": [
        "# Findng out the column name whose dtype is int"
      ],
      "metadata": {
        "id": "40hp1boIpSuH"
      },
      "execution_count": null,
      "outputs": []
    },
    {
      "cell_type": "code",
      "source": [
        "df1.dtypes ==\"int\""
      ],
      "metadata": {
        "id": "uMvBatwLpYJv"
      },
      "execution_count": null,
      "outputs": []
    },
    {
      "cell_type": "code",
      "source": [
        "df2=df1.dtypes[df1.dtypes ==\"int\"]"
      ],
      "metadata": {
        "id": "sJtkcUlapbeI"
      },
      "execution_count": null,
      "outputs": []
    },
    {
      "cell_type": "code",
      "source": [
        "type(df1.dtypes)"
      ],
      "metadata": {
        "id": "rDCCQPWdpmIu"
      },
      "execution_count": null,
      "outputs": []
    },
    {
      "cell_type": "code",
      "source": [
        "df1.head()"
      ],
      "metadata": {
        "id": "kkXU1Z6vrD24"
      },
      "execution_count": null,
      "outputs": []
    },
    {
      "cell_type": "code",
      "source": [
        "# Fetching details of all the columns whose datatype == object."
      ],
      "metadata": {
        "id": "2lWMzXrqtHHH"
      },
      "execution_count": null,
      "outputs": []
    },
    {
      "cell_type": "code",
      "source": [
        "# APPROACH 1- WHEN NO OF COLUMNS IS VERY LESS( Manually adding object datatype inside the series of df1)"
      ],
      "metadata": {
        "id": "EyGIZhiGzBVN"
      },
      "execution_count": null,
      "outputs": []
    },
    {
      "cell_type": "code",
      "source": [
        "df1.dtypes"
      ],
      "metadata": {
        "id": "mf3xR5kcuUTt"
      },
      "execution_count": null,
      "outputs": []
    },
    {
      "cell_type": "code",
      "source": [
        "df1[[\"Name\",\"Sex\",\"Ticket\",\"Cabin\",\"Embarked\"]]"
      ],
      "metadata": {
        "id": "bmmHMggds0ME"
      },
      "execution_count": null,
      "outputs": []
    },
    {
      "cell_type": "code",
      "source": [
        "# The above approach is applicable when we have very less columns.\n",
        "# But if we have a very large number of columns present in our dataset \n",
        "# then we have to follow another apporach."
      ],
      "metadata": {
        "id": "DA_Sp5kNtCDH"
      },
      "execution_count": null,
      "outputs": []
    },
    {
      "cell_type": "code",
      "source": [
        "# METHOD 2- using index operations of dataframes"
      ],
      "metadata": {
        "id": "A8NeAX_uunZu"
      },
      "execution_count": null,
      "outputs": []
    },
    {
      "cell_type": "code",
      "source": [
        "df1.dtypes==\"object\""
      ],
      "metadata": {
        "id": "9y6CeiHNyNKH"
      },
      "execution_count": null,
      "outputs": []
    },
    {
      "cell_type": "code",
      "source": [
        "df1.dtypes[df1.dtypes==\"object\"]"
      ],
      "metadata": {
        "id": "ixBDAb_pyRZw"
      },
      "execution_count": null,
      "outputs": []
    },
    {
      "cell_type": "code",
      "source": [
        "df1.dtypes[df1.dtypes==\"object\"].index"
      ],
      "metadata": {
        "id": "dVF81h71yW7N"
      },
      "execution_count": null,
      "outputs": []
    },
    {
      "cell_type": "code",
      "source": [
        "df1[['Name', 'Sex', 'Ticket', 'Cabin', 'Embarked']]"
      ],
      "metadata": {
        "id": "0xm9dLwPyZAH"
      },
      "execution_count": null,
      "outputs": []
    },
    {
      "cell_type": "code",
      "source": [
        "# Fetching details of all the columns whose datatype == int."
      ],
      "metadata": {
        "id": "jTWKMRND0TX4"
      },
      "execution_count": null,
      "outputs": []
    },
    {
      "cell_type": "code",
      "source": [
        "df1.dtypes==\"int\""
      ],
      "metadata": {
        "id": "zweRYNYw0Wwr"
      },
      "execution_count": null,
      "outputs": []
    },
    {
      "cell_type": "code",
      "source": [
        "df1.dtypes[df1.dtypes==\"int\"]"
      ],
      "metadata": {
        "id": "eVuBhFVE0Z9o"
      },
      "execution_count": null,
      "outputs": []
    },
    {
      "cell_type": "code",
      "source": [
        "df1.dtypes[df1.dtypes==\"int\"].index"
      ],
      "metadata": {
        "id": "5HvrbMmT0iue"
      },
      "execution_count": null,
      "outputs": []
    },
    {
      "cell_type": "code",
      "source": [
        "df1[['PassengerId', 'Survived', 'Pclass', 'SibSp', 'Parch']]"
      ],
      "metadata": {
        "id": "TLm6DFdF0wLH"
      },
      "execution_count": null,
      "outputs": []
    },
    {
      "cell_type": "code",
      "source": [
        "df1.dtypes"
      ],
      "metadata": {
        "id": "Vr6JPrNf0_EP"
      },
      "execution_count": null,
      "outputs": []
    },
    {
      "cell_type": "code",
      "source": [
        "# Fetching details of all the columns whose datatype == float."
      ],
      "metadata": {
        "id": "TrsjiqKl1GRw"
      },
      "execution_count": null,
      "outputs": []
    },
    {
      "cell_type": "code",
      "source": [
        "df1.dtypes==\"float\""
      ],
      "metadata": {
        "id": "LZ0ra3Fu1MVS"
      },
      "execution_count": null,
      "outputs": []
    },
    {
      "cell_type": "code",
      "source": [
        "df1.dtypes[df1.dtypes==\"float\"]"
      ],
      "metadata": {
        "id": "U4c3ElUH1RMf"
      },
      "execution_count": null,
      "outputs": []
    },
    {
      "cell_type": "code",
      "source": [
        "df1.dtypes[df1.dtypes==\"float\"].index"
      ],
      "metadata": {
        "id": "3C3WWCMP1b-7"
      },
      "execution_count": null,
      "outputs": []
    },
    {
      "cell_type": "code",
      "source": [
        "df1[['Age', 'Fare']]"
      ],
      "metadata": {
        "id": "gCKztCNv1d7_"
      },
      "execution_count": null,
      "outputs": []
    },
    {
      "cell_type": "code",
      "source": [
        "# Doing Multiple datatypes using one datframe statement.Like we have to find out the data ypes of object as well as int 64."
      ],
      "metadata": {
        "id": "iZVOe7Du1lT0"
      },
      "execution_count": null,
      "outputs": []
    },
    {
      "cell_type": "code",
      "source": [
        "df2=(df1.dtypes =='object') | (df1.dtypes =='int64') # Well pandas use bitwise &(And), |(or) and each condition should be wrapped in a (). "
      ],
      "metadata": {
        "id": "x1u1CFOLc38-"
      },
      "execution_count": null,
      "outputs": []
    },
    {
      "cell_type": "code",
      "source": [
        "df1.dtypes[df2]"
      ],
      "metadata": {
        "id": "Ar-jXe9Yfkga"
      },
      "execution_count": null,
      "outputs": []
    },
    {
      "cell_type": "code",
      "source": [
        "df1.dtypes[df2].index "
      ],
      "metadata": {
        "id": "4viznTuufmob"
      },
      "execution_count": null,
      "outputs": []
    },
    {
      "cell_type": "code",
      "source": [
        "df1[['PassengerId', 'Survived', 'Pclass', 'Name', 'Sex', 'SibSp', 'Parch',\n",
        "       'Ticket', 'Cabin', 'Embarked']]"
      ],
      "metadata": {
        "id": "LuUsvBhSfxFp"
      },
      "execution_count": null,
      "outputs": []
    },
    {
      "cell_type": "code",
      "source": [
        "df1"
      ],
      "metadata": {
        "id": "61p1yInLj5XG"
      },
      "execution_count": null,
      "outputs": []
    },
    {
      "cell_type": "code",
      "source": [
        "# Performing initial analytics on tghe raw data we have been provided"
      ],
      "metadata": {
        "id": "3-AWuHB0xRwM"
      },
      "execution_count": null,
      "outputs": []
    },
    {
      "cell_type": "code",
      "source": [
        "# PART1. PERFORMING ANALYTICS ON NUMERICAL DATA"
      ],
      "metadata": {
        "id": "G9eHXNhdRWoY"
      },
      "execution_count": null,
      "outputs": []
    },
    {
      "cell_type": "code",
      "source": [
        "type(df1.describe())"
      ],
      "metadata": {
        "id": "wG811UAzxif2"
      },
      "execution_count": null,
      "outputs": []
    },
    {
      "cell_type": "code",
      "source": [
        "df1.describe()"
      ],
      "metadata": {
        "id": "JPb6vogXxtA2"
      },
      "execution_count": null,
      "outputs": []
    },
    {
      "cell_type": "code",
      "source": [
        "# The main disadvantage of the avove function is that df.describe()only gives the detailed description of the numerical data only.\n",
        "# For the categorical data,the df.describe() model gets failed."
      ],
      "metadata": {
        "id": "5-SGwOFCxvi_"
      },
      "execution_count": null,
      "outputs": []
    },
    {
      "cell_type": "code",
      "source": [
        "# Now we are perfroming analytics on CATEGORICAL DATA"
      ],
      "metadata": {
        "id": "2Smrr2nYRUFd"
      },
      "execution_count": null,
      "outputs": []
    },
    {
      "cell_type": "code",
      "source": [
        "df1.dtypes==\"object\""
      ],
      "metadata": {
        "id": "4UgZg08FP-ik"
      },
      "execution_count": null,
      "outputs": []
    },
    {
      "cell_type": "code",
      "source": [
        "df1.dtypes[df1.dtypes==\"object\"]"
      ],
      "metadata": {
        "id": "UFg6EqIWQB3c"
      },
      "execution_count": null,
      "outputs": []
    },
    {
      "cell_type": "code",
      "source": [
        "df1.dtypes[df1.dtypes==\"object\"].index"
      ],
      "metadata": {
        "id": "K9oOrDx1QQrG"
      },
      "execution_count": null,
      "outputs": []
    },
    {
      "cell_type": "code",
      "source": [
        "df3=df1[['Name', 'Sex', 'Ticket', 'Cabin', 'Embarked']]"
      ],
      "metadata": {
        "id": "6rybu1ZQQWP3"
      },
      "execution_count": null,
      "outputs": []
    },
    {
      "cell_type": "code",
      "source": [
        "df3.describe()"
      ],
      "metadata": {
        "id": "N1ToeeplRIh-"
      },
      "execution_count": null,
      "outputs": []
    },
    {
      "cell_type": "code",
      "source": [
        "# Here frequecy descibes number of times the top data of each column appears at the top."
      ],
      "metadata": {
        "id": "7BCOtv-ERMjQ"
      },
      "execution_count": null,
      "outputs": []
    },
    {
      "cell_type": "code",
      "source": [
        "df1.columns "
      ],
      "metadata": {
        "id": "I82dsyv3Tf7l"
      },
      "execution_count": null,
      "outputs": []
    },
    {
      "cell_type": "code",
      "source": [
        "type(df1[\"Name\"])"
      ],
      "metadata": {
        "id": "cqG8YoLHTib4"
      },
      "execution_count": null,
      "outputs": []
    },
    {
      "cell_type": "code",
      "source": [
        "df1[\"Name\"] # Here this is the series type and we have to perform the slicing operation."
      ],
      "metadata": {
        "id": "2_plFcHITpqK"
      },
      "execution_count": null,
      "outputs": []
    },
    {
      "cell_type": "code",
      "source": [
        "df1[\"Name\"][0:6:4]"
      ],
      "metadata": {
        "id": "pZb7-HF9U58e"
      },
      "execution_count": null,
      "outputs": []
    },
    {
      "cell_type": "code",
      "source": [
        "  df1"
      ],
      "metadata": {
        "id": "zM1EJBehU8d1"
      },
      "execution_count": null,
      "outputs": []
    },
    {
      "cell_type": "code",
      "source": [
        "# CERTAIN IMP OPERATIONS IN PANDAS"
      ],
      "metadata": {
        "id": "m4Xu4YUhcUN-"
      },
      "execution_count": null,
      "outputs": []
    },
    {
      "cell_type": "code",
      "source": [
        "# 1.INSETION OPERATION"
      ],
      "metadata": {
        "id": "SZjc4AVqcalh"
      },
      "execution_count": null,
      "outputs": []
    },
    {
      "cell_type": "code",
      "source": [
        "# Now I have to add one more column whose title would be \"Pranjal\"."
      ],
      "metadata": {
        "id": "lk4TBB9IZ8_m"
      },
      "execution_count": null,
      "outputs": []
    },
    {
      "cell_type": "code",
      "source": [
        "df1[\"Pranjal\"] = \"Mehrotra\" # It has created new column Pranjal whose value has been entered as Mehrotra in all the cells of that column."
      ],
      "metadata": {
        "id": "EVtKUqsjaJx-"
      },
      "execution_count": null,
      "outputs": []
    },
    {
      "cell_type": "code",
      "source": [
        "df1"
      ],
      "metadata": {
        "id": "42pxPb0Jazj4"
      },
      "execution_count": null,
      "outputs": []
    },
    {
      "cell_type": "code",
      "source": [
        "df1[\"Pranjal\"]"
      ],
      "metadata": {
        "id": "OOE1wMkSbaT8"
      },
      "execution_count": null,
      "outputs": []
    },
    {
      "cell_type": "code",
      "source": [
        "# Filtering out all the recods where Age is null(NaN)."
      ],
      "metadata": {
        "id": "2RPJK3flbuaJ"
      },
      "execution_count": null,
      "outputs": []
    },
    {
      "cell_type": "code",
      "source": [
        "# METHOD 1 - BY USING isnull() function"
      ],
      "metadata": {
        "id": "cjYqNSn8tV79"
      },
      "execution_count": null,
      "outputs": []
    },
    {
      "cell_type": "code",
      "source": [
        "df2=df1[\"Age\"].isnull()   #  Approach to find out the Null values present in column values."
      ],
      "metadata": {
        "id": "EOHJerE6gUAg"
      },
      "execution_count": null,
      "outputs": []
    },
    {
      "cell_type": "code",
      "source": [
        "df1[df2]"
      ],
      "metadata": {
        "id": "xGpO1ymzhnmM"
      },
      "execution_count": null,
      "outputs": []
    },
    {
      "cell_type": "code",
      "source": [
        "df1[df2][\"Name\"] # Series datatype"
      ],
      "metadata": {
        "id": "_JrkKHnp7wCZ"
      },
      "execution_count": null,
      "outputs": []
    },
    {
      "cell_type": "code",
      "source": [
        "df1[df2][[\"Name\"]] # Dataframe"
      ],
      "metadata": {
        "id": "QK_Hx-E57zoz"
      },
      "execution_count": null,
      "outputs": []
    },
    {
      "cell_type": "code",
      "source": [
        "# METHOD 2 - USING NUMPHY."
      ],
      "metadata": {
        "id": "zARtA-ECiD8U"
      },
      "execution_count": null,
      "outputs": []
    },
    {
      "cell_type": "code",
      "source": [
        "import numpy as np "
      ],
      "metadata": {
        "id": "jEQ-0dLa0v4y"
      },
      "execution_count": null,
      "outputs": []
    },
    {
      "cell_type": "code",
      "source": [
        "row_index_null=np.where(df1[\"Age\"].isnull()==True) # Provides the index nos where Age has null value in it."
      ],
      "metadata": {
        "id": "KlaN-73R0UY6"
      },
      "execution_count": null,
      "outputs": []
    },
    {
      "cell_type": "code",
      "source": [
        "# For fetching the data in row vise way, we have to use iloc. "
      ],
      "metadata": {
        "id": "9CFgxRjq1NM2"
      },
      "execution_count": null,
      "outputs": []
    },
    {
      "cell_type": "code",
      "source": [
        "df1.iloc[0:3]"
      ],
      "metadata": {
        "id": "mVcNlicO2j8m"
      },
      "execution_count": null,
      "outputs": []
    },
    {
      "cell_type": "code",
      "source": [
        "df1.iloc[5]"
      ],
      "metadata": {
        "id": "zFi4OQl22oBX"
      },
      "execution_count": null,
      "outputs": []
    },
    {
      "cell_type": "code",
      "source": [
        "df1.iloc[row_index_null]"
      ],
      "metadata": {
        "id": "DnmQH1NY3iFr"
      },
      "execution_count": null,
      "outputs": []
    },
    {
      "cell_type": "code",
      "source": [
        "df1.iloc[row_index_null][[\"Name\"]] # Data frame type"
      ],
      "metadata": {
        "id": "tmlq584j5Bl_"
      },
      "execution_count": null,
      "outputs": []
    },
    {
      "cell_type": "code",
      "source": [
        "df1.iloc[row_index_null][\"Name\"]  # Series datatype"
      ],
      "metadata": {
        "id": "dJbEJRPq7PVA"
      },
      "execution_count": null,
      "outputs": []
    },
    {
      "cell_type": "code",
      "source": [
        "type(df1.iloc[row_index_null][\"Name\"])"
      ],
      "metadata": {
        "id": "fUkoIWp47Zm2"
      },
      "execution_count": null,
      "outputs": []
    },
    {
      "cell_type": "code",
      "source": [
        "type(df1.iloc[row_index_null][[\"Name\"]])"
      ],
      "metadata": {
        "id": "hqiSdzV37bcf"
      },
      "execution_count": null,
      "outputs": []
    },
    {
      "cell_type": "code",
      "source": [
        "df1"
      ],
      "metadata": {
        "id": "m2GuklOo7rI3"
      },
      "execution_count": null,
      "outputs": []
    },
    {
      "cell_type": "code",
      "source": [
        "# Looking for the persons names who has given the maximum fair."
      ],
      "metadata": {
        "id": "CBvezJr0KfTj"
      },
      "execution_count": null,
      "outputs": []
    },
    {
      "cell_type": "code",
      "source": [
        "try:\n",
        "  df1.dtypes[df1[[\"Fare\"]]==max(df1[[\"Fare\"]])]\n",
        "except:\n",
        "  print(\"Indexing a Series with DataFrame is not supported, use the appropriate DataFrame column\")"
      ],
      "metadata": {
        "id": "lQrX5WYCKr0y"
      },
      "execution_count": null,
      "outputs": []
    },
    {
      "cell_type": "code",
      "source": [
        "import numpy as np"
      ],
      "metadata": {
        "id": "52Ot30EqMtt5"
      },
      "execution_count": null,
      "outputs": []
    },
    {
      "cell_type": "code",
      "source": [
        "df1[\"Fare\"]==max(df1[\"Fare\"])         "
      ],
      "metadata": {
        "id": "qhQ0Afe-PZOJ"
      },
      "execution_count": null,
      "outputs": []
    },
    {
      "cell_type": "code",
      "source": [
        "max_fare=np.where(df1[\"Fare\"]==max(df1[\"Fare\"]))      # In pandas do any sort of operations with respect to dataframes."
      ],
      "metadata": {
        "id": "LBpH1TMLMzC_"
      },
      "execution_count": null,
      "outputs": []
    },
    {
      "cell_type": "code",
      "source": [
        "df1.iloc[max_fare]     "
      ],
      "metadata": {
        "id": "KU7CCMLiNJFI"
      },
      "execution_count": null,
      "outputs": []
    },
    {
      "cell_type": "code",
      "source": [
        "df1.describe()"
      ],
      "metadata": {
        "id": "z7BtINstNKxf"
      },
      "execution_count": null,
      "outputs": []
    },
    {
      "cell_type": "code",
      "source": [
        "# Now we want to print only name ,age and sex:"
      ],
      "metadata": {
        "id": "TLeAc251N2j_"
      },
      "execution_count": null,
      "outputs": []
    },
    {
      "cell_type": "code",
      "source": [
        "# Case 1 : Using numpy"
      ],
      "metadata": {
        "id": "fG1opHOSar1U"
      },
      "execution_count": null,
      "outputs": []
    },
    {
      "cell_type": "code",
      "source": [
        "import numpy as np"
      ],
      "metadata": {
        "id": "Edi-xCR6EfGp"
      },
      "execution_count": null,
      "outputs": []
    },
    {
      "cell_type": "code",
      "source": [
        "df1[\"Fare\"]==max(df1[\"Fare\"])"
      ],
      "metadata": {
        "id": "GXvtRrMnEOWA"
      },
      "execution_count": null,
      "outputs": []
    },
    {
      "cell_type": "code",
      "source": [
        "maximum_fare=np.where(df1[\"Fare\"]==max(df1[\"Fare\"]))"
      ],
      "metadata": {
        "id": "V4Qf9cwrEi0U"
      },
      "execution_count": null,
      "outputs": []
    },
    {
      "cell_type": "code",
      "source": [
        "maximum_fare"
      ],
      "metadata": {
        "id": "mQVyk7l6Ep7c"
      },
      "execution_count": null,
      "outputs": []
    },
    {
      "cell_type": "code",
      "source": [
        "df1.iloc[maximum_fare] # Always prefer this sort when u are using numpy. "
      ],
      "metadata": {
        "id": "4h4v7KvLEr6E"
      },
      "execution_count": null,
      "outputs": []
    },
    {
      "cell_type": "code",
      "source": [
        "df1.iloc[maximum_fare][[\"Name\",\"Age\",\"Sex\"]]"
      ],
      "metadata": {
        "id": "pcXmMYwpNoYI"
      },
      "execution_count": null,
      "outputs": []
    },
    {
      "cell_type": "code",
      "source": [
        "df1[maximum_fare] #  Column wise operation is not possible in case of numpy."
      ],
      "metadata": {
        "id": "vtruw7IaNcv6"
      },
      "execution_count": null,
      "outputs": []
    },
    {
      "cell_type": "code",
      "source": [
        "# Case 2 : Using normal approach without numpy. "
      ],
      "metadata": {
        "id": "n5a-6BeOazhq"
      },
      "execution_count": null,
      "outputs": []
    },
    {
      "cell_type": "code",
      "source": [
        "df1[\"Fare\"]==max(df1[\"Fare\"])    # Finding out the maxium fare indices present in the dataset."
      ],
      "metadata": {
        "id": "LwwzU4SWa4gH"
      },
      "execution_count": null,
      "outputs": []
    },
    {
      "cell_type": "code",
      "source": [
        "df1[df1[\"Fare\"]==max(df1[\"Fare\"])]   # Now printing the required dataset corresponding to the indices."
      ],
      "metadata": {
        "id": "s4xgEUshilW4"
      },
      "execution_count": null,
      "outputs": []
    },
    {
      "cell_type": "code",
      "source": [
        "df1[df1[\"Fare\"]==max(df1[\"Fare\"])][[\"Name\",\"Sex\",\"Age\"]] # Printing only Name,Age and Sex."
      ],
      "metadata": {
        "id": "FzuvMBFmnIcx"
      },
      "execution_count": null,
      "outputs": []
    },
    {
      "cell_type": "code",
      "source": [
        "# If we want to find out the indices without any dataset."
      ],
      "metadata": {
        "id": "O88Bsl69kwv6"
      },
      "execution_count": null,
      "outputs": []
    },
    {
      "cell_type": "code",
      "source": [
        "maximum_fare=df1[df1[\"Fare\"]==max(df1[\"Fare\"])].index"
      ],
      "metadata": {
        "id": "atthNPt-k0ht"
      },
      "execution_count": null,
      "outputs": []
    },
    {
      "cell_type": "code",
      "source": [
        "maximum_fare"
      ],
      "metadata": {
        "id": "c-RmD8TTk-J4"
      },
      "execution_count": null,
      "outputs": []
    },
    {
      "cell_type": "code",
      "source": [
        "# Separating the male and female data"
      ],
      "metadata": {
        "id": "V5fz0iz9NegD"
      },
      "execution_count": null,
      "outputs": []
    },
    {
      "cell_type": "code",
      "source": [
        "df1"
      ],
      "metadata": {
        "id": "gq78FTE_WLld"
      },
      "execution_count": null,
      "outputs": []
    },
    {
      "cell_type": "code",
      "source": [
        "male_data=df1[df1[\"Sex\"]==\"male\"].index"
      ],
      "metadata": {
        "id": "LOm0vUmbWNk_"
      },
      "execution_count": null,
      "outputs": []
    },
    {
      "cell_type": "code",
      "source": [
        "df1.iloc[male_data]"
      ],
      "metadata": {
        "id": "4JtMT6ZPWSMB"
      },
      "execution_count": null,
      "outputs": []
    },
    {
      "cell_type": "code",
      "source": [
        "# Female Data"
      ],
      "metadata": {
        "id": "iiWkxOPzWneU"
      },
      "execution_count": null,
      "outputs": []
    },
    {
      "cell_type": "code",
      "source": [
        "female_data=df1[df1[\"Sex\"]==\"female\"].index"
      ],
      "metadata": {
        "id": "OP8V25ptWweL"
      },
      "execution_count": null,
      "outputs": []
    },
    {
      "cell_type": "code",
      "source": [
        "df1.iloc[female_data]"
      ],
      "metadata": {
        "id": "Y9AYQ-FQW0Eu"
      },
      "execution_count": null,
      "outputs": []
    },
    {
      "cell_type": "code",
      "source": [
        "df1[df1[\"Sex\"]==\"male\"]  # Method 2 "
      ],
      "metadata": {
        "id": "P2onOxkLW7ZQ"
      },
      "execution_count": null,
      "outputs": []
    },
    {
      "cell_type": "code",
      "source": [
        "df1[df1[\"Sex\"]==\"female\"] # Method 2"
      ],
      "metadata": {
        "id": "ctlrY_3YaU1c"
      },
      "execution_count": null,
      "outputs": []
    },
    {
      "cell_type": "code",
      "source": [
        "df1"
      ],
      "metadata": {
        "id": "X5UXEukNaZey"
      },
      "execution_count": null,
      "outputs": []
    },
    {
      "cell_type": "code",
      "source": [
        "# Question: Fetch dataset where SibSp=1 and Cabin = NaN"
      ],
      "metadata": {
        "id": "jdgusnOboE9k"
      },
      "execution_count": null,
      "outputs": []
    },
    {
      "cell_type": "code",
      "source": [
        "df1[(df1[\"SibSp\"]== 1) & (df1[\"Cabin\"]== \"C85\")].index #  This is for finding the postion of the required data"
      ],
      "metadata": {
        "id": "Ha143ve2oXCC"
      },
      "execution_count": null,
      "outputs": []
    },
    {
      "cell_type": "code",
      "source": [
        "df1[(df1[\"SibSp\"]== 1) & (df1[\"Cabin\"]== \"C85\")]"
      ],
      "metadata": {
        "id": "vIzWrQ7RrjJH"
      },
      "execution_count": null,
      "outputs": []
    },
    {
      "cell_type": "code",
      "source": [
        "df1[(df1[\"SibSp\"]== 1) & (df1[\"Cabin\"]== \"NaN\")]"
      ],
      "metadata": {
        "id": "jv0w4xPXr2DA"
      },
      "execution_count": null,
      "outputs": []
    },
    {
      "cell_type": "code",
      "source": [
        "(df1[\"SibSp\"]== 1) & (df1[\"Cabin\"]== 'NaN')"
      ],
      "metadata": {
        "id": "Cvs7-hk0ovn3"
      },
      "execution_count": null,
      "outputs": []
    },
    {
      "cell_type": "code",
      "source": [
        "# NEW OPERATION -  CREATE A NEW COLUMN(xyz) AND IT HOLDS THE SUMMATION OF  Pclass + SibSp"
      ],
      "metadata": {
        "id": "CliwU0csrGQZ"
      },
      "execution_count": null,
      "outputs": []
    },
    {
      "cell_type": "code",
      "source": [
        "df1"
      ],
      "metadata": {
        "id": "N-KSD3xtsSuW"
      },
      "execution_count": null,
      "outputs": []
    },
    {
      "cell_type": "code",
      "source": [
        "df1[\"XYZ\"]=df1[\"Pclass\"]+df1[\"SibSp\"]  # It adds the value of the Pclass + SibSp of elements respectively."
      ],
      "metadata": {
        "id": "dJuUPNnosTQv"
      },
      "execution_count": null,
      "outputs": []
    },
    {
      "cell_type": "code",
      "source": [
        "df1"
      ],
      "metadata": {
        "id": "IISDk7a2iQGM"
      },
      "execution_count": null,
      "outputs": []
    },
    {
      "cell_type": "code",
      "source": [
        "# Try to filter out the record where age is maximum present in the df1."
      ],
      "metadata": {
        "id": "Zui6Cfy1iYV3"
      },
      "execution_count": null,
      "outputs": []
    },
    {
      "cell_type": "code",
      "source": [
        "df1[df1[\"Age\"]==max(df1[\"Age\"])] #Displaying all the records corresponding to that index number."
      ],
      "metadata": {
        "id": "2TFbFMu8DdbI"
      },
      "execution_count": null,
      "outputs": []
    },
    {
      "cell_type": "code",
      "source": [
        "# Displaying only name and sex for the maxium age present in the dataset."
      ],
      "metadata": {
        "id": "HoAVG6rpDxzG"
      },
      "execution_count": null,
      "outputs": []
    },
    {
      "cell_type": "code",
      "source": [
        "df1[df1[\"Age\"]==max(df1[\"Age\"])][[\"Name\",\"Sex\"]]"
      ],
      "metadata": {
        "id": "RtAk_p9PD21E"
      },
      "execution_count": null,
      "outputs": []
    },
    {
      "cell_type": "code",
      "source": [
        "df1"
      ],
      "metadata": {
        "id": "g9ywwekiD9Dx"
      },
      "execution_count": null,
      "outputs": []
    },
    {
      "cell_type": "code",
      "source": [
        "#  DELETION OPERATION"
      ],
      "metadata": {
        "id": "hscpk39LEvH0"
      },
      "execution_count": null,
      "outputs": []
    },
    {
      "cell_type": "code",
      "source": [
        "#  Now we want to delete column XYZ present in the dataframe."
      ],
      "metadata": {
        "id": "NhkbUA3ZFKmz"
      },
      "execution_count": null,
      "outputs": []
    },
    {
      "cell_type": "code",
      "source": [
        "#  In python, axis =0 indicates data present in the row while axis= 1 represents data present in the column.axis value  can have 2 values only . (0 and 1)"
      ],
      "metadata": {
        "id": "xwwuvTUDHFM7"
      },
      "execution_count": null,
      "outputs": []
    },
    {
      "cell_type": "code",
      "source": [
        "df1.drop('XYZ',axis=1) #  Here XYZ is present in the column and hence manually we have to set the axis value to 1."
      ],
      "metadata": {
        "id": "74q2g6SZFSg-"
      },
      "execution_count": null,
      "outputs": []
    },
    {
      "cell_type": "code",
      "source": [
        "# Now the XYZ has been deleted from the dataframe df1 which is the required task we have to perfrom."
      ],
      "metadata": {
        "id": "ScW91exZFa03"
      },
      "execution_count": null,
      "outputs": []
    },
    {
      "cell_type": "code",
      "source": [
        "df1 # Now we have deleted XYZ above but it is showing XYZ deleted during the runtime but after the run time we are calling df1, it is again showing that XYZ is still there."
      ],
      "metadata": {
        "id": "um7OinHAd8-J"
      },
      "execution_count": null,
      "outputs": []
    },
    {
      "cell_type": "code",
      "source": [
        "# To solve the above problem we have to use the inplace =True."
      ],
      "metadata": {
        "id": "lsLW1T5HenE4"
      },
      "execution_count": null,
      "outputs": []
    },
    {
      "cell_type": "code",
      "source": [
        "df1.drop(\"XYZ\",axis=1,inplace=True) # Perfect syntax for deleting the any dataset compelety from the data frame."
      ],
      "metadata": {
        "id": "JmVg5vxofvb2"
      },
      "execution_count": null,
      "outputs": []
    },
    {
      "cell_type": "code",
      "source": [
        "df1"
      ],
      "metadata": {
        "id": "FUn294nnfz8i"
      },
      "execution_count": null,
      "outputs": []
    },
    {
      "cell_type": "code",
      "source": [
        "df1 # Now XYZ has been deleted completely."
      ],
      "metadata": {
        "id": "Ew2uE_5lf1d_"
      },
      "execution_count": null,
      "outputs": []
    },
    {
      "cell_type": "code",
      "source": [
        "# Deleting the Multiple Columns From the Dataset."
      ],
      "metadata": {
        "id": "j0tWcbedf6ET"
      },
      "execution_count": null,
      "outputs": []
    },
    {
      "cell_type": "code",
      "source": [
        "df1.drop([\"XYZ\",\"Embarked\"],axis=1,inplace=True) # Now multiple columns has been delted."
      ],
      "metadata": {
        "id": "5drdoxT_46bW"
      },
      "execution_count": null,
      "outputs": []
    },
    {
      "cell_type": "code",
      "source": [
        "df1"
      ],
      "metadata": {
        "id": "QTsqrrs15y4h"
      },
      "execution_count": null,
      "outputs": []
    },
    {
      "cell_type": "code",
      "source": [
        "# Deleting the records at particular positions."
      ],
      "metadata": {
        "id": "0BOsz_TY6Wtc"
      },
      "execution_count": null,
      "outputs": []
    },
    {
      "cell_type": "code",
      "source": [
        "df1.drop(1)  "
      ],
      "metadata": {
        "id": "JAlo8m9ZxVtw"
      },
      "execution_count": null,
      "outputs": []
    },
    {
      "cell_type": "code",
      "source": [
        "df1"
      ],
      "metadata": {
        "id": "tGfoIvjc00yK"
      },
      "execution_count": null,
      "outputs": []
    },
    {
      "cell_type": "code",
      "source": [
        "# FILTER OUT ALL THE RECODRS WHERE AGE>30."
      ],
      "metadata": {
        "id": "SsAplwr7yIho"
      },
      "execution_count": null,
      "outputs": []
    },
    {
      "cell_type": "code",
      "source": [
        "import pandas as pd\n",
        "df2=pd.read_csv(\"https://raw.githubusercontent.com/datasciencedojo/datasets/master/titanic.csv\")"
      ],
      "metadata": {
        "id": "itdTZRJe0wjD"
      },
      "execution_count": null,
      "outputs": []
    },
    {
      "cell_type": "code",
      "source": [
        "df2"
      ],
      "metadata": {
        "id": "xaVwVb-j11rO"
      },
      "execution_count": null,
      "outputs": []
    },
    {
      "cell_type": "code",
      "source": [
        "age_above_30=df2[df2[\"Age\"]>30].index"
      ],
      "metadata": {
        "id": "QAf89pBQ15fP"
      },
      "execution_count": null,
      "outputs": []
    },
    {
      "cell_type": "code",
      "source": [
        "df1.iloc[age_above_30]"
      ],
      "metadata": {
        "id": "lEjw4KkQ1_QM"
      },
      "execution_count": null,
      "outputs": []
    },
    {
      "cell_type": "code",
      "source": [
        "df2[df2[\"Age\"]>30]"
      ],
      "metadata": {
        "id": "KoiLNki32Rjk"
      },
      "execution_count": null,
      "outputs": []
    },
    {
      "cell_type": "code",
      "source": [
        "# Performing Operations where null value is present in the dataframe df2."
      ],
      "metadata": {
        "id": "XK9LrgPW2bbT"
      },
      "execution_count": null,
      "outputs": []
    },
    {
      "cell_type": "code",
      "source": [
        "# In python we have an inbuilt function for removing all the null values present in the data frame."
      ],
      "metadata": {
        "id": "rZ1a4BQ6svLB"
      },
      "execution_count": null,
      "outputs": []
    },
    {
      "cell_type": "code",
      "source": [
        "df2.dropna()"
      ],
      "metadata": {
        "id": "u4T-_asBxnJP"
      },
      "execution_count": null,
      "outputs": []
    },
    {
      "cell_type": "code",
      "source": [
        "df2"
      ],
      "metadata": {
        "id": "d8fL1uUGxojd"
      },
      "execution_count": null,
      "outputs": []
    },
    {
      "cell_type": "code",
      "source": [
        "df2"
      ],
      "metadata": {
        "id": "rb4-Edp_-zV6"
      },
      "execution_count": null,
      "outputs": []
    },
    {
      "cell_type": "code",
      "source": [
        "df3=df2.tail(12)"
      ],
      "metadata": {
        "id": "XuYLy4Fn-0AR"
      },
      "execution_count": null,
      "outputs": []
    },
    {
      "cell_type": "code",
      "source": [
        "df3"
      ],
      "metadata": {
        "id": "N1O5NTwN-6st"
      },
      "execution_count": null,
      "outputs": []
    },
    {
      "cell_type": "code",
      "source": [
        "df3.dropna(thresh=5)"
      ],
      "metadata": {
        "id": "U1u3Piqe_Kkx"
      },
      "execution_count": null,
      "outputs": []
    },
    {
      "cell_type": "code",
      "source": [
        "df3.dropna(thresh=11)"
      ],
      "metadata": {
        "id": "bNEAgzgQ_XUQ"
      },
      "execution_count": null,
      "outputs": []
    },
    {
      "cell_type": "code",
      "source": [
        "df3.dropna(thresh=12) # Doubt to be discussed during doubt clearing session."
      ],
      "metadata": {
        "id": "NrFfZVdMBWfi"
      },
      "execution_count": null,
      "outputs": []
    },
    {
      "cell_type": "code",
      "source": [
        "df3"
      ],
      "metadata": {
        "id": "ZKK7312uB6jf"
      },
      "execution_count": null,
      "outputs": []
    },
    {
      "cell_type": "code",
      "source": [
        "# Filling all the NULL values with some data."
      ],
      "metadata": {
        "id": "c0JCvM6UjbzZ"
      },
      "execution_count": null,
      "outputs": []
    },
    {
      "cell_type": "code",
      "source": [
        "df3.fillna(\"PRANJAL\") # It has filled all the NaN values with the PRANJAL."
      ],
      "metadata": {
        "id": "5sYTtizhjhr5"
      },
      "execution_count": null,
      "outputs": []
    },
    {
      "cell_type": "code",
      "source": [
        "# WE HAVE TO FILL THE NaN VALUES WITH THE AVERAGE OF THE AGE."
      ],
      "metadata": {
        "id": "Tm6tQ02FpHFP"
      },
      "execution_count": null,
      "outputs": []
    },
    {
      "cell_type": "code",
      "source": [
        "df3.fillna(value=df2[\"Age\"].mean())      # It will fill all the values of NaN with the mean of age i.e whose value is 29.699118."
      ],
      "metadata": {
        "id": "zOIoWMUbrGvq"
      },
      "execution_count": null,
      "outputs": []
    },
    {
      "cell_type": "code",
      "source": [
        "# If you have any doubt regarding the null values present in the column of any data frame, then u can do the isnull() and verify your doubt."
      ],
      "metadata": {
        "id": "TL1kavKYosxi"
      },
      "execution_count": null,
      "outputs": []
    },
    {
      "cell_type": "code",
      "source": [
        "df3.isnull() "
      ],
      "metadata": {
        "id": "5QaKny5Tjo0K"
      },
      "execution_count": null,
      "outputs": []
    },
    {
      "cell_type": "code",
      "source": [
        "df3.isnull().sum() "
      ],
      "metadata": {
        "id": "qtcGkwmqmh1R"
      },
      "execution_count": null,
      "outputs": []
    },
    {
      "cell_type": "code",
      "source": [
        "# Now if we want to fill any specific NaN record i.e NaN value present in specific column."
      ],
      "metadata": {
        "id": "IVmkMFOxnStq"
      },
      "execution_count": null,
      "outputs": []
    },
    {
      "cell_type": "code",
      "source": [
        "#Let Suppose we have to replace the NaN of age with the Average of the age values in the Dataframe."
      ],
      "metadata": {
        "id": "6jwAAiOXAW5P"
      },
      "execution_count": null,
      "outputs": []
    },
    {
      "cell_type": "code",
      "source": [
        "df2[\"Age\"]=df2[\"Age\"].replace(\"NaN\",df2[\"Age\"].mean()) # This will not work as we have not used np.NaN"
      ],
      "metadata": {
        "id": "ivxAEWITAuWj"
      },
      "execution_count": null,
      "outputs": []
    },
    {
      "cell_type": "code",
      "source": [
        "df2.isnull().sum()"
      ],
      "metadata": {
        "id": "_HSaBmTsA_uQ"
      },
      "execution_count": null,
      "outputs": []
    },
    {
      "cell_type": "code",
      "source": [
        "import numpy as np"
      ],
      "metadata": {
        "id": "5Ec5JmuZB8js"
      },
      "execution_count": null,
      "outputs": []
    },
    {
      "cell_type": "code",
      "source": [
        "df2[\"Age\"]=df2[\"Age\"].replace(np.NaN,df2[\"Age\"].mean())"
      ],
      "metadata": {
        "id": "uxzTPwYQA-0i"
      },
      "execution_count": null,
      "outputs": []
    },
    {
      "cell_type": "code",
      "source": [
        "df2"
      ],
      "metadata": {
        "id": "7f8q2uNwB44-"
      },
      "execution_count": null,
      "outputs": []
    },
    {
      "cell_type": "code",
      "source": [
        "df2.isnull().sum()"
      ],
      "metadata": {
        "id": "i_IykaNDB_xM"
      },
      "execution_count": null,
      "outputs": []
    },
    {
      "cell_type": "code",
      "source": [
        "import pandas as pd\n",
        "df1 = pd.read_csv(\"https://raw.githubusercontent.com/datasciencedojo/datasets/master/titanic.csv\")\n",
        "df2=df1.head()\n",
        "#df2=df1['Embarked']=='S'\n",
        "#df3=df2[['SibSp']]\n",
        "#df3\n",
        "#df2"
      ],
      "metadata": {
        "id": "zHDSktI1H2l7"
      },
      "execution_count": null,
      "outputs": []
    },
    {
      "cell_type": "code",
      "source": [
        "df2.groupby('Embarked')"
      ],
      "metadata": {
        "id": "CVV_WiEPtKiX"
      },
      "execution_count": null,
      "outputs": []
    },
    {
      "cell_type": "code",
      "source": [
        "df2.loc[df2[\"Embarked\"]==\"S\"]"
      ],
      "metadata": {
        "id": "XxaUcaMd6a1E"
      },
      "execution_count": null,
      "outputs": []
    }
  ]
}