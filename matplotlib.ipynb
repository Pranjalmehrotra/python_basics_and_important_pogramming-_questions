{
  "nbformat": 4,
  "nbformat_minor": 0,
  "metadata": {
    "colab": {
      "private_outputs": true,
      "provenance": []
    },
    "kernelspec": {
      "name": "python3",
      "display_name": "Python 3"
    },
    "language_info": {
      "name": "python"
    }
  },
  "cells": [
    {
      "cell_type": "code",
      "source": [
        "import matplotlib.pyplot as plt\n",
        "%matplotlib inline"
      ],
      "metadata": {
        "id": "LbFTCZ6bE1JM"
      },
      "execution_count": null,
      "outputs": []
    },
    {
      "cell_type": "code",
      "source": [
        "import numpy as np\n",
        "x= np.linspace(0,5,11)\n",
        "x"
      ],
      "metadata": {
        "id": "DQ5gh1irFHVb"
      },
      "execution_count": null,
      "outputs": []
    },
    {
      "cell_type": "code",
      "source": [
        "y = x**2\n",
        "y"
      ],
      "metadata": {
        "id": "ANHvZ6m-FxuC"
      },
      "execution_count": null,
      "outputs": []
    },
    {
      "cell_type": "code",
      "source": [
        "#FUNCTIONAL METHOD OF PLOTTING\n",
        "plt.plot(x,y)\n",
        "plt.xlabel('X-Label')\n",
        "plt.ylabel('Y-Label')\n",
        "plt.title('Title')"
      ],
      "metadata": {
        "id": "AllwfTmrF06C"
      },
      "execution_count": null,
      "outputs": []
    },
    {
      "cell_type": "code",
      "source": [
        "# Creating the subplots in pandas\n",
        "# Here all the graphs will be made along  one row i.e(1 row---> 3 graphs along the column)\n",
        "plt.subplot(1,3,1)\n",
        "plt.plot(x,y,\"r\")\n",
        "\n",
        "plt.subplot(1,3,2)\n",
        "plt.plot(y,x,\"b\")\n",
        "\n",
        "plt.subplot(1,3,3)\n",
        "plt.plot(x+y,y,\"g\")\n"
      ],
      "metadata": {
        "id": "ZPTOySiXGSm9"
      },
      "execution_count": null,
      "outputs": []
    },
    {
      "cell_type": "code",
      "source": [
        "# Here all the graphs will be made along  one column i.e(1 column---> 3 graphs along the row)\n",
        "\n",
        "plt.subplot(3,1,1)\n",
        "plt.plot(x,y,\"r\")\n",
        "\n",
        "plt.subplot(3,1,2)\n",
        "plt.plot(y,x,\"b\")\n",
        "\n",
        "plt.subplot(3,1,3)\n",
        "plt.plot(x+y,y,\"g\")"
      ],
      "metadata": {
        "id": "kgOVibE3XyMb"
      },
      "execution_count": null,
      "outputs": []
    },
    {
      "cell_type": "code",
      "source": [
        "x= [1,2,3,4,5,6]\n",
        "y= [99,89,45,67,99,100]\n",
        "plt.plot(x,y)\n",
        "plt.xlabel('Petrol(Lts)')\n",
        "plt.ylabel('Distance Travelled (Kms)')\n",
        "plt.title('Distance travelled v/s Petrol Consumed')\n",
        "plt.axhline(70,linewidth = 4,linestyle = \"--\",color=\"r\")"
      ],
      "metadata": {
        "id": "sQKw0ZGJsoI8"
      },
      "execution_count": null,
      "outputs": []
    },
    {
      "cell_type": "code",
      "source": [
        "# OBJECT ORIENTED METHOD OF PLOTTING\n",
        "fig = plt.figure()\n",
        "axes = fig.add_axes([0.1,0.1,0.8,0.80])\n",
        "axes.plot(x,y)\n",
        "axes.set_xlabel('X-Label')\n",
        "axes.set_ylabel('Y-Label')\n",
        "axes.set_title('Object Oriented Method of Graph Method 2')"
      ],
      "metadata": {
        "id": "gg9wibBdJL6d"
      },
      "execution_count": null,
      "outputs": []
    },
    {
      "cell_type": "code",
      "source": [
        "fig = plt.figure()\n",
        "# [left,bottom,widht,height]\n",
        "axes1 = fig.add_axes([0.1,0.1,0.8,0.80])\n",
        "axes2 = fig.add_axes([0.4,0.5,0.2,0.2])\n",
        "axes1.plot(x,y)\n",
        "#axes2.plot(x,y)\n",
        "axes2.plot(y,x)\n",
        "axes2.set_title('Smaller-Plot')\n",
        "axes1.set_title('Larger-Plot')"
      ],
      "metadata": {
        "id": "9IyIFOcinqF7"
      },
      "execution_count": null,
      "outputs": []
    },
    {
      "cell_type": "markdown",
      "source": [
        "**Sub-Plots in Object Oriented Graphical Way**"
      ],
      "metadata": {
        "id": "xh6EYQsvqpiY"
      }
    },
    {
      "cell_type": "code",
      "source": [
        "fig,axes = plt.subplots(ncols=1,nrows=2)\n",
        "plt.tight_layout()\n",
        "#axes[0].plot(x,y)\n",
        "#axes[1].plot(y,x)\n",
        "for current_axes in axes:\n",
        "  print(current_axes)\n",
        "  current_axes.plot(x,y)"
      ],
      "metadata": {
        "id": "QGKWCNy2nr_A"
      },
      "execution_count": null,
      "outputs": []
    },
    {
      "cell_type": "markdown",
      "source": [
        "**Figure Size**"
      ],
      "metadata": {
        "id": "sCEmjJcst7fR"
      }
    },
    {
      "cell_type": "code",
      "source": [
        "# figsize = (Val1,Val2)\n",
        "# Val1 = Widht Value\n",
        "# Val2 = Height Value\n",
        "fig,axes = plt.subplots(ncols=1,nrows=2,figsize = (8,2))\n",
        "axes[0].plot(x,y)\n",
        "axes[1].plot(y,x)"
      ],
      "metadata": {
        "id": "niC4v3Y1q1Cs"
      },
      "execution_count": null,
      "outputs": []
    },
    {
      "cell_type": "markdown",
      "source": [
        "**PLOT APPEARANCE**"
      ],
      "metadata": {
        "id": "sS99XTYdKb2Q"
      }
    },
    {
      "cell_type": "code",
      "source": [
        "fig = plt.figure()\n",
        "axes1 = fig.add_axes([0,0,1,1])\n",
        "#axes1.plot(x,y)\n",
        "\n",
        "# Editing the color of the graph\n",
        "#axes1.plot(x,y,color='green')\n",
        "\n",
        "# Editing the width of the line of the graph\n",
        "#axes1.plot(x,y,color = 'green',linewidth = 13)\n",
        "\n",
        "# Giving the shpe to the line graph\n",
        "# axes1.plot(x,y,color = 'green',linewidth = 3,linestyle = '--')\n",
        "\n",
        "# Maker argument in graph\n",
        "axes1.plot(x,y,color = 'green',linewidth = 3,marker= '*')"
      ],
      "metadata": {
        "id": "C6SPqOaluRaw"
      },
      "execution_count": null,
      "outputs": []
    },
    {
      "cell_type": "markdown",
      "source": [
        "**Histogram**"
      ],
      "metadata": {
        "id": "2GgU945enDbd"
      }
    },
    {
      "cell_type": "code",
      "source": [
        "from matplotlib import pyplot as plt\n",
        "import numpy as np\n",
        " \n",
        " \n",
        "# Creating dataset\n",
        "a = np.array([22, 87, 5, 43, 56,\n",
        "              73, 55, 54, 11,\n",
        "              20, 51, 5, 79, 31,\n",
        "              27])\n",
        " \n",
        "# Creating histogram\n",
        "fig, ax = plt.subplots(figsize =(10, 7))\n",
        "ax.hist(a, bins = [0, 25, 50, 75, 100],edgecolor='r')\n",
        " \n",
        "# Show plot\n",
        "plt.show()"
      ],
      "metadata": {
        "id": "E2y655qnLLZe"
      },
      "execution_count": null,
      "outputs": []
    },
    {
      "cell_type": "code",
      "source": [
        "from matplotlib import pyplot as plt\n",
        "import numpy as np\n",
        "plt.hist([1,3,1,3,3,2],3,color='yellow',edgecolor=\"r\")\n",
        "plt.show()"
      ],
      "metadata": {
        "id": "5eLevSJCqAmq"
      },
      "execution_count": null,
      "outputs": []
    },
    {
      "cell_type": "code",
      "source": [
        "from matplotlib import pyplot as plt\n",
        "import numpy as np\n",
        "plt.hist([1,3,3,3,3,2,2],3,color='yellow')\n",
        "plt.show()"
      ],
      "metadata": {
        "id": "tHIsqH8rqOR0"
      },
      "execution_count": null,
      "outputs": []
    },
    {
      "cell_type": "code",
      "source": [
        "from matplotlib import pyplot as plt\n",
        "import numpy as np\n",
        "plt.hist([1,3,1,3,2,2],color='yellow')\n",
        "plt.show()"
      ],
      "metadata": {
        "id": "hCALyilyqfij"
      },
      "execution_count": null,
      "outputs": []
    },
    {
      "cell_type": "code",
      "source": [
        "from matplotlib import pyplot as plt\n",
        "import numpy as np\n",
        "plt.hist([1,3,3,3,2,2],3,color='yellow')\n",
        "plt.show()"
      ],
      "metadata": {
        "id": "A6mUC4mMqnj7"
      },
      "execution_count": null,
      "outputs": []
    }
  ]
}