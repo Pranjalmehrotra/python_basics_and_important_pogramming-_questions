{
  "nbformat": 4,
  "nbformat_minor": 0,
  "metadata": {
    "colab": {
      "private_outputs": true,
      "provenance": []
    },
    "kernelspec": {
      "name": "python3",
      "display_name": "Python 3"
    },
    "language_info": {
      "name": "python"
    }
  },
  "cells": [
    {
      "cell_type": "markdown",
      "source": [
        "This Colab is meant for the practise purpose only for the non oil and gas questions."
      ],
      "metadata": {
        "id": "a20lQ0w2yeTf"
      }
    },
    {
      "cell_type": "markdown",
      "source": [],
      "metadata": {
        "id": "Hg14gNw5ydyQ"
      }
    },
    {
      "cell_type": "markdown",
      "source": [
        "Question 1:\n",
        "You are driving a little too fast, and a police officer stops you. Write a function to return one of 3 possible results: \"No ticket\", \"Small ticket\", or \"Big Ticket\". If your speed is 60 or less, the result is \"No Ticket\". If speed is between 61 and 80 inclusive, the result is \"Small Ticket\". If speed is 81 or more, the result is \"Big Ticket\". Unless it is your birthday (encoded as a boolean value in the parameters of the function) -- on your birthday, your speed can be 5 higher in all cases."
      ],
      "metadata": {
        "id": "vTHWSRfBnNKn"
      }
    },
    {
      "cell_type": "code",
      "source": [
        "caughting_speed=float(input(\"Enter the speed: \"))\n",
        "birthday=input(\"You have your birthday Yes or No ?: \")\n",
        "if birthday ==\"Yes\":\n",
        "  if (caughting_speed>86):\n",
        "    print(\"Big Ticket\")\n",
        "  elif 65<=caughting_speed<=85:\n",
        "    print(\"Small Tickets\")\n",
        "  else:\n",
        "    print(\"No tickets\")\n",
        "elif birthday ==\"No\":\n",
        "  if (caughting_speed>80):\n",
        "    print(\"Big Ticket\")\n",
        "  elif 60<=caughting_speed<=80:\n",
        "    print(\"Small Tickets\")\n",
        "  else:\n",
        "    print(\"No tickets\")"
      ],
      "metadata": {
        "id": "XMIP9WT5u4ym"
      },
      "execution_count": null,
      "outputs": []
    },
    {
      "cell_type": "markdown",
      "source": [
        "Question 3. Create an array of 10 Fives using numphy"
      ],
      "metadata": {
        "id": "Kj7TiW1hnVvz"
      }
    },
    {
      "cell_type": "code",
      "source": [
        "import numpy as np\n",
        "arr=np.ones(10)*5\n",
        "arr"
      ],
      "metadata": {
        "id": "O-Pj6vSVncaL"
      },
      "execution_count": null,
      "outputs": []
    },
    {
      "cell_type": "markdown",
      "source": [
        "Question 4.Take the name as the input from the user and print it in the reverse format"
      ],
      "metadata": {
        "id": "jUODJRQcDJ6I"
      }
    },
    {
      "cell_type": "code",
      "source": [
        "name=\"Pranjal\"\n",
        "name_new=name[8:: -1]\n",
        "print(name_new)"
      ],
      "metadata": {
        "id": "Rs09fylODhM3"
      },
      "execution_count": null,
      "outputs": []
    },
    {
      "cell_type": "markdown",
      "source": [
        "Question 5.Take the age as the input from the user and print it in the reverse format.\n"
      ],
      "metadata": {
        "id": "bz8HX1SkEQ7I"
      }
    },
    {
      "cell_type": "code",
      "source": [
        "my_age = input(\"Enter the present age\")\n",
        "new_age= my_age[:: -1]\n",
        "new_age"
      ],
      "metadata": {
        "id": "L0RnRo19EWex"
      },
      "execution_count": null,
      "outputs": []
    },
    {
      "cell_type": "markdown",
      "source": [
        "Question 6: Printing the elemets of the list/nested list in the vertical format."
      ],
      "metadata": {
        "id": "P40OOunIbY7v"
      }
    },
    {
      "cell_type": "code",
      "source": [
        "l=[1,2,3,4,5,6]\n",
        "for x in l:\n",
        "  print(x)"
      ],
      "metadata": {
        "id": "PURiv5gYbhIS"
      },
      "execution_count": null,
      "outputs": []
    },
    {
      "cell_type": "code",
      "source": [
        "fruits =     [\"Strawberries\", \"Nectarines\", \"Apples\"]\n",
        "vegetables = [\"Spinach\", \"Kale\", \"Tomatoes\"]\n",
        "names=       [\"Pranjal\",\"Monish\",\"Gunjan\"]\n",
        "dirty_dozen = [fruits,vegetables,names] \n",
        "for n in dirty_dozen:        # Mehtod to print the elements of the list in the vertical method\n",
        "  print(n)                   # Dont use print(dirty_dozen(n)) just print n"
      ],
      "metadata": {
        "id": "Q0HnmdFZb0ln"
      },
      "execution_count": null,
      "outputs": []
    },
    {
      "cell_type": "markdown",
      "source": [
        "Concept 7: Genrating the random list containg random numbers whose length has been defined by the user."
      ],
      "metadata": {
        "id": "P61z86fup4qO"
      }
    },
    {
      "cell_type": "code",
      "source": [
        "import random\n",
        "random_list = []\n",
        "length=int(input(\"Enter the len of the string \"))\n",
        "for i in range(0,length):\n",
        "  n=random.randint(0,255)\n",
        "  random_list.append(n)\n",
        "print(random_list)"
      ],
      "metadata": {
        "id": "sSy-mwWEqOE_"
      },
      "execution_count": null,
      "outputs": []
    },
    {
      "cell_type": "markdown",
      "source": [
        "Concept 8: Genrating the random list containg random numbers whose length has not been defined by the user."
      ],
      "metadata": {
        "id": "Ci43IuOqrpvp"
      }
    },
    {
      "cell_type": "code",
      "source": [
        "import random\n",
        "randomlist = []\n",
        "for i in range(0,5):\n",
        "  n = random.randint(1,30)\n",
        "  randomlist.append(n)\n",
        "print(randomlist) "
      ],
      "metadata": {
        "id": "LBNKajvtrrHC"
      },
      "execution_count": null,
      "outputs": []
    },
    {
      "cell_type": "markdown",
      "source": [
        "Question 9:Extracting each element in a vertical manner without using any inbuilt function of the python.\n",
        "\n"
      ],
      "metadata": {
        "id": "wHC3vA32mCuj"
      }
    },
    {
      "cell_type": "code",
      "source": [
        "string=input(\"Enter the string: \")\n",
        "length=len(string)\n",
        "count=0\n",
        "for i in range(0,length):\n",
        " print(string[count])\n",
        " count=count+1"
      ],
      "metadata": {
        "id": "EFfWicicl0nm"
      },
      "execution_count": null,
      "outputs": []
    },
    {
      "cell_type": "markdown",
      "source": [
        "Question 10:Reversing of the string and extracting each element in a vertical manner without using any inbuilt function of the python."
      ],
      "metadata": {
        "id": "s87MhMlGlrks"
      }
    },
    {
      "cell_type": "code",
      "source": [
        "string=input(\"Enter the string: \")\n",
        "length=len(string)-1\n",
        "count=length\n",
        "for i in range(0,length+1):\n",
        " print(string[count])\n",
        " count=count-1"
      ],
      "metadata": {
        "id": "YuRH5mk2lqX1"
      },
      "execution_count": null,
      "outputs": []
    },
    {
      "cell_type": "markdown",
      "source": [
        "Question 11:Reversing of the string and printing the reverse string in same line without using any inbuilt function of the python."
      ],
      "metadata": {
        "id": "LsHjjHcgmm-X"
      }
    },
    {
      "cell_type": "code",
      "source": [
        "reverse=\" \"\n",
        "string=input(\"Enter the string: \")\n",
        "length=len(string)-1                #  Always use -1 otherwise error index out of range will happen each and every time\n",
        "count=length\n",
        "for i in range(0,length+1):         #  Always use length + 1 for looping in each and every alphabet.\n",
        " new_string=string[count]\n",
        " reverse=reverse+new_string\n",
        " count=count-1\n",
        "print(reverse)"
      ],
      "metadata": {
        "id": "QYLIdocTmMwr"
      },
      "execution_count": null,
      "outputs": []
    },
    {
      "cell_type": "markdown",
      "source": [
        "Question 11:Write a python function to generate and return the list of all possible sentences created from the given lists of Subject, Verb and Object.\n",
        "Note: The sentence should contain only one subject, verb and object each.\n",
        "Sample Input\tExpected Output\n",
        "subjects=[“I”, “You”]\n",
        "verbs=[“Play”, “Love”]\n",
        "objects=[“Hockey”,”Football”]\tI Play Hockey\n",
        "I Play Football\n",
        "I Love Hockey\n",
        "I Love Football\n",
        "You Play Hockey\n",
        "You Play Football\n",
        "You Love Hockey\n",
        "You Love Football"
      ],
      "metadata": {
        "id": "50fLFr7XtkSz"
      }
    },
    {
      "cell_type": "code",
      "source": [
        "def generate_sentences(subjects,verbs,objects):\n",
        "\t#start writing your code here\n",
        "\tlist=[]\n",
        "\tfor i in subjects:\n",
        "\t    for j in verbs:\n",
        "\t        for k in objects:\n",
        "\t            list.append(i+\" \"+j+\" \"+k)\n",
        "\treturn list \n",
        "\t           \n",
        "subjects=[\"I\",\"You\"]\n",
        "verbs=[\"love\", \"play\"]\n",
        "objects=[\"Hockey\",\"Football\"]\n",
        "print(generate_sentences(subjects,verbs,objects))"
      ],
      "metadata": {
        "id": "-Wgr9178tjmp"
      },
      "execution_count": null,
      "outputs": []
    },
    {
      "cell_type": "markdown",
      "source": [
        "Question 12 : Programme to find out the maxium element present in the list without using the max keyword."
      ],
      "metadata": {
        "id": "GJRI9YTuq8jq"
      }
    },
    {
      "cell_type": "code",
      "source": [
        "l=[40,90,30,120,240]\n",
        "max   = 0\n",
        "for i in l:\n",
        "  if(max < i):\n",
        "    max=i\n",
        "  print(max)"
      ],
      "metadata": {
        "id": "i7F-h1VEq7w0"
      },
      "execution_count": null,
      "outputs": []
    },
    {
      "cell_type": "markdown",
      "source": [
        "Question 13 : Programme to input n paramters from the user, check if list is present and if it is present then again check  if the strings are availble in list and if present then concatante all the strings together and display the output."
      ],
      "metadata": {
        "id": "BkA8cXiNYtoY"
      }
    },
    {
      "cell_type": "code",
      "source": [
        "def conc(l):\n",
        "  count=\" \"\n",
        "  for i in l: \n",
        "    if type(i)==list:\n",
        "      for j in i:\n",
        "        if type(j)==str:\n",
        "          count = count + \" \" + j\n",
        "  print(count)"
      ],
      "metadata": {
        "id": "UMYFP7inYs8x"
      },
      "execution_count": null,
      "outputs": []
    },
    {
      "cell_type": "code",
      "source": [
        "l1=[1,2,3,4,5,6,[1,2,3,\"PRANJAL\",\"NISHI\",\"GUDDU\"],\"PRANJAL\",\"RAJESH\",\"VINSHU\"] \n",
        "conc(l1)"
      ],
      "metadata": {
        "id": "a_bcgWEHZ045"
      },
      "execution_count": null,
      "outputs": []
    },
    {
      "cell_type": "markdown",
      "source": [
        "Question 14 : Programme to input n paramters from the user, and if string is present in the n paratmers then concatante all the strings together and display the output."
      ],
      "metadata": {
        "id": "X-psJcWXZlXl"
      }
    },
    {
      "cell_type": "code",
      "source": [
        "def conc(l):\n",
        "  count=\" \"\n",
        "  for i in l:\n",
        "    if type(i)==str:\n",
        "      count = count+\" \"+ i\n",
        "  print(count)"
      ],
      "metadata": {
        "id": "AOwtQLQdZvyE"
      },
      "execution_count": null,
      "outputs": []
    },
    {
      "cell_type": "code",
      "source": [
        "l=[1,2,3,4,5,6,[1,2,3,\"PRANJAL\",\"NISHI\",\"GUDDU\"],\"PRANJAL\",\"RAJESH\",\"VINSHU\"] \n",
        "conc(l)"
      ],
      "metadata": {
        "id": "HoDow1YXZ0VY"
      },
      "execution_count": null,
      "outputs": []
    },
    {
      "cell_type": "markdown",
      "source": [
        "Question 15 : W.A.P To input the number from the user and print out hte difference between the sum of the digits at the odd posiitons and sum of the digits at the even positions.\n",
        " Test cases\n",
        " Case 1 ---> num = 5476\n",
        " sum_even = 4 + 6 = 10\n",
        " sum_ odd = 5+7 = 12\n",
        " sum_diff = 11 -10 = 1\n",
        "\n",
        " Case 2 ----> num =9834698765123\n",
        " sum_ odd = 36\n",
        " sum_even = 35\n",
        " diff_sum = 1 "
      ],
      "metadata": {
        "id": "urBnhleCwqiR"
      }
    },
    {
      "cell_type": "code",
      "source": [
        "num = input(\"Enter the number from the user: \")\n",
        "n = len(num)\n",
        "sum_odd = 0\n",
        "sum_even = 0\n",
        "sum_diff = 0\n",
        "for i in range(0,n,2):\n",
        "  sum_odd = sum_odd + int(num[i])\n",
        "print(\"The value of sum of the odd positions in the number are {}\".format(sum_odd))\n",
        "for j in range(1,n,2):\n",
        "  sum_even = sum_even + int(num[j])\n",
        "print(\"The value of sum of the even positions in the number are {}\".format(sum_even))\n",
        "sum_diff = sum_odd - sum_even\n",
        "print(\"The value of the sum of the differece between the odd and the even is {}\".format(sum_diff))\n",
        "\n",
        "\n",
        "# Test cases\n",
        "# Case 1 ---> num = 5476\n",
        "# sum_even = 4 + 6 = 10\n",
        "# sum_ odd = 5+7 = 12\n",
        "# sum_diff = 11 -10 = 1\n",
        "\n",
        "# Case 2 ----> num =9834698765123\n",
        "# sum_ odd = 36\n",
        "# sum_even = 35\n",
        "# diff_sum = 1"
      ],
      "metadata": {
        "id": "e-nLBRReluhs"
      },
      "execution_count": null,
      "outputs": []
    },
    {
      "cell_type": "markdown",
      "source": [
        "Question 17 : WAP to print the Febonici series upto the 10 terms as shown below:\n",
        "0,1,1,2,3,5,8,13,21,34,55,89"
      ],
      "metadata": {
        "id": "DHRfAH6xj6A_"
      }
    },
    {
      "cell_type": "code",
      "source": [
        "num = int(input(\"Enter the number from the user: \"))\n",
        "a = 0\n",
        "b = 1\n",
        "print(a)\n",
        "print(b)\n",
        "for i in range(num):\n",
        "  nextNumber = a+b\n",
        "  print(nextNumber)\n",
        "  a = b\n",
        "  b = nextNumber"
      ],
      "metadata": {
        "id": "zqzgcPAdkKoZ"
      },
      "execution_count": null,
      "outputs": []
    },
    {
      "cell_type": "markdown",
      "source": [
        "Question18: WAP to convert the decimal number to binary number(Number conversion Problem)"
      ],
      "metadata": {
        "id": "N9sAMD6QwFtJ"
      }
    },
    {
      "cell_type": "code",
      "source": [
        "num = int(input(\"Enter the number you want the binary conversion: \"))\n",
        "binary_num = 0\n",
        "num_decimal = num\n",
        "i = 0\n",
        "while(num!= 0):\n",
        "  digit =  num % 2\n",
        "  #print(\"The value of digit is {}\".format(digit))\n",
        "  #print(digit)\n",
        "  binary_num = (pow(10,i)* digit) + binary_num\n",
        "  #print(\"The value of sum is {}\".format(binary_num))\n",
        "  i = i+ 1 \n",
        "  #print(i)\n",
        "  num = int(num/2)\n",
        "  #print(num)\n",
        "#sum_1 = str(sum)\n",
        "print(\"The value of the binary conversion of the required number {} is:{}\".format(num_decimal,binary_num))\n",
        "#sum_actual = sum_1[:: -1]\n",
        "#print(\"The value of the sum_actual is {}\".format(sum_actual))"
      ],
      "metadata": {
        "id": "2fMm5zsUw-zG"
      },
      "execution_count": null,
      "outputs": []
    },
    {
      "cell_type": "markdown",
      "source": [
        "Question19: WAP to convert the binary number to decimal number(Number conversion Problem)"
      ],
      "metadata": {
        "id": "wEw8YyqFNLH7"
      }
    },
    {
      "cell_type": "code",
      "source": [
        "# Method 1 -----> Using concepts of remainder and divisor.\n",
        "\n",
        "num = int(input(\"Enter the number you want the binary conversion: \"))\n",
        "num_binary = num\n",
        "decimal_num = 0\n",
        "i = 0\n",
        "while(num!= 0):\n",
        "  digit =  num % 10\n",
        "  #print(\"The value of digit is {}\".format(digit))\n",
        "  #print(digit)\n",
        "  decimal_num = (pow(2,i)* digit) + decimal_num\n",
        "  #print(\"The value of sum is {}\".format(binary_num))   \n",
        "  i = i+ 1 \n",
        "  #print(i)\n",
        "  num = int(num/10)\n",
        "  #print(num)\n",
        "#sum_1 = str(sum)\n",
        "print(\"The value of the decimal conversion of the required binary number {} is: {}\".format(num_binary,decimal_num))\n",
        "#sum_actual = sum_1[:: -1]\n",
        "#print(\"The value of the sum_actual is {}\".format(sum_actual))"
      ],
      "metadata": {
        "id": "33XSMWwXf8A_"
      },
      "execution_count": null,
      "outputs": []
    },
    {
      "cell_type": "code",
      "source": [
        "# Method 2 ----> Using the concepts of bits. \n",
        "# Still pending"
      ],
      "metadata": {
        "id": "Qcc17Pzchjeq"
      },
      "execution_count": null,
      "outputs": []
    },
    {
      "cell_type": "markdown",
      "source": [
        "Question 20:WAP to input the number from the user(integer) and reverse the number."
      ],
      "metadata": {
        "id": "2jxpavxz3iui"
      }
    },
    {
      "cell_type": "code",
      "source": [
        "num = int(input(\"Enter the number: \"))\n",
        "num_input = num\n",
        "reverse_number = 0\n",
        "while(num!= 0):\n",
        "  digit = num % 10\n",
        "  reverse_number = 10*reverse_number + digit\n",
        "  num = int(num/10)\n",
        "print(\"The Reverse Number for the Input Number {} is {}\".format(num_input,reverse_number))\n"
      ],
      "metadata": {
        "id": "9rDIS6hXbr0O"
      },
      "execution_count": null,
      "outputs": []
    },
    {
      "cell_type": "markdown",
      "source": [
        "Question 21 :WAP to input the number from the user(integer) and print the number in same format."
      ],
      "metadata": {
        "id": "VU1qqK_E4y4b"
      }
    },
    {
      "cell_type": "code",
      "source": [
        "num = int(input(\"Enter the number: \"))\n",
        "num_input=num\n",
        "number = 0\n",
        "i = 0\n",
        "while(num!= 0):\n",
        "  digit = num % 10\n",
        "  number = pow(10,i)*digit + number\n",
        "  i=i+1\n",
        "  num = int(num/10)\n",
        "print(\"The Same Order Number for the Input Number {} is {}\".format(num_input,number))"
      ],
      "metadata": {
        "id": "OIArlhrCaG7e"
      },
      "execution_count": null,
      "outputs": []
    },
    {
      "cell_type": "markdown",
      "source": [
        "Question 22 :WAP to write the function of the nCr using the function and print the value of ncr using the input given by the user."
      ],
      "metadata": {
        "id": "7Z9HabXw4QBl"
      }
    },
    {
      "cell_type": "code",
      "source": [
        "# Factorial Code Logic\n",
        "\n",
        "def factorialFunction(n):\n",
        " fact = 1\n",
        " for i in range(1,n+1):\n",
        "  fact = fact * i\n",
        " return fact\n",
        "\n",
        "# Combination Code Logic\n",
        "\n",
        "def combinationFunction(n,r):\n",
        "  Numerator = factorialFunction(n)\n",
        "  Denominator = factorialFunction(r) * factorialFunction(n-r)\n",
        "  valueNumber = Numerator/Denominator\n",
        "  print(\"The actual combination value of the number is {}\".format(valueNumber))\n",
        "\n",
        "#Permutation Code Logic\n",
        "\n",
        "def permutationFunction(n,r):\n",
        "  Numerator = factorialFunction(n)\n",
        "  #print(\"The value of Numerator is {}\".format(Numerator))\n",
        "  Denominator = factorialFunction(r)\n",
        "  #print(\"The value of Denominator is {}\".format(Denominator))\n",
        "  valueNumber = Numerator/Denominator\n",
        "  print(\"The actual permutation value of the number is {}\".format(valueNumber))\n",
        "\n",
        "\n",
        "# Driver code\n",
        "\n",
        "n = 9\n",
        "r = 6\n",
        "combinationFunction(n,r)\n",
        "permutationFunction(n,r)"
      ],
      "metadata": {
        "id": "guzkUrZsiWXN"
      },
      "execution_count": null,
      "outputs": []
    },
    {
      "cell_type": "markdown",
      "source": [
        "Question 23:Given an amount, find the minimum number of notes of different denominations that sum up to the given amount. Starting from the highest denomination note, try to accommodate as many notes as possible for a given amount.\n",
        "We may assume that we have infinite supply of notes of values {2000, 500, 200, 100, 50, 20, 10, 5, 1} \n",
        "Input : 800\n",
        "Output : Currency  Count \n",
        "         500 : 1\n",
        "         200 : 1\n",
        "         100 : 1\n",
        "\n",
        "Input : 2456\n",
        "Output : Currency  Count\n",
        "         2000 : 1\n",
        "         200 : 2\n",
        "         50 : 1\n",
        "         5 : 1\n",
        "         1 : 1"
      ],
      "metadata": {
        "id": "iLYV1PSivxpv"
      }
    },
    {
      "cell_type": "code",
      "source": [
        "amount = int(input(\"Enter the amount: \"))\n",
        "currentCount = [2000,500,200,100,50,10,5,1]\n",
        "for i in currentCount:\n",
        "  minimumNote = (amount/i)\n",
        "  minimumNote= int(minimumNote)\n",
        "  print(\"The value of note of {} is {}\".format(i,minimumNote))\n",
        "  amount = amount- minimumNote*i"
      ],
      "metadata": {
        "id": "jEoh84R7v39a"
      },
      "execution_count": null,
      "outputs": []
    },
    {
      "cell_type": "markdown",
      "source": [
        "Question 24: W.A.P to check wehter the input number by the user is Prime or Not."
      ],
      "metadata": {
        "id": "yUScA_9v0cM3"
      }
    },
    {
      "cell_type": "code",
      "source": [
        "# METHOD 1\n",
        "num = int(input(\"Enter the number: \"))\n",
        "count = 1\n",
        "for number in range(2,num):\n",
        "  rem = (num % number)\n",
        "  print(\"The value of remainder for the number {} is {}\".format(count,rem))\n",
        "  if rem == 0:\n",
        "    print(\"It is not a Prime number\")\n",
        "    break\n",
        "else:\n",
        "  print(\"prime number\")"
      ],
      "metadata": {
        "id": "E3_0F7Lw0YC8"
      },
      "execution_count": null,
      "outputs": []
    },
    {
      "cell_type": "code",
      "source": [
        "#METHOD 2 --->Uisng the 1 and 0 for checking thev prime and nonprime numbers\n",
        "num = int(input(\"Enter the number: \"))\n",
        "for number in range(2,num):\n",
        "  isPrime = 1\n",
        " # num is not divisible by number-->remainder != 0.\n",
        " # let say 5 here num = 5,number = 2.So remainder = 1.So 5 is a prime number\n",
        "  if num % number == 0:\n",
        "    isPrime = 0\n",
        "    break\n",
        "if isPrime == 0:\n",
        "  print(\"The value of isPrime for the Non-Prime number is {}\".format(isPrime))\n",
        "  print(\"Not a Prime Number\")\n",
        "elif isPrime == 1:\n",
        "  print(\"The value of isPrime for the Prime number is {}\".format(isPrime))\n",
        "  print(\"Prime Number\")"
      ],
      "metadata": {
        "id": "BP6dOcle0bP1"
      },
      "execution_count": null,
      "outputs": []
    },
    {
      "cell_type": "markdown",
      "source": [
        "Question 25:W.A.P to calculate the sum and digits of the number entered by the user.\n",
        "\n",
        "Test Case 1 -->Number = 12345\n",
        "\n",
        "Sum= 15\n",
        "\n",
        "Product = 120"
      ],
      "metadata": {
        "id": "VNPg6P0_1ETB"
      }
    },
    {
      "cell_type": "code",
      "source": [
        "num = int(input(\"Enter the number: \"))\n",
        "product = 1\n",
        "sum = 0\n",
        "while(num!=0):\n",
        "  digit = int(num % 10)\n",
        "  #print(digit)\n",
        "  product = product * digit\n",
        "  sum = sum + digit\n",
        "  num = int(num /10)\n",
        "  #print(num)\n",
        "print(\"The value of the product of the digits of the number is {}\".format(product))\n",
        "print(\"The value of the sum of the digits of the number is {}\".format(sum))"
      ],
      "metadata": {
        "id": "893VUhXB1mzR"
      },
      "execution_count": null,
      "outputs": []
    },
    {
      "cell_type": "markdown",
      "source": [
        "Question 26:Remove the duplicates from the array and then return the length of the array after removing the duplicate emeplemts present in the array.\n",
        "\n",
        "Test Case 1 :\n",
        "Input: nums = [1,1,2]\n",
        "Output: 2, nums = [1,2,_]\n",
        "Explanation: Your function should return k = 2, with the first two elements of nums being 1 and 2 respectively.\n",
        "It does not matter what you leave beyond the returned k (hence they are underscores).\n",
        "\n",
        "Test Case2:\n",
        "Input: nums = [0,0,1,1,1,2,2,3,3,4]\n",
        "Output: 5, nums = [0,1,2,3,4,_,_,_,_,_]\n",
        "Explanation: Your function should return k = 5, with the first five elements of nums being 0, 1, 2, 3, and 4 respectively.\n",
        "It does not matter what you leave beyond the returned k (hence they are underscores).\n",
        "\n"
      ],
      "metadata": {
        "id": "Un0JMExJnGRt"
      }
    },
    {
      "cell_type": "code",
      "source": [
        "def uniqueElementsArray(nums,n):\n",
        "  unique_list = []\n",
        "  for i in nums:\n",
        "      if i not in unique_list:\n",
        "        unique_list.append(i)\n",
        "  print(\"The value of the unique list after removing the duplicate elements is {}\".format(unique_list))\n",
        "  print(\"The value of the length of the unique list after removing the duplicate elements is {}\".format(len(unique_list)))\n",
        "\n",
        "#Driver code\n",
        "#Test Case 1 \n",
        "#nums = [1,1,2]\n",
        "\n",
        "#Test Case 2\n",
        "nums = [0,0,1,1,1,2,2,3,3,4]\n",
        "n= len(nums)\n",
        "uniqueElementsArray(nums,n)"
      ],
      "metadata": {
        "id": "YCO-6qLnkarA"
      },
      "execution_count": null,
      "outputs": []
    },
    {
      "cell_type": "code",
      "source": [
        "def removeElement(nums,val):\n",
        "  list = []\n",
        "  for i in nums:\n",
        "    if val != i:\n",
        "      list.append(i)\n",
        "  print(\"The original list is {}\".format(nums))\n",
        "  print(\"The number to be removed is {}\".format(val))\n",
        "  print(\"The value of the list after removing the element {} is {}\".format(val,list))\n",
        "\n",
        "#Driver Code\n",
        "#nums = [3,2,2,3]\n",
        "nums = [0,1,2,2,3,0,4,2] \n",
        "#val = 2\n",
        "val = 3\n",
        "n= len(nums)\n",
        "removeElement(nums,val)\n"
      ],
      "metadata": {
        "id": "TM3JHjF2pfxV"
      },
      "execution_count": null,
      "outputs": []
    },
    {
      "cell_type": "markdown",
      "source": [
        "Question 27: Write a programme to captiliase each word present in the string.\n",
        "\n",
        "Test Case 1:\n",
        "\n",
        "Input:\n",
        "hello world\n",
        "\n",
        "Output:\n",
        "Hello World\n",
        "\n",
        "Test Case 2:\n",
        "\n",
        "Input:\n",
        "geeksforgeeks\n",
        "\n",
        "Output:\n",
        "Geeksforgeeks"
      ],
      "metadata": {
        "id": "zvUrPNYwh4cc"
      }
    },
    {
      "cell_type": "code",
      "source": [
        "def captializeEachWord(inputString):\n",
        "  splitString = inputString.split()\n",
        "  requiredString = \"\"\n",
        "  print(splitString)\n",
        "  for str in splitString:\n",
        "    str = str.capitalize()\n",
        "    requiredString =  requiredString  + \" \" + str\n",
        "  print(requiredString)\n",
        "\n",
        "#Driver Code\n",
        "inputString = input('Enter the string you want:')\n",
        "n=captializeEachWord(inputString)\n"
      ],
      "metadata": {
        "id": "ysNR_2woh4N5"
      },
      "execution_count": null,
      "outputs": []
    },
    {
      "cell_type": "markdown",
      "source": [
        "Question 27: Write a programme to upperCase each lowercaseword and LowerCase each UpperCase word present in the string.\n",
        "\n",
        "Test Case 1:\n",
        "\n",
        "Input: hello world\n",
        "\n",
        "Output: HELLO WORLD\n",
        "\n",
        "Test Case 2:\n",
        "\n",
        "Input: Geeksforgeeks\n",
        "\n",
        "Output: gEEKSFORGEEKS"
      ],
      "metadata": {
        "id": "Y2yC8wm5nItK"
      }
    },
    {
      "cell_type": "code",
      "source": [
        "def upperLowerCaseString(inputString):\n",
        "  splitString = inputString.split()\n",
        "  requiredString = \"\"\n",
        "  for str in inputString:\n",
        "    if str.isupper() ==True:\n",
        "         str=str.lower()\n",
        "         requiredString =  requiredString  +  str\n",
        "    elif str.islower() ==True:\n",
        "         str=str.upper()\n",
        "         requiredString =  requiredString + str\n",
        "    else:\n",
        "         requiredString =  requiredString + str\n",
        "  print(requiredString)\n",
        "         \n",
        "\n",
        "#Driver Code\n",
        "inputString = input('Enter the string you want:')\n",
        "n=upperLowerCaseString(inputString)"
      ],
      "metadata": {
        "id": "RVCBldM_nFdg"
      },
      "execution_count": null,
      "outputs": []
    },
    {
      "cell_type": "markdown",
      "source": [
        "Ques 28: Write a programme to search the each word in the  string  starting with the text as been input by the user and dispaly all the words present in the string. \n",
        "\n",
        " Test Case 1 :\n",
        "\n",
        " Input1: This is the introductory informationo of new word Search Engine PollyHop\n",
        "\n",
        " Input 2 :in\n",
        " \n",
        " Output:\n",
        " {introductory,informationo}"
      ],
      "metadata": {
        "id": "p_f_mwA3UfwI"
      }
    },
    {
      "cell_type": "code",
      "source": [
        "def autoSearchFeature(string,n):\n",
        "  splitString = string.split()\n",
        "  print(splitString)\n",
        "  autoSearchWordDict = set()\n",
        "  for i in splitString:\n",
        "    if n in i[0:len(n)+1]:\n",
        "      autoSearchWordDict.add(i)\n",
        "  print(autoSearchWordDict) \n",
        "# Driver Code:\n",
        "\n",
        "#Test Case 1 \n",
        "\n",
        "string = 'This is the introductory informationo of new word Search Engine PollyHop'\n",
        "n = 'in'\n",
        "\n",
        "# Test Case 2 :\n",
        "\n",
        "# string = 'sed condimentum aliquet tortor convallis dignissim'\n",
        "# n = 'con'\n",
        "\n",
        "autoSearchFeature(string,n)"
      ],
      "metadata": {
        "id": "E0gKqmKTqgSS"
      },
      "execution_count": null,
      "outputs": []
    },
    {
      "cell_type": "markdown",
      "source": [
        " Question no 28:Sort Dictionary By Key in Python\n",
        "\n",
        " Input:\n",
        "\n",
        " {'ravi': 10, 'rajnish': 9, 'sanjeev': 15, 'yash': 2, 'suraj': 32}\n",
        "\n",
        " Output:\n",
        " \n",
        "  {'rajnish': 9, 'ravi': 10, 'sanjeev': 15, 'suraj': 32, 'yash': 2}\n",
        "\n",
        "\n",
        "\n",
        "\n"
      ],
      "metadata": {
        "id": "0_CF1Mj91m_l"
      }
    },
    {
      "cell_type": "code",
      "source": [
        "def sortDictionaryByKey():\n",
        "   \n",
        "   keyDict = {'ravi': 10, 'rajnish': 9, 'sanjeev': 15, 'yash': 2, 'suraj': 32}\n",
        "   \n",
        "   sortedDict={}\n",
        "   \n",
        "   myList = list(keyDict.keys())\n",
        "\n",
        "   mySortedList = sorted(myList)\n",
        "   \n",
        "   print(mySortedList)\n",
        "   \n",
        "   for i in mySortedList:\n",
        "     \n",
        "     sortedDict[i]=keyDict[i]\n",
        "   \n",
        "   print(sortedDict)\n",
        "\n",
        "# Driver Code:\n",
        "sortDictionaryByKey()"
      ],
      "metadata": {
        "id": "Seov5c0btIO2"
      },
      "execution_count": null,
      "outputs": []
    },
    {
      "cell_type": "markdown",
      "source": [
        "**SLICING WINDOW TECHNIQUE**"
      ],
      "metadata": {
        "id": "f-0Q4spEMVJK"
      }
    },
    {
      "cell_type": "markdown",
      "source": [
        "Q.30\n",
        "Given an array of integers of size ‘n’, Our aim is to calculate the maximum sum of ‘k’ consecutive elements in the array.\n",
        "\n",
        "Input  : arr[] = {100, 200, 300, 400}, k = 2\n",
        "Output : 700\n",
        "\n",
        "Input  : arr[] = {1, 4, 2, 10, 23, 3, 1, 0, 20}, k = 4 \n",
        "Output : 39\n",
        "We get maximum sum by adding subarray {4, 2, 10, 23} of size 4.\n",
        "\n",
        "Input  : arr[] = {2, 3}, k = 3\n",
        "Output : Invalid\n",
        "There is no subarray of size 3 as size of whole array is 2."
      ],
      "metadata": {
        "id": "iOOU-ENkP5DY"
      }
    },
    {
      "cell_type": "code",
      "source": [
        "def maxSum(arr,n,k):\n",
        "  if(k > n):\n",
        "    print('Invaild')\n",
        "  else:\n",
        "    window_sum = sum(arr[:k])\n",
        "    maximum_sum = window_sum\n",
        "    for i in range(k-1):\n",
        "     window_sum = window_sum + arr[i+3] - arr[i]\n",
        "     maximum_sum = max(maximum_sum,window_sum)\n",
        "    print('The maximum value  is {}'.format(maximum_sum))\n",
        "\n",
        "# Driver Code\n",
        "arr = [1, 4, 2, 10, 2, 3, 1, 0, 20]\n",
        "#arr= [5,2,-1,0,3]\n",
        "n = len(arr)\n",
        "k=4\n",
        "maxSum(arr,n,k)"
      ],
      "metadata": {
        "id": "9rg3TBISm0e7"
      },
      "execution_count": null,
      "outputs": []
    }
  ]
}