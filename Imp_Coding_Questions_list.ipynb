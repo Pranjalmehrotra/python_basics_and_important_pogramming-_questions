{
  "nbformat": 4,
  "nbformat_minor": 0,
  "metadata": {
    "colab": {
      "private_outputs": true,
      "provenance": []
    },
    "kernelspec": {
      "name": "python3",
      "display_name": "Python 3"
    },
    "language_info": {
      "name": "python"
    }
  },
  "cells": [
    {
      "cell_type": "markdown",
      "source": [],
      "metadata": {
        "id": "Hg14gNw5ydyQ"
      }
    },
    {
      "cell_type": "markdown",
      "source": [
        "Question 1:\n",
        "You are driving a little too fast, and a police officer stops you. Write a function to return one of 3 possible results: \"No ticket\", \"Small ticket\", or \"Big Ticket\". If your speed is 60 or less, the result is \"No Ticket\". If speed is between 61 and 80 inclusive, the result is \"Small Ticket\". If speed is 81 or more, the result is \"Big Ticket\". Unless it is your birthday (encoded as a boolean value in the parameters of the function) -- on your birthday, your speed can be 5 higher in all cases."
      ],
      "metadata": {
        "id": "vTHWSRfBnNKn"
      }
    },
    {
      "cell_type": "code",
      "source": [
        "caughting_speed=float(input(\"Enter the speed: \"))\n",
        "birthday=input(\"You have your birthday Yes or No ?: \")\n",
        "if birthday ==\"Yes\":\n",
        "  if (caughting_speed>86):\n",
        "    print(\"Big Ticket\")\n",
        "  elif 65<=caughting_speed<=85:\n",
        "    print(\"Small Tickets\")\n",
        "  else:\n",
        "    print(\"No tickets\")\n",
        "elif birthday ==\"No\":\n",
        "  if (caughting_speed>80):\n",
        "    print(\"Big Ticket\")\n",
        "  elif 60<=caughting_speed<=80:\n",
        "    print(\"Small Tickets\")\n",
        "  else:\n",
        "    print(\"No tickets\")"
      ],
      "metadata": {
        "id": "XMIP9WT5u4ym"
      },
      "execution_count": null,
      "outputs": []
    },
    {
      "cell_type": "markdown",
      "source": [
        "Question 3. Create an array of 10 Fives using numphy"
      ],
      "metadata": {
        "id": "Kj7TiW1hnVvz"
      }
    },
    {
      "cell_type": "code",
      "source": [
        "import numpy as np\n",
        "arr=np.ones(10)*5\n",
        "arr"
      ],
      "metadata": {
        "id": "O-Pj6vSVncaL"
      },
      "execution_count": null,
      "outputs": []
    },
    {
      "cell_type": "markdown",
      "source": [
        "Question 4.Take the name as the input from the user and print it in the reverse format"
      ],
      "metadata": {
        "id": "jUODJRQcDJ6I"
      }
    },
    {
      "cell_type": "code",
      "source": [
        "name=\"Pranjal\"\n",
        "name_new=name[8:: -1]\n",
        "print(name_new)"
      ],
      "metadata": {
        "id": "Rs09fylODhM3"
      },
      "execution_count": null,
      "outputs": []
    },
    {
      "cell_type": "markdown",
      "source": [
        "Question 5.Take the age as the input from the user and print it in the reverse format.\n"
      ],
      "metadata": {
        "id": "bz8HX1SkEQ7I"
      }
    },
    {
      "cell_type": "code",
      "source": [
        "my_age = input(\"Enter the present age\")\n",
        "new_age= my_age[:: -1]\n",
        "new_age"
      ],
      "metadata": {
        "id": "L0RnRo19EWex"
      },
      "execution_count": null,
      "outputs": []
    },
    {
      "cell_type": "markdown",
      "source": [
        "Question 6: Printing the elemets of the list/nested list in the vertical format."
      ],
      "metadata": {
        "id": "P40OOunIbY7v"
      }
    },
    {
      "cell_type": "code",
      "source": [
        "l=[1,2,3,4,5,6]\n",
        "for x in l:\n",
        "  print(x)"
      ],
      "metadata": {
        "id": "PURiv5gYbhIS"
      },
      "execution_count": null,
      "outputs": []
    },
    {
      "cell_type": "code",
      "source": [
        "fruits =     [\"Strawberries\", \"Nectarines\", \"Apples\"]\n",
        "vegetables = [\"Spinach\", \"Kale\", \"Tomatoes\"]\n",
        "names=       [\"Pranjal\",\"Monish\",\"Gunjan\"]\n",
        "dirty_dozen = [fruits,vegetables,names]\n",
        "for n in dirty_dozen:        # Mehtod to print the elements of the list in the vertical method\n",
        "  print(n)                   # Dont use print(dirty_dozen(n)) just print n"
      ],
      "metadata": {
        "id": "Q0HnmdFZb0ln"
      },
      "execution_count": null,
      "outputs": []
    },
    {
      "cell_type": "markdown",
      "source": [
        "Concept 7: Genrating the random list containg random numbers whose length has been defined by the user."
      ],
      "metadata": {
        "id": "P61z86fup4qO"
      }
    },
    {
      "cell_type": "code",
      "source": [
        "import random\n",
        "random_list = []\n",
        "length=int(input(\"Enter the len of the string \"))\n",
        "for i in range(0,length):\n",
        "  n=random.randint(0,255)\n",
        "  random_list.append(n)\n",
        "print(random_list)"
      ],
      "metadata": {
        "id": "sSy-mwWEqOE_"
      },
      "execution_count": null,
      "outputs": []
    },
    {
      "cell_type": "markdown",
      "source": [
        "Concept 8: Genrating the random list containg random numbers whose length has not been defined by the user."
      ],
      "metadata": {
        "id": "Ci43IuOqrpvp"
      }
    },
    {
      "cell_type": "code",
      "source": [
        "import random\n",
        "randomlist = []\n",
        "for i in range(0,5):\n",
        "  n = random.randint(1,30)\n",
        "  randomlist.append(n)\n",
        "print(randomlist)"
      ],
      "metadata": {
        "id": "LBNKajvtrrHC"
      },
      "execution_count": null,
      "outputs": []
    },
    {
      "cell_type": "markdown",
      "source": [
        "Question 9:Extracting each element in a vertical manner without using any inbuilt function of the python.\n",
        "\n"
      ],
      "metadata": {
        "id": "wHC3vA32mCuj"
      }
    },
    {
      "cell_type": "code",
      "source": [
        "string=input(\"Enter the string: \")\n",
        "length=len(string)\n",
        "count=0\n",
        "for i in range(0,length):\n",
        " print(string[count])\n",
        " count=count+1"
      ],
      "metadata": {
        "id": "EFfWicicl0nm"
      },
      "execution_count": null,
      "outputs": []
    },
    {
      "cell_type": "markdown",
      "source": [
        "Question 10:Reversing of the string and extracting each element in a vertical manner without using any inbuilt function of the python."
      ],
      "metadata": {
        "id": "s87MhMlGlrks"
      }
    },
    {
      "cell_type": "code",
      "source": [
        "string=input(\"Enter the string: \")\n",
        "length=len(string)-1\n",
        "count=length\n",
        "for i in range(0,length+1):\n",
        " print(string[count])\n",
        " count=count-1"
      ],
      "metadata": {
        "id": "YuRH5mk2lqX1"
      },
      "execution_count": null,
      "outputs": []
    },
    {
      "cell_type": "markdown",
      "source": [
        "Question 11:Reversing of the string and printing the reverse string in same line without using any inbuilt function of the python."
      ],
      "metadata": {
        "id": "LsHjjHcgmm-X"
      }
    },
    {
      "cell_type": "code",
      "source": [
        "reverse=\" \"\n",
        "string=input(\"Enter the string: \")\n",
        "length=len(string)-1                #  Always use -1 otherwise error index out of range will happen each and every time\n",
        "count=length\n",
        "for i in range(0,length+1):         #  Always use length + 1 for looping in each and every alphabet.\n",
        " new_string=string[count]\n",
        " reverse=reverse+new_string\n",
        " count=count-1\n",
        "print(reverse)"
      ],
      "metadata": {
        "id": "QYLIdocTmMwr"
      },
      "execution_count": null,
      "outputs": []
    },
    {
      "cell_type": "markdown",
      "source": [
        "Question 11:Write a python function to generate and return the list of all possible sentences created from the given lists of Subject, Verb and Object.\n",
        "Note: The sentence should contain only one subject, verb and object each.\n",
        "Sample Input\tExpected Output\n",
        "subjects=[“I”, “You”]\n",
        "verbs=[“Play”, “Love”]\n",
        "objects=[“Hockey”,”Football”]\tI Play Hockey\n",
        "I Play Football\n",
        "I Love Hockey\n",
        "I Love Football\n",
        "You Play Hockey\n",
        "You Play Football\n",
        "You Love Hockey\n",
        "You Love Football"
      ],
      "metadata": {
        "id": "50fLFr7XtkSz"
      }
    },
    {
      "cell_type": "code",
      "source": [
        "def generate_sentences(subjects,verbs,objects):\n",
        "\t#start writing your code here\n",
        "\tlist=[]\n",
        "\tfor i in subjects:\n",
        "\t    for j in verbs:\n",
        "\t        for k in objects:\n",
        "\t            list.append(i+\" \"+j+\" \"+k)\n",
        "\treturn list\n",
        "\n",
        "subjects=[\"I\",\"You\"]\n",
        "verbs=[\"love\", \"play\"]\n",
        "objects=[\"Hockey\",\"Football\"]\n",
        "print(generate_sentences(subjects,verbs,objects))"
      ],
      "metadata": {
        "id": "-Wgr9178tjmp"
      },
      "execution_count": null,
      "outputs": []
    },
    {
      "cell_type": "markdown",
      "source": [
        "Question 12 : Programme to find out the maxium element present in the list without using the max keyword."
      ],
      "metadata": {
        "id": "GJRI9YTuq8jq"
      }
    },
    {
      "cell_type": "code",
      "source": [
        "l=[40,90,30,120,240]\n",
        "max   = 0\n",
        "for i in l:\n",
        "  if(max < i):\n",
        "    max=i\n",
        "  print(max)"
      ],
      "metadata": {
        "id": "i7F-h1VEq7w0"
      },
      "execution_count": null,
      "outputs": []
    },
    {
      "cell_type": "markdown",
      "source": [
        "Question 13 : Programme to input n paramters from the user, check if list is present and if it is present then again check  if the strings are availble in list and if present then concatante all the strings together and display the output."
      ],
      "metadata": {
        "id": "BkA8cXiNYtoY"
      }
    },
    {
      "cell_type": "code",
      "source": [
        "def conc(l):\n",
        "  count=\" \"\n",
        "  for i in l:\n",
        "    if type(i)==list:\n",
        "      for j in i:\n",
        "        if type(j)==str:\n",
        "          count = count + \" \" + j\n",
        "  print(count)"
      ],
      "metadata": {
        "id": "UMYFP7inYs8x"
      },
      "execution_count": null,
      "outputs": []
    },
    {
      "cell_type": "code",
      "source": [
        "l1=[1,2,3,4,5,6,[1,2,3,\"PRANJAL\",\"NISHI\",\"GUDDU\"],\"PRANJAL\",\"RAJESH\",\"VINSHU\"]\n",
        "conc(l1)"
      ],
      "metadata": {
        "id": "a_bcgWEHZ045"
      },
      "execution_count": null,
      "outputs": []
    },
    {
      "cell_type": "markdown",
      "source": [
        "Question 14 : Programme to input n paramters from the user, and if string is present in the n paratmers then concatante all the strings together and display the output."
      ],
      "metadata": {
        "id": "X-psJcWXZlXl"
      }
    },
    {
      "cell_type": "code",
      "source": [
        "def conc(l):\n",
        "  count=\" \"\n",
        "  for i in l:\n",
        "    if type(i)==str:\n",
        "      count = count+\" \"+ i\n",
        "  print(count)"
      ],
      "metadata": {
        "id": "AOwtQLQdZvyE"
      },
      "execution_count": null,
      "outputs": []
    },
    {
      "cell_type": "code",
      "source": [
        "l=[1,2,3,4,5,6,[1,2,3,\"PRANJAL\",\"NISHI\",\"GUDDU\"],\"PRANJAL\",\"RAJESH\",\"VINSHU\"]\n",
        "conc(l)"
      ],
      "metadata": {
        "id": "HoDow1YXZ0VY"
      },
      "execution_count": null,
      "outputs": []
    },
    {
      "cell_type": "markdown",
      "source": [
        "Question 15 : W.A.P To input the number from the user and print out hte difference between the sum of the digits at the odd posiitons and sum of the digits at the even positions.\n",
        " Test cases\n",
        " Case 1 ---> num = 5476\n",
        " sum_even = 4 + 6 = 10\n",
        " sum_ odd = 5+7 = 12\n",
        " sum_diff = 11 -10 = 1\n",
        "\n",
        " Case 2 ----> num =9834698765123\n",
        " sum_ odd = 36\n",
        " sum_even = 35\n",
        " diff_sum = 1"
      ],
      "metadata": {
        "id": "urBnhleCwqiR"
      }
    },
    {
      "cell_type": "code",
      "source": [
        "num = input(\"Enter the number from the user: \")\n",
        "n = len(num)\n",
        "sum_odd = 0\n",
        "sum_even = 0\n",
        "sum_diff = 0\n",
        "for i in range(0,n,2):\n",
        "  sum_odd = sum_odd + int(num[i])\n",
        "print(\"The value of sum of the odd positions in the number are {}\".format(sum_odd))\n",
        "for j in range(1,n,2):\n",
        "  sum_even = sum_even + int(num[j])\n",
        "print(\"The value of sum of the even positions in the number are {}\".format(sum_even))\n",
        "sum_diff = sum_odd - sum_even\n",
        "print(\"The value of the sum of the differece between the odd and the even is {}\".format(sum_diff))\n",
        "\n",
        "\n",
        "# Test cases\n",
        "# Case 1 ---> num = 5476\n",
        "# sum_even = 4 + 6 = 10\n",
        "# sum_ odd = 5+7 = 12\n",
        "# sum_diff = 11 -10 = 1\n",
        "\n",
        "# Case 2 ----> num =9834698765123\n",
        "# sum_ odd = 36\n",
        "# sum_even = 35\n",
        "# diff_sum = 1"
      ],
      "metadata": {
        "id": "e-nLBRReluhs"
      },
      "execution_count": null,
      "outputs": []
    },
    {
      "cell_type": "markdown",
      "source": [
        "Question 17 : WAP to print the Febonici series upto the 10 terms as shown below:\n",
        "0,1,1,2,3,5,8,13,21,34,55,89\n",
        "\n",
        "Link to the question:\n",
        "https://practice.geeksforgeeks.org/problems/print-first-n-fibonacci-numbers1002/1"
      ],
      "metadata": {
        "id": "DHRfAH6xj6A_"
      }
    },
    {
      "cell_type": "code",
      "source": [
        "num = int(input(\"Enter the number from the user: \"))\n",
        "a = 0\n",
        "b = 1\n",
        "print(a)\n",
        "print(b)\n",
        "for i in range(num):\n",
        "  nextNumber = a+b\n",
        "  print(nextNumber)\n",
        "  a = b\n",
        "  b = nextNumber"
      ],
      "metadata": {
        "id": "zqzgcPAdkKoZ"
      },
      "execution_count": null,
      "outputs": []
    },
    {
      "cell_type": "code",
      "source": [
        "def feboniciSeries(n):\n",
        "        febonicci_list = []\n",
        "        a =1\n",
        "        b=0\n",
        "        #febonicci_list.append(a)\n",
        "        #febonicci_list.append(b)\n",
        "        for i in range(n):\n",
        "            sum = a + b\n",
        "            febonicci_list.append(sum)\n",
        "            a = b\n",
        "            b = sum\n",
        "        return febonicci_list\n",
        "\n",
        "#Driver Code\n",
        "n = int(input(\"Enter the number from the user: \"))\n",
        "feboniciSeries(n)"
      ],
      "metadata": {
        "id": "sRhmgq0hbnPa"
      },
      "execution_count": null,
      "outputs": []
    },
    {
      "cell_type": "markdown",
      "source": [
        "Question18: WAP to convert the decimal number to binary number(Number conversion Problem)"
      ],
      "metadata": {
        "id": "N9sAMD6QwFtJ"
      }
    },
    {
      "cell_type": "code",
      "source": [
        "num = int(input(\"Enter the number you want the binary conversion: \"))\n",
        "binary_num = 0\n",
        "num_decimal = num\n",
        "i = 0\n",
        "while(num!= 0):\n",
        "  digit =  num % 2\n",
        "  #print(\"The value of digit is {}\".format(digit))\n",
        "  #print(digit)\n",
        "  binary_num = (pow(10,i)* digit) + binary_num\n",
        "  #print(\"The value of sum is {}\".format(binary_num))\n",
        "  i = i+ 1\n",
        "  #print(i)\n",
        "  num = int(num/2)\n",
        "  #print(num)\n",
        "#sum_1 = str(sum)\n",
        "print(\"The value of the binary conversion of the required number {} is:{}\".format(num_decimal,binary_num))\n",
        "#sum_actual = sum_1[:: -1]\n",
        "#print(\"The value of the sum_actual is {}\".format(sum_actual))"
      ],
      "metadata": {
        "id": "2fMm5zsUw-zG"
      },
      "execution_count": null,
      "outputs": []
    },
    {
      "cell_type": "markdown",
      "source": [
        "Question19: WAP to convert the binary number to decimal number(Number conversion Problem)"
      ],
      "metadata": {
        "id": "wEw8YyqFNLH7"
      }
    },
    {
      "cell_type": "code",
      "source": [
        "# Method 1 -----> Using concepts of remainder and divisor.\n",
        "\n",
        "num = int(input(\"Enter the number you want the binary conversion: \"))\n",
        "num_binary = num\n",
        "decimal_num = 0\n",
        "i = 0\n",
        "while(num!= 0):\n",
        "  digit =  num % 10\n",
        "  #print(\"The value of digit is {}\".format(digit))\n",
        "  #print(digit)\n",
        "  decimal_num = (pow(2,i)* digit) + decimal_num\n",
        "  #print(\"The vaue of sum is {}\".format(binary_num))\n",
        "  i = i+ 1\n",
        "  #print(i)\n",
        "  num = int(num/10)\n",
        "  #print(num)\n",
        "#sum_1 = str(sum)\n",
        "print(\"The value of the decimal conversion of the required binary number {} is: {}\".format(num_binary,decimal_num))\n",
        "#sum_actual = sum_1[:: -1]\n",
        "#print(\"The value of the sum_actual is {}\".format(sum_actual))"
      ],
      "metadata": {
        "id": "33XSMWwXf8A_"
      },
      "execution_count": null,
      "outputs": []
    },
    {
      "cell_type": "code",
      "source": [
        "# Method 2 ----> Using the concepts of bits.\n",
        "# Still pending"
      ],
      "metadata": {
        "id": "Qcc17Pzchjeq"
      },
      "execution_count": null,
      "outputs": []
    },
    {
      "cell_type": "markdown",
      "source": [
        "Question 20:WAP to input the number from the user(integer) and reverse the number."
      ],
      "metadata": {
        "id": "2jxpavxz3iui"
      }
    },
    {
      "cell_type": "code",
      "source": [
        "num = int(input(\"Enter the number: \"))\n",
        "num_input = num\n",
        "reverse_number = 0\n",
        "while(num!= 0):\n",
        "  digit = num % 10\n",
        "  reverse_number = 10*reverse_number + digit\n",
        "  num = int(num/10)\n",
        "print(\"The Reverse Number for the Input Number {} is {}\".format(num_input,reverse_number))\n"
      ],
      "metadata": {
        "id": "9rDIS6hXbr0O"
      },
      "execution_count": null,
      "outputs": []
    },
    {
      "cell_type": "markdown",
      "source": [
        "Question 21 :WAP to input the number from the user(integer) and print the number in same format."
      ],
      "metadata": {
        "id": "VU1qqK_E4y4b"
      }
    },
    {
      "cell_type": "code",
      "source": [
        "num = int(input(\"Enter the number: \"))\n",
        "num_input=num\n",
        "number = 0\n",
        "i = 0\n",
        "while(num!= 0):\n",
        "  digit = num % 10\n",
        "  number = pow(10,i)*digit + number\n",
        "  i=i+1\n",
        "  num = int(num/10)\n",
        "print(\"The Same Order Number for the Input Number {} is {}\".format(num_input,number))"
      ],
      "metadata": {
        "id": "OIArlhrCaG7e"
      },
      "execution_count": null,
      "outputs": []
    },
    {
      "cell_type": "markdown",
      "source": [
        "Question 22 :WAP to write the function of the nCr using the function and print the value of ncr using the input given by the user."
      ],
      "metadata": {
        "id": "7Z9HabXw4QBl"
      }
    },
    {
      "cell_type": "code",
      "source": [
        "# Factorial Code Logic\n",
        "\n",
        "def factorialFunction(n):\n",
        " fact = 1\n",
        " for i in range(1,n+1):\n",
        "  fact = fact * i\n",
        " return fact\n",
        "\n",
        "# Combination Code Logic\n",
        "\n",
        "def combinationFunction(n,r):\n",
        "  Numerator = factorialFunction(n)\n",
        "  Denominator = factorialFunction(r) * factorialFunction(n-r)\n",
        "  valueNumber = Numerator/Denominator\n",
        "  print(\"The actual combination value of the number is {}\".format(valueNumber))\n",
        "\n",
        "#Permutation Code Logic\n",
        "\n",
        "def permutationFunction(n,r):\n",
        "  Numerator = factorialFunction(n)\n",
        "  #print(\"The value of Numerator is {}\".format(Numerator))\n",
        "  Denominator = factorialFunction(r)\n",
        "  #print(\"The value of Denominator is {}\".format(Denominator))\n",
        "  valueNumber = Numerator/Denominator\n",
        "  print(\"The actual permutation value of the number is {}\".format(valueNumber))\n",
        "\n",
        "\n",
        "# Driver code\n",
        "\n",
        "n = 9\n",
        "r = 6\n",
        "combinationFunction(n,r)\n",
        "permutationFunction(n,r)"
      ],
      "metadata": {
        "id": "guzkUrZsiWXN"
      },
      "execution_count": null,
      "outputs": []
    },
    {
      "cell_type": "markdown",
      "source": [
        "Question 23:Given an amount, find the minimum number of notes of different denominations that sum up to the given amount. Starting from the highest denomination note, try to accommodate as many notes as possible for a given amount.\n",
        "We may assume that we have infinite supply of notes of values {2000, 500, 200, 100, 50, 20, 10, 5, 1}\n",
        "Input : 800\n",
        "Output : Currency  Count\n",
        "         500 : 1\n",
        "         200 : 1\n",
        "         100 : 1\n",
        "\n",
        "Input : 2456\n",
        "Output : Currency  Count\n",
        "         2000 : 1\n",
        "         200 : 2\n",
        "         50 : 1\n",
        "         5 : 1\n",
        "         1 : 1"
      ],
      "metadata": {
        "id": "iLYV1PSivxpv"
      }
    },
    {
      "cell_type": "code",
      "source": [
        "amount = int(input(\"Enter the amount: \"))\n",
        "currentCount = [2000,500,200,100,50,10,5,1]\n",
        "for i in currentCount:\n",
        "  minimumNote = (amount/i)\n",
        "  minimumNote= int(minimumNote)\n",
        "  print(\"The value of note of {} is {}\".format(i,minimumNote))\n",
        "  amount = amount- minimumNote*i"
      ],
      "metadata": {
        "id": "jEoh84R7v39a"
      },
      "execution_count": null,
      "outputs": []
    },
    {
      "cell_type": "markdown",
      "source": [
        "Question 24: W.A.P to check wehter the input number by the user is Prime or Not."
      ],
      "metadata": {
        "id": "yUScA_9v0cM3"
      }
    },
    {
      "cell_type": "code",
      "source": [
        "# METHOD 1\n",
        "num = int(input(\"Enter the number: \"))\n",
        "count = 1\n",
        "for number in range(2,num):\n",
        "  rem = (num % number)\n",
        "  print(\"The value of remainder for the number {} is {}\".format(count,rem))\n",
        "  if rem == 0:\n",
        "    print(\"It is not a Prime number\")\n",
        "    break\n",
        "else:\n",
        "  print(\"prime number\")"
      ],
      "metadata": {
        "id": "E3_0F7Lw0YC8"
      },
      "execution_count": null,
      "outputs": []
    },
    {
      "cell_type": "code",
      "source": [
        "#METHOD 2 --->Uisng the 1 and 0 for checking thev prime and nonprime numbers\n",
        "num = int(input(\"Enter the number: \"))\n",
        "for number in range(2,int(num//2)):\n",
        "  isPrime = 1\n",
        " # num is not divisible by number-->remainder != 0.\n",
        " # let say 5 here num = 5,number = 2.So remainder = 1.So 5 is a prime number\n",
        "  if num % number == 0:\n",
        "    isPrime = 0\n",
        "    break\n",
        "if isPrime == 0:\n",
        "  print(\"The value of isPrime for the Non-Prime number is {}\".format(isPrime))\n",
        "  print(\"Not a Prime Number\")\n",
        "elif isPrime == 1:\n",
        "  print(\"The value of isPrime for the Prime number is {}\".format(isPrime))\n",
        "  print(\"Prime Number\")"
      ],
      "metadata": {
        "id": "BP6dOcle0bP1"
      },
      "execution_count": null,
      "outputs": []
    },
    {
      "cell_type": "markdown",
      "source": [
        "Question 25:W.A.P to calculate the sum and digits of the number entered by the user.\n",
        "\n",
        "Test Case 1 -->Number = 12345\n",
        "\n",
        "Sum= 15\n",
        "\n",
        "Product = 120"
      ],
      "metadata": {
        "id": "VNPg6P0_1ETB"
      }
    },
    {
      "cell_type": "code",
      "source": [
        "num = int(input(\"Enter the number: \"))\n",
        "product = 1\n",
        "sum = 0\n",
        "while(num!=0):\n",
        "  digit = int(num % 10)\n",
        "  #print(digit)\n",
        "  product = product * digit\n",
        "  sum = sum + digit\n",
        "  num = int(num /10)\n",
        "  #print(num)\n",
        "print(\"The value of the product of the digits of the number is {}\".format(product))\n",
        "print(\"The value of the sum of the digits of the number is {}\".format(sum))"
      ],
      "metadata": {
        "id": "893VUhXB1mzR"
      },
      "execution_count": null,
      "outputs": []
    },
    {
      "cell_type": "markdown",
      "source": [
        "Question 26:Remove the duplicates from the array and then return the length of the array after removing the duplicate emeplemts present in the array.\n",
        "\n",
        "Test Case 1 :\n",
        "Input: nums = [1,1,2]\n",
        "Output: 2, nums = [1,2,_]\n",
        "Explanation: Your function should return k = 2, with the first two elements of nums being 1 and 2 respectively.\n",
        "It does not matter what you leave beyond the returned k (hence they are underscores).\n",
        "\n",
        "Test Case2:\n",
        "Input: nums = [0,0,1,1,1,2,2,3,3,4]\n",
        "Output: 5, nums = [0,1,2,3,4,_,_,_,_,_]\n",
        "Explanation: Your function should return k = 5, with the first five elements of nums being 0, 1, 2, 3, and 4 respectively.\n",
        "It does not matter what you leave beyond the returned k (hence they are underscores).\n",
        "\n"
      ],
      "metadata": {
        "id": "Un0JMExJnGRt"
      }
    },
    {
      "cell_type": "code",
      "source": [
        "def uniqueElementsArray(nums,n):\n",
        "  unique_list = []\n",
        "  for i in nums:\n",
        "      if i not in unique_list:\n",
        "        unique_list.append(i)\n",
        "  print(\"The value of the unique list after removing the duplicate elements is {}\".format(unique_list))\n",
        "  print(\"The value of the length of the unique list after removing the duplicate elements is {}\".format(len(unique_list)))\n",
        "\n",
        "#Driver code\n",
        "#Test Case 1\n",
        "#nums = [1,1,2]\n",
        "\n",
        "#Test Case 2\n",
        "nums = [0,0,1,1,1,2,2,3,3,4]\n",
        "n= len(nums)\n",
        "uniqueElementsArray(nums,n)"
      ],
      "metadata": {
        "id": "YCO-6qLnkarA"
      },
      "execution_count": null,
      "outputs": []
    },
    {
      "cell_type": "code",
      "source": [
        "def removeElement(nums,val):\n",
        "  list = []\n",
        "  for i in nums:\n",
        "    if val != i:\n",
        "      list.append(i)\n",
        "  print(\"The original list is {}\".format(nums))\n",
        "  print(\"The number to be removed is {}\".format(val))\n",
        "  print(\"The value of the list after removing the element {} is {}\".format(val,list))\n",
        "\n",
        "#Driver Code\n",
        "#nums = [3,2,2,3]\n",
        "nums = [0,1,2,2,3,0,4,2]\n",
        "#val = 2\n",
        "val = 3\n",
        "n= len(nums)\n",
        "removeElement(nums,val)\n"
      ],
      "metadata": {
        "id": "TM3JHjF2pfxV"
      },
      "execution_count": null,
      "outputs": []
    },
    {
      "cell_type": "markdown",
      "source": [
        "Question 27: Write a programme to captiliase each word present in the string.\n",
        "\n",
        "Test Case 1:\n",
        "\n",
        "Input:\n",
        "hello world\n",
        "\n",
        "Output:\n",
        "Hello World\n",
        "\n",
        "Test Case 2:\n",
        "\n",
        "Input:\n",
        "geeksforgeeks\n",
        "\n",
        "Output:\n",
        "Geeksforgeeks"
      ],
      "metadata": {
        "id": "zvUrPNYwh4cc"
      }
    },
    {
      "cell_type": "code",
      "source": [
        "def captializeEachWord(inputString):\n",
        "  splitString = inputString.split()\n",
        "  requiredString = \"\"\n",
        "  print(splitString)\n",
        "  for str in splitString:\n",
        "    str = str.capitalize()\n",
        "    requiredString =  requiredString  + \" \" + str\n",
        "  print(requiredString)\n",
        "\n",
        "#Driver Code\n",
        "inputString = input('Enter the string you want:')\n",
        "n=captializeEachWord(inputString)\n"
      ],
      "metadata": {
        "id": "ysNR_2woh4N5"
      },
      "execution_count": null,
      "outputs": []
    },
    {
      "cell_type": "markdown",
      "source": [
        "Question 27: Write a programme to upperCase each lowercaseword and LowerCase each UpperCase word present in the string.\n",
        "\n",
        "Test Case 1:\n",
        "\n",
        "Input: hello world\n",
        "\n",
        "Output: HELLO WORLD\n",
        "\n",
        "Test Case 2:\n",
        "\n",
        "Input: Geeksforgeeks\n",
        "\n",
        "Output: gEEKSFORGEEKS"
      ],
      "metadata": {
        "id": "Y2yC8wm5nItK"
      }
    },
    {
      "cell_type": "code",
      "source": [
        "def upperLowerCaseString(inputString):\n",
        "  splitString = inputString.split()\n",
        "  requiredString = \"\"\n",
        "  for str in inputString:\n",
        "    if str.isupper() ==True:\n",
        "         str=str.lower()\n",
        "         requiredString =  requiredString  +  str\n",
        "    elif str.islower() ==True:\n",
        "         str=str.upper()\n",
        "         requiredString =  requiredString + str\n",
        "    else:\n",
        "         requiredString =  requiredString + str\n",
        "  print(requiredString)\n",
        "\n",
        "\n",
        "#Driver Code\n",
        "inputString = input('Enter the string you want:')\n",
        "n=upperLowerCaseString(inputString)"
      ],
      "metadata": {
        "id": "RVCBldM_nFdg"
      },
      "execution_count": null,
      "outputs": []
    },
    {
      "cell_type": "markdown",
      "source": [
        "Ques 28: Write a programme to search the each word in the  string  starting with the text as been input by the user and dispaly all the words present in the string.\n",
        "\n",
        " Test Case 1 :\n",
        "\n",
        " Input1: This is the introductory informationo of new word Search Engine PollyHop\n",
        "\n",
        " Input 2 :in\n",
        "\n",
        " Output:\n",
        " {introductory,informationo}"
      ],
      "metadata": {
        "id": "p_f_mwA3UfwI"
      }
    },
    {
      "cell_type": "code",
      "source": [
        "def autoSearchFeature(string,n):\n",
        "  splitString = string.split()\n",
        "  print(splitString)\n",
        "  autoSearchWordDict = set()\n",
        "  for i in splitString:\n",
        "    if n in i[0:len(n)+1]:\n",
        "      autoSearchWordDict.add(i)\n",
        "  print(autoSearchWordDict)\n",
        "# Driver Code:\n",
        "\n",
        "#Test Case 1\n",
        "\n",
        "string = 'This is the introductory informationo of new word Search Engine PollyHop'\n",
        "n = 'in'\n",
        "\n",
        "# Test Case 2 :\n",
        "\n",
        "# string = 'sed condimentum aliquet tortor convallis dignissim'\n",
        "# n = 'con'\n",
        "\n",
        "autoSearchFeature(string,n)"
      ],
      "metadata": {
        "id": "E0gKqmKTqgSS"
      },
      "execution_count": null,
      "outputs": []
    },
    {
      "cell_type": "markdown",
      "source": [
        " Question no 28:Sort Dictionary By Key in Python\n",
        "\n",
        " Input:\n",
        "\n",
        " {'ravi': 10, 'rajnish': 9, 'sanjeev': 15, 'yash': 2, 'suraj': 32}\n",
        "\n",
        " Output:\n",
        "\n",
        "  {'rajnish': 9, 'ravi': 10, 'sanjeev': 15, 'suraj': 32, 'yash': 2}\n",
        "\n",
        "\n",
        "\n",
        "\n"
      ],
      "metadata": {
        "id": "0_CF1Mj91m_l"
      }
    },
    {
      "cell_type": "code",
      "source": [
        "def sortDictionaryByKey():\n",
        "\n",
        "   keyDict = {'ravi': 10, 'rajnish': 9, 'sanjeev': 15, 'yash': 2, 'suraj': 32}\n",
        "\n",
        "   sortedDict={}\n",
        "\n",
        "   myList = list(keyDict.keys())\n",
        "\n",
        "   mySortedList = sorted(myList)\n",
        "\n",
        "   print(mySortedList)\n",
        "\n",
        "   for i in mySortedList:\n",
        "\n",
        "     sortedDict[i]=keyDict[i]\n",
        "\n",
        "   print(sortedDict)\n",
        "\n",
        "# Driver Code:\n",
        "sortDictionaryByKey()"
      ],
      "metadata": {
        "id": "Seov5c0btIO2"
      },
      "execution_count": null,
      "outputs": []
    },
    {
      "cell_type": "markdown",
      "source": [
        "**SLICING WINDOW TECHNIQUE**"
      ],
      "metadata": {
        "id": "f-0Q4spEMVJK"
      }
    },
    {
      "cell_type": "markdown",
      "source": [
        "Q.30\n",
        "Given an array of integers of size ‘n’, Our aim is to calculate the maximum sum of ‘k’ consecutive elements in the array.\n",
        "\n",
        "Input  : arr[] = {100, 200, 300, 400}, k = 2\n",
        "Output : 700\n",
        "\n",
        "Input  : arr[] = {1, 4, 2, 10, 23, 3, 1, 0, 20}, k = 4\n",
        "Output : 39\n",
        "We get maximum sum by adding subarray {4, 2, 10, 23} of size 4.\n",
        "\n",
        "Input  : arr[] = {2, 3}, k = 3\n",
        "Output : Invalid\n",
        "There is no subarray of size 3 as size of whole array is 2."
      ],
      "metadata": {
        "id": "iOOU-ENkP5DY"
      }
    },
    {
      "cell_type": "code",
      "source": [
        "def maxSum(arr,n,k):\n",
        "  if(k > n):\n",
        "    print('Invaild')\n",
        "  else:\n",
        "    window_sum = sum(arr[:k])\n",
        "    maximum_sum = window_sum\n",
        "    for i in range(k-1):\n",
        "     window_sum = window_sum + arr[i+3] - arr[i]\n",
        "     maximum_sum = max(maximum_sum,window_sum)\n",
        "    print('The maximum value  is {}'.format(maximum_sum))\n",
        "\n",
        "# Driver Code\n",
        "arr = [1, 4, 2, 10, 2, 3, 1, 0, 20]\n",
        "#arr= [5,2,-1,0,3]\n",
        "n = len(arr)\n",
        "k=4\n",
        "maxSum(arr,n,k)"
      ],
      "metadata": {
        "id": "9rg3TBISm0e7"
      },
      "execution_count": null,
      "outputs": []
    },
    {
      "cell_type": "markdown",
      "source": [
        "Ques 31:\n",
        "Buying and Selling the Stocks:\n",
        "Prices = [7,1,5,3,6,4]\n",
        "\n",
        "Days = [1,2,3,4,5,6]\n",
        "\n",
        "At day 1 ----> price of the stock is 7\n",
        "\n",
        "At day 5-----> price of the stock is 6\n",
        "\n",
        "What will be the maximum profit th trader can earn.\n",
        "\n",
        "Test case 1:\n",
        "Prices = [7,1,5,3,6,4]\n",
        "\n",
        "Maximum profit = 5\n",
        "\n",
        "If the trader buys the stock at day 2 whose price is Rs 1 and sells the stock at day 5 whose price is Rs 6 then he can earn the maximum profit of Rs 5."
      ],
      "metadata": {
        "id": "wSegBIUMqIf3"
      }
    },
    {
      "cell_type": "code",
      "source": [
        "def maximumProfit(prices):\n",
        "  low,high,maximum_profit = 0,1,0\n",
        "  buying_day,selling_day = 0,0\n",
        "  for i in range(1,len(prices)):\n",
        "    if(prices[low]>prices[high]):\n",
        "      low = high\n",
        "      high = high + 1\n",
        "    else:\n",
        "      profit = prices[high]-prices[low]\n",
        "      high = high + 1\n",
        "      if(maximum_profit < profit):\n",
        "        maximum_profit = profit\n",
        "        buying_day = low +1\n",
        "        selling_day = high\n",
        "  print('The maximum profit the trader can gain is {}'.format(maximum_profit))\n",
        "  print('The day of buying will be {} day and day of selling will be {} day'.format(buying_day,selling_day))\n",
        "# Driver Code\n",
        "prices = [7,200,5,33,26,4]\n",
        "maximumProfit(prices)"
      ],
      "metadata": {
        "id": "8dVuNapFkgiv"
      },
      "execution_count": null,
      "outputs": []
    },
    {
      "cell_type": "markdown",
      "source": [
        "  Ques 32:\n",
        "  Given an array of negative and non-negative integers. You have to make the array beautiful. An array is beautiful if two adjacent integers, arr[i] and arr[i+1] are either negative or non-negative. And you can do the following operation any number of times until the array becomes beautiful.\n",
        "\n",
        "If two adjacent integers are different i.e. one of them is negative and other is non-negative, remove them.\n",
        "Return the beautiful array after performing the above operation.\n",
        "\n",
        "Note:An empty array is also a beautiful array. There can be many adjacent integers which are different as stated above. So remove different adjacent integers as described above from left to right\n",
        "\n",
        "Test Case 1 :\n",
        "\n",
        "Input: 4 2 -2 1\n",
        "\n",
        "Output: 4 1\n",
        "\n",
        "Explanation: As at indices 1 and 2 , 2 and -2 have\n",
        "different sign, they are removed. And the  the final\n",
        "array is: 4 1.\n",
        "\n",
        "Test Case 2:\n",
        "\n",
        "Input: 2 -2 1 -1\n",
        "Output: []\n",
        "Explanation: As at indices 0 and 1, 2 and -2 have\n",
        "different sign, so they are removed. Now the array\n",
        "is 1 -1.Now 1 and -1 are also removed as they have\n",
        "different sign. So the final array is empty.\n",
        "\n",
        "The exact question can be found:\n",
        "\n",
        "https://practice.geeksforgeeks.org/problems/badefd58bace4f2ca25267ccfe0c9dc844415e90/1"
      ],
      "metadata": {
        "id": "0B00LvOajeXn"
      }
    },
    {
      "cell_type": "code",
      "source": [
        "# Approach 1 ----->Using extra space complexity\n",
        "\n",
        "#TIME COMPLEXITY --->O(N)\n",
        "# Space Complexity--->O(N)\n",
        "\n",
        "#original_array = [4, 2, -2, 1]\n",
        "#original_array = [2, -2, 1, -1]\n",
        "#original_array = [2 ,1 ,-4 ,3 ,-5 ,2 ,6 ,-3]\n",
        "original_array = [-3 ,-1 ,-19, 0, 6 ,-13, 12]\n",
        "#original_array = [10]\n",
        "resultant_array = []\n",
        "\n",
        "#if array containes only one element\n",
        "\n",
        "if(len(original_array) ==1):\n",
        "  one_element = original_array[0]\n",
        "  resultant_array.append(one_element)\n",
        "\n",
        "# if array containes more than one elemnt\n",
        "else:\n",
        "  for i in range(len(original_array)):\n",
        "    if (i + 1 < len(original_array)):\n",
        "      if(original_array[i] * original_array[i+1]<0):\n",
        "        # condition used to check the last element present in the array.\n",
        "        # if last element ----> +ve, then add that element to the resultant_array as this element is getting missed out.\n",
        "        print('not satisified')\n",
        "      else:\n",
        "        resultant_array.append(original_array[i])\n",
        "        original_array.pop(i)\n",
        "        print('Orignal array after pop out elements is {}'.format(original_array))\n",
        "        if(original_array[i] * original_array[i+1]>0):\n",
        "           original_array.pop(i)\n",
        "           print('Orignal array after pop out elements second time is {}'.format(original_array))\n",
        "           if(i>0):\n",
        "              i = i-1\n",
        "print('The value of array is {}'.format(resultant_array))\n"
      ],
      "metadata": {
        "id": "eixDh1MqmhIk"
      },
      "execution_count": null,
      "outputs": []
    },
    {
      "cell_type": "code",
      "source": [
        "# Approach 2 ----> Without using extra space\n",
        "\n",
        "#Time Complexity--->O(n)\n",
        "#Space Comlexity---->O(1)------>Constant\n",
        "\n",
        "original_array = [-3 ,-1 ,-19, 0, 6 ,-13, 12]\n",
        "#original_array = [2, -2, 1, -1]\n",
        "#original_array = [10]\n",
        "#original_array = [2 ,1 ,-4 ,3 ,-5 ,2 ,6 ,-3]\n",
        "#original_array = [4, 2, -2, 1]\n",
        "resultant_array = []\n",
        "\n",
        "#if array containes only one element\n",
        "\n",
        "if(len(original_array) ==1):\n",
        "  one_element = original_array[0]\n",
        "  resultant_array.append(one_element)\n",
        "\n",
        "else:\n",
        "  i = 0;\n",
        "  while(i < len(original_array)-1):\n",
        "    if(original_array[i] * original_array[i+1]<0):\n",
        "      if(i+1 ==len(original_array)-1):\n",
        "          if(original_array[i+1]>0):\n",
        "            resultant_array.append(original_array[i+1])\n",
        "      i = i+1\n",
        "    else:\n",
        "      resultant_array.append(original_array[i])\n",
        "      i = i+1\n",
        "  print('The value of array is {}'.format(resultant_array))\n"
      ],
      "metadata": {
        "id": "EifOGkMT3PkV"
      },
      "execution_count": null,
      "outputs": []
    },
    {
      "cell_type": "code",
      "source": [
        "def makeBeautiful(arr):\n",
        "    if(len(arr)<=1):\n",
        "        return arr\n",
        "    cur = 0\n",
        "    while(len(arr) and cur+1<len(arr)):\n",
        "        if((arr[cur]*arr[cur+1]<=0) and (arr[cur]<0 or arr[cur+1]<0)):\n",
        "            arr.pop(cur)\n",
        "            print('Value of array after first pop is {}'.format(arr))\n",
        "            arr.pop(cur)\n",
        "            print('Value of array after second pop is {}'.format(arr))\n",
        "            if(cur>0):\n",
        "                cur -= 1\n",
        "        else:\n",
        "            cur += 1\n",
        "\n",
        "    return arr\n",
        "\n",
        "# arr = [2, 1, -4, 3, -5, 2, 6, -3]\n",
        "# arr = [4, 2, -2, 1]\n",
        "# arr = [2, -2, 1, -1]\n",
        "arr = [-3,-1, -19, 0, 6, -13, 12]\n",
        "print(makeBeautiful(arr))"
      ],
      "metadata": {
        "id": "l8cPr6PhnD6v"
      },
      "execution_count": null,
      "outputs": []
    },
    {
      "cell_type": "markdown",
      "source": [
        "Ques 33:\n",
        "\n",
        "Write an algorithm to determine if a number n is happy.\n",
        "\n",
        "A happy number is a number defined by the following process:\n",
        "\n",
        "Starting with any positive integer, replace the number by the sum of the squares of its digits.\n",
        "Repeat the process until the number equals 1 (where it will stay), or it loops endlessly in a cycle which does not include 1.\n",
        "Those numbers for which this process ends in 1 are happy.\n",
        "Return true if n is a happy number, and false if not.\n",
        "\n",
        "\n",
        "Test Case 1:\n",
        "\n",
        "Input: n = 19\n",
        "\n",
        "Output: true\n",
        "\n",
        "Explanation:\n",
        "\n",
        "12 + 92 = 82\n",
        "\n",
        "82 + 22 = 68\n",
        "\n",
        "62 + 82 = 100\n",
        "\n",
        "12 + 02 + 02 = 1\n",
        "\n",
        "Test Case2:\n",
        "\n",
        "Input: n = 2\n",
        "\n",
        "Output: false\n",
        "\n",
        "Leetcode link -\n",
        "https://leetcode.com/problems/happy-number/"
      ],
      "metadata": {
        "id": "jC7dT9LI2ArX"
      }
    },
    {
      "cell_type": "code",
      "source": [
        "def sumSquareSum(num):\n",
        "              sum_square = 0\n",
        "              while(num!=0):\n",
        "                digit = int(num%10)\n",
        "                print('The value od digit is {}'.format(digit))\n",
        "                sum_square = sum_square + digit * digit\n",
        "                num = int(num/10)\n",
        "                print('The value of num is :{}'.format(num))\n",
        "                print('The sum_square insumSquareSum is {}'.format(sum_square))\n",
        "              return sum_square\n",
        "\n",
        "def isHappy(n):\n",
        "        sum_numbers = []\n",
        "        while(n!=0):\n",
        "          sum = sumSquareSum(n)\n",
        "          print('The value of sum is {}'.format(sum))\n",
        "          if (sum ==1):\n",
        "              print(sum_numbers)\n",
        "              return True\n",
        "          else:\n",
        "              if(sum in sum_numbers):\n",
        "                  print(sum_numbers)\n",
        "                  return False\n",
        "              else:\n",
        "                  sum_numbers.append(sum)\n",
        "                  print(sum_numbers)\n",
        "\n",
        "          print(sum_numbers)\n",
        "          n=sum\n",
        "          print(n)\n",
        "\n",
        "# Driver Code\n",
        "number = isHappy(7839)\n",
        "print(number)\n",
        "\n",
        "# 20"
      ],
      "metadata": {
        "id": "hmib9rAq8sYO"
      },
      "execution_count": null,
      "outputs": []
    },
    {
      "cell_type": "markdown",
      "source": [
        "Ques 34:\n",
        "Geek has a deck of N cards, each card has a number on it which is represented by an integer array Cards. He wants to know if his deck is lovely or not.\n",
        "A deck of cards is lovely if any arrangement of the cards could always be sorted by swaping any 2 cards such that the sum of the 2 cards is always odd. Also you can infinitely swap any 2 cards if their sum is odd.\n",
        "\n",
        "If the Geek's cards are lovely, return 1 else return 0.\n",
        "\n",
        "Input:\n",
        "\n",
        "N = 3\n",
        "\n",
        "Cards = {2, 2, 4}\n",
        "\n",
        "Output: 0\n",
        "\n",
        "Explanation: Although the cards are sorted, but the arrangement {4, 2, 2} could never be sorted using the good operations. The cards are not lovely.\n",
        "\n",
        "\n",
        "Input:\n",
        "\n",
        "N = 3\n",
        "\n",
        "Cards = {2, 1, 4}\n",
        "\n",
        "Output: 1\n",
        "\n",
        "Explanation: Although the cards are not sorted, but all the arrangements (including this) could be sorted using finite number of good operations. The cards are therefore lovely.\n",
        "\n"
      ],
      "metadata": {
        "id": "w8MR-F_6oTCu"
      }
    },
    {
      "cell_type": "code",
      "source": [
        "def isLovely(arr):\n",
        "  even_card =0\n",
        "  odd_card = 0\n",
        "  for cards in arr:\n",
        "    if(cards%2 == 0):\n",
        "      even_card = even_card +1\n",
        "    else:\n",
        "      odd_card = odd_card + 1\n",
        "  if(even_card * odd_card == 0):\n",
        "    return 0\n",
        "  else:\n",
        "    return 1\n",
        "\n",
        "# Driver Code\n",
        "arr = [2,2,4]\n",
        "isLovely(arr)"
      ],
      "metadata": {
        "id": "xMzJf5yDoSv-"
      },
      "execution_count": null,
      "outputs": []
    },
    {
      "cell_type": "markdown",
      "source": [
        "Ques 35 : From the unsorted array, find the 2nd maximum element and the 2nd minimum element in Time complexity of O(N)\n",
        "\n",
        "\n",
        "Example1:\n",
        "\n",
        "\n",
        "Input 1:\n",
        "\n",
        "arr = [1,5,6,7,8]\n",
        "\n",
        "Output:\n",
        "7 5\n",
        "\n",
        "Second Maximum element = 7\n",
        "\n",
        "Second Minimum element = 5\n",
        "\n",
        "The link to the question can be found here:\n",
        "\n",
        "https://practice.geeksforgeeks.org/problems/ishwar-and-his-proposals1140/1\n",
        "\n"
      ],
      "metadata": {
        "id": "zoEEZuhV21xZ"
      }
    },
    {
      "cell_type": "code",
      "source": [
        "def secondMaxAndMinlement(arr):\n",
        "  maximum_element = 0\n",
        "  second_maximum_element = 0\n",
        "  minimum_element = float('inf')\n",
        "  second_minimum_element = float('inf')\n",
        "  for i in range(len(arr)):\n",
        "    if arr[i]>maximum_element:\n",
        "      second_maximum_element = maximum_element\n",
        "      maximum_element = arr[i]\n",
        "    elif(arr[i]> second_maximum_element):\n",
        "      second_maximum_element = arr[i]\n",
        "  for i in range(len(arr)):\n",
        "    if arr[i]< minimum_element:\n",
        "      second_minimum_element = minimum_element\n",
        "      minimum_element = arr[i]\n",
        "    elif(arr[i]< second_minimum_element):\n",
        "      second_minimum_element = arr[i]\n",
        "  #print('Second Maximum element is {}'.format(second_maximum_element))\n",
        "  #print('Second Mimimum element is {}'.format(second_minimum_element))\n",
        "  return second_maximum_element,second_minimum_element\n",
        "\n",
        "# Driver Code:\n",
        "arr = [6 ,9 ,1, 4, 8]\n",
        "#arr = [6,8,1,4,9]\n",
        "secondMaxAndMinlement(arr)\n"
      ],
      "metadata": {
        "id": "YuryvNQiwpqx"
      },
      "execution_count": null,
      "outputs": []
    },
    {
      "cell_type": "markdown",
      "source": [
        "Ques:From the unsorted array, find the index of the 2nd maximum element and in Time complexity of O(N)\n",
        "\n",
        "\n",
        "Example1:\n",
        "\n",
        "\n",
        "Input 1:\n",
        "\n",
        "arr = [6 ,9 ,1, 4, 8]\n",
        "\n",
        "Output:\n",
        "4\n",
        "\n",
        "Second Maximum element = 8 which is present at 4th location or position\n",
        "\n",
        "\n",
        "\n",
        "\n"
      ],
      "metadata": {
        "id": "AjM_I0GPKjLB"
      }
    },
    {
      "cell_type": "code",
      "source": [
        "#Apporach 1 --->Uisng the 2 functions one for finding the smallest number and one for finding the\n",
        "# index of that smallest number\n",
        "\n",
        "def secondMaxAndMinlement(arr):\n",
        "  maximum_element = 0\n",
        "  second_maximum_element = 0\n",
        "  for i in range(len(arr)):\n",
        "    if arr[i]>maximum_element:\n",
        "      second_maximum_element = maximum_element\n",
        "      maximum_element = arr[i]\n",
        "    elif(arr[i]> second_maximum_element):\n",
        "      second_maximum_element = arr[i]\n",
        "  print('Second Maximum element  is {}'.format(second_maximum_element))\n",
        "  return second_maximum_element\n",
        "\n",
        "def secondMaximumIndex(arr):\n",
        "  second_maximum_index = 0\n",
        "  secondMaximumElement = secondMaxAndMinlement(arr)\n",
        "  for i in range(len(arr)):\n",
        "    if(secondMaximumElement == arr[i]):\n",
        "        second_maximum_index = i\n",
        "  return second_maximum_index\n",
        "\n",
        "\n",
        "# Driver Code:\n",
        "arr = [6 ,9 ,1, 4, 8]\n",
        "#arr = [10,5,8,20]\n",
        "#arr = [6,8,1,4,9]\n",
        "secondMaximumIndex(arr)"
      ],
      "metadata": {
        "id": "W9LO18tDkIib"
      },
      "execution_count": null,
      "outputs": []
    },
    {
      "cell_type": "code",
      "source": [
        "#Apporach 1 --->Uisng the one function only.\n",
        "\n",
        "def secondMaxAndMinlement(arr):\n",
        "  maximum_element_index = 0\n",
        "  second_maximum_element_index = -1\n",
        "  for i in range(len(arr)):\n",
        "    if (arr[i]>arr[maximum_element_index]):\n",
        "      #if(arr[second_maximum_element_index] > arr[maximum_element_index]):\n",
        "      #  second_maximum_element_index = maximum_element_index\n",
        "      second_maximum_element_index = maximum_element_index\n",
        "      maximum_element_index = i\n",
        "\n",
        "    elif(arr[i] != arr[maximum_element_index]):\n",
        "      if(second_maximum_element_index == -1 or\n",
        "         arr[second_maximum_element_index]  < arr[i]):\n",
        "            second_maximum_element_index = i\n",
        "  return second_maximum_element_index\n",
        "\n",
        "# Driver Code:\n",
        "arr = [6 ,9 ,1, 4, 18]\n",
        "#arr = [10,5,8,20,19]\n",
        "#arr = [6,8,1,4,9]\n",
        "secondMaxAndMinlement(arr)"
      ],
      "metadata": {
        "id": "AdX4BGEDKiIF"
      },
      "execution_count": null,
      "outputs": []
    },
    {
      "cell_type": "markdown",
      "source": [
        "Ques 35:\n",
        "Given an array arr of size N and two integers l and r, the task is to sort the given array in non - decreasing order in the index range from l to r.\n",
        "\n",
        "Input:\n",
        "\n",
        "N = 4\n",
        "\n",
        "arr[] = {1, 5, 3, 2}\n",
        "\n",
        "l = 2, r = 3\n",
        "\n",
        "Output: {1, 5, 2, 3}\n",
        "\n",
        "Explanation: After sorting array\n",
        "will look like {1, 5, 2, 3}\n",
        "\n",
        "\n",
        "Input:\n",
        "\n",
        "N = 3\n",
        "\n",
        "arr[] = {2, 3, 4}\n",
        "\n",
        "l = 0, r = 2\n",
        "\n",
        "Output: {2, 3, 4}\n",
        "\n",
        "Explanation: Array is already sorted\n",
        "\n",
        "https://practice.geeksforgeeks.org/problems/part-sort2851/1"
      ],
      "metadata": {
        "id": "9zPxdiO39wfC"
      }
    },
    {
      "cell_type": "markdown",
      "source": [
        "Approach:\n",
        "\n",
        "Make a temporary array of the elements for the given index range of the array.\n",
        "\n",
        "Sort this temporary array.\n",
        "\n",
        "Now modify the original array with these sorted elements of temporary array for the given index range."
      ],
      "metadata": {
        "id": "dD_t1aqInx5x"
      }
    },
    {
      "cell_type": "code",
      "source": [
        "# Time Complexity --->O(n)\n",
        "# Space Complexity ---->O(n)\n",
        "# Conept: In this question it is not necessary that l will be lower and r will be higher.\n",
        "# There can be scenario, l < r and r < l ----->Accordingly we have taken the considerations in our code\n",
        "\n",
        "def sortArrayRange(arr,l,r):\n",
        "\n",
        "  if(l<r):\n",
        "    # Temporary array ---> temp intially contains 0 value at all the places.\n",
        "    temp = [0 for i in range(l,r+1)]\n",
        "    j = 0\n",
        "    for i in range(l,r+1):\n",
        "      temp[j] = arr[i]\n",
        "      j= j + 1\n",
        "    print('Value of temp is {}'.format(temp))\n",
        "\n",
        "    # Sorting the temp array\n",
        "    temp.sort()\n",
        "    print(temp)\n",
        "    # Replacing the values of arr at required position with the values of temp\n",
        "\n",
        "    k = 0\n",
        "    for i in range(l,r+1):\n",
        "      print(i)\n",
        "      arr[i] = temp[k]\n",
        "      k=k+1\n",
        "    print('Value of arr is {}'.format(arr))\n",
        "\n",
        "  elif(l>r):\n",
        "     temp = [0 for i in range(r,l+1)]\n",
        "     j = 0\n",
        "     for i in range(r,l+1):\n",
        "        temp[j] = arr[i]\n",
        "        j= j + 1\n",
        "     print('Value of temp is {}'.format(temp))\n",
        "\n",
        "    # Sorting the temp array\n",
        "     temp.sort()\n",
        "     print(temp)\n",
        "\n",
        "    # Replacing the values of arr at required position with the values of temp\n",
        "     k = 0\n",
        "     for i in range(r,l+1):\n",
        "      print(i)\n",
        "      arr[i] = temp[k]\n",
        "      k=k+1\n",
        "     print('Value of arr is {}'.format(arr))\n",
        "\n",
        "\n",
        "# Driver Code\n",
        "#l = 2\n",
        "#r = 3\n",
        "l = 2\n",
        "r = 0\n",
        "#arr = [1,5,3,2]\n",
        "arr = [12, 5, 9]\n",
        "sortArrayRange(arr,l,r)"
      ],
      "metadata": {
        "id": "IJwigl7UA9aD"
      },
      "execution_count": null,
      "outputs": []
    },
    {
      "cell_type": "markdown",
      "source": [
        "Ques 36:\n",
        "Given an array of integers Arr of size N and a number K. Return the maximum sum of a subarray of size K.\n",
        "\n",
        "NOTE*: A subarray is a contiguous part of any given array.\n",
        "\n",
        "Input:\n",
        "\n",
        "N = 4, K = 2\n",
        "\n",
        "Arr = [100, 200, 300, 400]\n",
        "\n",
        "Output:\n",
        "\n",
        "700\n",
        "\n",
        "Explanation:\n",
        "\n",
        "Arr3  + Arr4 =700,\n",
        "\n",
        "which is maximum.\n",
        "\n",
        "Input:\n",
        "\n",
        "N = 4, K = 4\n",
        "\n",
        "Arr = [100, 200, 300, 400]\n",
        "\n",
        "Output:\n",
        "\n",
        "1000\n",
        "\n",
        "Explanation:\n",
        "\n",
        "Arr1 + Arr2 +\n",
        " Arr3  + Arr4 =1000,\n",
        "\n",
        "which is maximum.\n",
        "\n",
        "https://practice.geeksforgeeks.org/problems/max-sum-subarray-of-size-k5313/1?utm_source=geeksforgeeks&utm_medium=article_practice_tab&utm_campaign=article_practice_tab"
      ],
      "metadata": {
        "id": "-HjGiGSpRF_2"
      }
    },
    {
      "cell_type": "code",
      "source": [
        "def maximumSumSubarray (K,Arr,N):\n",
        "        res = 0\n",
        "        for i in range(K):\n",
        "            res = res + Arr[i]\n",
        "        current_sum = res\n",
        "       # print(current_sum)\n",
        "        max_sum = res\n",
        "        #for i in range(1,N-K+1):\n",
        "        for i in range(K,N):\n",
        "            current_sum = current_sum + Arr[i]-Arr[i-K]     #print(Arr[K])\n",
        "            #print(Arr[i-1])\n",
        "            #current_sum = current_sum + Arr[i+K-1]-Arr[i-1]\n",
        "            #print(current_sum)\n",
        "            #print(current_sum)\n",
        "            if(current_sum > max_sum):\n",
        "                 max_sum = current_sum\n",
        "            #res = max(res,current_sum)\n",
        "        return max_sum\n",
        "\n",
        "\n",
        "#Driver Code:\n",
        "Arr = [62 ,255 ,127 ,160 ,245]\n",
        "#Arr = [100 ,200 ,300 ,400]\n",
        "N = len(Arr)\n",
        "#K= 2\n",
        "K = 4\n",
        "maximumSumSubarray (K,Arr,N)"
      ],
      "metadata": {
        "id": "3P832nfcSKEr"
      },
      "execution_count": null,
      "outputs": []
    },
    {
      "cell_type": "markdown",
      "source": [
        "Ques37\n",
        ":Maximum of all subarrays of size k\n",
        "Input:\n",
        "\n",
        "N = 9, K = 3\n",
        "\n",
        "arr[] = 1 2 3 1 4 5 2 3 6\n",
        "\n",
        "Output:\n",
        "3 3 4 5 5 5 6\n",
        "\n",
        "Explanation:\n",
        "1st contiguous subarray = {1 2 3} Max = 3\n",
        "\n",
        "2nd contiguous subarray = {2 3 1} Max = 3\n",
        "\n",
        "3rd contiguous subarray = {3 1 4} Max = 4\n",
        "\n",
        "4th contiguous subarray = {1 4 5} Max = 5\n",
        "\n",
        "5th contiguous subarray = {4 5 2} Max = 5\n",
        "\n",
        "6th contiguous subarray = {5 2 3} Max = 5\n",
        "\n",
        "7th contiguous subarray = {2 3 6} Max = 6\n",
        "\n",
        "\n",
        "\n",
        "\n",
        "Input:\n",
        "\n",
        "N = 10, K = 4\n",
        "\n",
        "arr[] = 8 5 10 7 9 4 15 12 90 13\n",
        "\n",
        "Output:\n",
        "\n",
        "10 10 10 15 15 90 90\n",
        "\n",
        "Explanation:\n",
        "\n",
        "1st contiguous subarray = {8 5 10 7}, Max = 10\n",
        "\n",
        "2nd contiguous subarray = {5 10 7 9}, Max = 10\n",
        "\n",
        "3rd contiguous subarray = {10 7 9 4}, Max = 10\n",
        "\n",
        "4th contiguous subarray = {7 9 4 15}, Max = 15\n",
        "\n",
        "5th contiguous subarray = {9 4 15 12},\n",
        "\n",
        "Max = 15\n",
        "\n",
        "6th contiguous subarray = {4 15 12 90},\n",
        "\n",
        "Max = 90\n",
        "\n",
        "7th contiguous subarray = {15 12 90 13},\n",
        "\n",
        "Max = 90\n",
        "\n",
        "https://practice.geeksforgeeks.org/problems/max-sum-subarray-of-size-k5313/0"
      ],
      "metadata": {
        "id": "FzrI7ShZw-Wp"
      }
    },
    {
      "cell_type": "code",
      "source": [
        "                                                                        ####    Approach 1 #########\n",
        "#Time Complexity  -------> O(n2)\n",
        "#Space Complexity -------> O(n)\n",
        "def subArray(arr,i,k):\n",
        "  array2 = [0 for j in range(i,k+1)]\n",
        "  l=0\n",
        "  for j in range(i,k+1):\n",
        "    if(l<=k):\n",
        "      array2[l] = arr[j]\n",
        "      l=l+1\n",
        "    #array2.append(arr[j])\n",
        "  return array2\n",
        "\n",
        "def maxiumElementSubarray(arr,k,n):\n",
        "  max_element_subarray = 0\n",
        "  max_subarray = []\n",
        "  for j in range(n-k+1):\n",
        "    l = 0\n",
        "    print('Value fo j is {}'.format(j))\n",
        "    maxarray = subArray(arr,j,j+k-1)\n",
        "    if(l<=len(maxarray)):\n",
        "      if(maxarray[l]>max_element_subarray):\n",
        "         #print(maxarray[l])\n",
        "         max_element_subarray = maxarray[l]\n",
        "         #max_subarray.append(max_element_subarray)\n",
        "         print(max_element_subarray)\n",
        "         l=l+1\n",
        "       #max_element_subarray = max(maxarray)\n",
        "      max_subarray.append(max_element_subarray)\n",
        "  return max_subarray\n",
        "\n",
        "\n",
        "# Driver code\n",
        "\n",
        "k = 3\n",
        "arr=[1 ,2 ,3 ,1 ,4 ,5 ,2 ,3 ,6]\n",
        "#arr = [8 ,5 ,10 ,7 ,9 ,4 ,15 ,12 ,90 ,13]\n",
        "n = len(arr)\n",
        "#k = 4\n",
        "maxiumElementSubarray(arr,k,n)\n"
      ],
      "metadata": {
        "id": "Rv3ALxLbZeYi"
      },
      "execution_count": null,
      "outputs": []
    },
    {
      "cell_type": "markdown",
      "source": [
        "Ques 38:\n",
        "K-th Largest Sum Contiguous Subarray\n"
      ],
      "metadata": {
        "id": "XhNbcfTtx09N"
      }
    },
    {
      "cell_type": "code",
      "source": [
        "def maximumSumSubarray (K,Arr,N):\n",
        "        res = 0\n",
        "        for i in range(K):\n",
        "            res = res + Arr[i]\n",
        "        current_sum = res\n",
        "       # print(current_sum)\n",
        "        max_sum = res\n",
        "        #for i in range(1,N-K+1):\n",
        "        for i in range(K,N):\n",
        "            current_sum = current_sum + Arr[i]-Arr[i-K]     #print(Arr[K])\n",
        "            #print(Arr[i-1])\n",
        "            #current_sum = current_sum + Arr[i+K-1]-Arr[i-1]\n",
        "            #print(current_sum)\n",
        "            #print(current_sum)\n",
        "            if(current_sum > max_sum):\n",
        "                 max_sum = current_sum\n",
        "            #res = max(res,current_sum)\n",
        "        return max_sum\n",
        "# Driver Code\n",
        "#N = 3\n",
        "#K = 2\n",
        "#Arr = [3,2,1]\n",
        "N = 10\n",
        "K = 20\n",
        "Arr = [19 ,14 ,4 ,9 ,16 ,4 ,12 ,10 ,6 ,16]\n",
        "maximumSumSubarray (K,Arr,N)"
      ],
      "metadata": {
        "id": "-AQKSgDHyYFX"
      },
      "execution_count": null,
      "outputs": []
    },
    {
      "cell_type": "markdown",
      "source": [
        "Question 40:\n",
        "Addition Under Modulo:\n",
        "Given two numbers a and b, find the sum of a and b. Since the sum can be very large, find the sum modulo 109+7.\n",
        "\n",
        "Input:\n",
        "\n",
        "a = 9223372036854775807\n",
        "\n",
        "b = 9223372036854775807\n",
        "\n",
        "Output: 582344006\n",
        "\n",
        "Explanation:\n",
        "\n",
        "9223372036854775807 + 9223372036854775807\n",
        "\n",
        "= 18446744073709551614.\n",
        "\n",
        "18446744073709551614 mod (109+7)\n",
        "\n",
        "= 582344006\n",
        "\n",
        "\n",
        "Input:\n",
        "\n",
        "a = 1000000007\n",
        "\n",
        "b = 1000000007\n",
        "\n",
        "Output: 0\n",
        "\n",
        "Explanation: 1000000007 + 1000000007 =\n",
        "\n",
        "(2000000014) mod (109+7) = 0"
      ],
      "metadata": {
        "id": "w-MibTuoZRg3"
      }
    },
    {
      "cell_type": "code",
      "source": [
        "def sumUnderModulo(a,b):\n",
        "        a = (a %(10**9 + 7))\n",
        "        b = (b % (10**9 + 7))\n",
        "        result = ((a+b)%(10**9 + 7))\n",
        "        return result\n",
        "\n",
        "# Driver code:\n",
        "\n",
        "a = int(input('Enter the first number: '))\n",
        "b = int(input('Enter the second number: '))\n",
        "sumUnderModulo(a,b)"
      ],
      "metadata": {
        "id": "zFI5ZY9PZiLf"
      },
      "execution_count": null,
      "outputs": []
    },
    {
      "cell_type": "markdown",
      "source": [
        "**Question 41: Swapping the Alternate Numbers in the array**"
      ],
      "metadata": {
        "id": "G_ataQbksp-q"
      }
    },
    {
      "cell_type": "code",
      "source": [
        "# Test case 1(Even Size)\n",
        "# Input_Array = [3,1,7,2,8,11]\n",
        "# Output_Arrray = [1,3,2,7,11,8]\n",
        "\n",
        "# Test case 2 (Odd Size array)\n",
        "# Input_Array =   [3,1,7,2,8,11,19]\n",
        "# Output_Arrray = [1,3,2,7,11,8,19]\n",
        "\n",
        "# PROBLEM:\n",
        "# 1.I was always incrementing the value of i by 1 only.--->I value should have been increased by 2\n",
        "# 2.i+1 was getting out of range---> i+ 1 < size conditon should be applied.\n",
        "\n",
        "def swappingAlternateElements(array,n):\n",
        "  temp = 0\n",
        "  #i value changes by 2 i.e i = i+2\n",
        "  for i in range(0,n,2):\n",
        "    # This is a very important condition for removing the error of index out of range.\n",
        "    if i+1< n:\n",
        "      temp = array[i+1]\n",
        "      array[i+1] = array[i]\n",
        "      array[i] = temp\n",
        "      print(\"The value of temp is {}\".format(temp))\n",
        "      print(\"The value of the array after the {} times swapp is {}\".format(i,array))\n",
        "  print(\"The Value of Array After The Alternate Swapping is {}\".format(array))\n",
        "\n",
        "\n",
        "\n",
        "# Driver Code\n",
        "#array = [3,1,7,2,8,11]\n",
        "#array = [3,1,7,2,8,11,19]\n",
        "array =  [3,1,7,2,8,11,19,21,45]\n",
        "n = len(array)\n",
        "swappingAlternateElements(array,n)\n"
      ],
      "metadata": {
        "id": "wUZ5keGtsyX6"
      },
      "execution_count": null,
      "outputs": []
    },
    {
      "cell_type": "markdown",
      "source": [
        "Question 42:\n",
        "Finding the Unique Element in an Array. Exact Problem Description can be found in this link:\n",
        "\n",
        "https://www.codingninjas.com/codestudio/problems/find-unique_625159"
      ],
      "metadata": {
        "id": "PfgHFlHxs4ha"
      }
    },
    {
      "cell_type": "code",
      "source": [
        "# CONCEPT USED----->XOR i.e 2 ^2 = 0(Same elements xor gives 0) and 0^2=2(XOR of 0 with any element gives the same element)\n",
        "# Test Case 1 :\n",
        "# array =  [2,3,1,6,3,6,2]\n",
        "# Output = 1\n",
        "\n",
        "# Test Case 2 :\n",
        "# array =  [2,4,7,2,7]\n",
        "# Output = 4\n",
        "\n",
        "def findUniqueElement(array,n):\n",
        "  unique_element = 0\n",
        "  for i in range(n):\n",
        "    unique_element = unique_element ^ array[i]\n",
        "    print(unique_element)\n",
        "  print(\"The value of unique element present in the array is {}\".format(unique_element))\n",
        "\n",
        "\n",
        "#Driver Code\n",
        "#array =  [2,4,7,2,7]\n",
        "#array =  [2,3,1,6,3,6,2]\n",
        "array =  [3,1,4,3,4]\n",
        "n = len(array)\n",
        "findUniqueElement(array,n)"
      ],
      "metadata": {
        "id": "ULiHzMg_s_2v"
      },
      "execution_count": null,
      "outputs": []
    },
    {
      "cell_type": "markdown",
      "source": [
        "Question 43:\n",
        "Find Duplicates in an array.The exact Question can be found in the below link:\n",
        "https://www.codingninjas.com/codestudio/problems/find-duplicate-in-array_1112602"
      ],
      "metadata": {
        "id": "s5nYWOf1ujPS"
      }
    },
    {
      "cell_type": "code",
      "source": [
        "# Approach 1 --------> NORMAL APPROACH(BRUTT FORCE APPROACH)\n",
        "# Time Complexity--->O(L^2)\n",
        "# Space Complexity---> O(1)\n",
        "def duplicatesInArray(array,L):\n",
        "        #print(nums)\n",
        "        L = len(array)\n",
        "        count = 0\n",
        "        unique_element = 0\n",
        "        for i in range(L):                           #----------------------------------------------------------------->O(L)\n",
        "            for j in range(i+1,L):                   #----------------------------------------------------------------->0(L)\n",
        "                if array[i]==array[j]:\n",
        "                  unique_element = array[i]\n",
        "                  count = count + 1\n",
        "        if count ==0:\n",
        "            print(\"No unique elements present!!\")\n",
        "        else:\n",
        "            print(\"The duplicate element present in the array is {}\".format(unique_element))\n",
        "\n",
        "# Driver Code\n",
        "\n",
        "#array = [2,7,11,15,-2,7]\n",
        "#array = [2,7,11,15,-2]\n",
        "array = [2,7,11,15,-2,15]\n",
        "#array = [2,7,11,15,-2,7]\n",
        "L = len(array)\n",
        "duplicatesInArray(array, L)"
      ],
      "metadata": {
        "id": "8SqkI4cRup1G"
      },
      "execution_count": null,
      "outputs": []
    },
    {
      "cell_type": "code",
      "source": [
        "# Approach 2  --------> XOR Operator\n",
        "# Time Complexity--->O(2n)\n",
        "# Space Complexity---> O(1)\n",
        "def duplicatesInArray(array,n):\n",
        "  array2 = []\n",
        "  duplicate_element = 0\n",
        "\n",
        "  for i in range(n):#---------------------------------------->O(n)\n",
        "\n",
        "    duplicate_element = duplicate_element ^ array[i]\n",
        "  #print(duplicate_element)\n",
        "\n",
        "  for i in range(1,n): #------------------------------------>O(n)\n",
        "\n",
        "    duplicate_element = duplicate_element ^ i\n",
        "  print(duplicate_element)\n",
        "\n",
        "# Driver Code\n",
        "# array = [1 , 3 , 4 , 2, 2]\n",
        "array = [3, 1 ,3 ,4 ,2]\n",
        "n = len(array)\n",
        "duplicatesInArray(array, n)"
      ],
      "metadata": {
        "id": "EIwQ2xplussO"
      },
      "execution_count": null,
      "outputs": []
    },
    {
      "cell_type": "markdown",
      "source": [
        "Question 44:\n",
        "Find All Duplicates in an array.The exact Question can be found in the below link:\n",
        "\n",
        "https://leetcode.com/problems/find-all-duplicates-in-an-array/"
      ],
      "metadata": {
        "id": "AWjnAPPFvZ8r"
      }
    },
    {
      "cell_type": "code",
      "source": [
        "# Approach 1 --------> NORMAL APPROACH(BRUTT FORCE APPROACH)\n",
        "# Time Complexity--->O(L^2)\n",
        "# Space Complexity---> O(1)\n",
        "def allDuplicatesInArray(array,n):\n",
        "        print(\"The array input by the user is {}\".format(array))\n",
        "        #print(nums)\n",
        "        L = len(array)\n",
        "        duplicate_element = 0\n",
        "        count = 0\n",
        "        for i in range(n):                           #----------------------------------------------------------------->O(n)\n",
        "            for j in range(i+1,L):                   #----------------------------------------------------------------->0(n)\n",
        "                if array[i]==array[j]:\n",
        "                  duplicate_element = array[i]\n",
        "                  count = count + 1\n",
        "                  print(\"The duplicate element {} present in the array is {}\".format(count,duplicate_element))\n",
        "        if duplicate_element == 0:\n",
        "            print(\"No duplicate element found !! Please Input New array having duplicate elements\")\n",
        "\n",
        "# Driver Code\n",
        "array = [4,3,2,7,8,2,3,1,7]\n",
        "#array = [4,3,2,7]\n",
        "#Output 1 = 3,2\n",
        "#array = [1,1,2]\n",
        "# Output 2 = 1\n",
        "#array = [1,2,3]\n",
        "# Output 3 = 0\n",
        "n = len(array)\n",
        "allDuplicatesInArray(array, n)"
      ],
      "metadata": {
        "id": "JG4W4IK0vgEf"
      },
      "execution_count": null,
      "outputs": []
    },
    {
      "cell_type": "code",
      "source": [
        "# Approach 2  --------> XOR Operator (Still Left)"
      ],
      "metadata": {
        "id": "hkkw0jKhvkC6"
      },
      "execution_count": null,
      "outputs": []
    },
    {
      "cell_type": "markdown",
      "source": [
        "Question 45:\n",
        "Find intersection of elements in an array.The exact Question can be found in the below link:\n",
        "https://www.codingninjas.com/codestudio/problems/intersection-of-2-arrays_1082149\n",
        "\n",
        "CASE 2 --->THE ARRAYS ARE SORTED."
      ],
      "metadata": {
        "id": "RDaQbbR8wVmR"
      }
    },
    {
      "cell_type": "code",
      "source": [
        "# METHOD 1 ---->BRUTT FORCE:\n",
        "# Time Complexity--->O(m*n).\n",
        "# Space Complexity---->O(m&n me common)--->Not a constant Space Complexity.\n",
        "def intersectionTwoArray(nums1,nums2,n1,n2):\n",
        "  count = 0\n",
        "  common_list = []\n",
        "  n1 = len(nums1)\n",
        "  n2 = len(nums2)\n",
        "  for i in range(n1):\n",
        "    element = nums1[i]\n",
        "    for j in range(n2):\n",
        "      if element == nums2[j]:\n",
        "        common_list.append(element)\n",
        "        count = count + 1\n",
        "        nums2[j]=-1\n",
        "        print(\"The valus of the {} common element present in the array is {}\".format(count ,element))\n",
        "        break\n",
        "  print(common_list)\n",
        "\n",
        "# Driver Code\n",
        "# Test Case1\n",
        "nums1 = [1 ,2 ,2 ,2, 3 ,4]\n",
        "nums2 = [2 ,2 ,3 ,3]\n",
        "# Output: [2,2,3]\n",
        "\n",
        "# Test Case 2\n",
        "#nums1 = [1,4,5]\n",
        "#nums2 = [3,4,5]\n",
        "# Output: [4,5]\n",
        "\n",
        "# Test Case 3\n",
        "#nums1 = [1,2,3]\n",
        "#nums2 = [3,4]\n",
        "# Output = [3]\n",
        "n1 = len(nums1)\n",
        "n2 = len(nums2)\n",
        "intersectionTwoArray(nums1,nums2,n1,n2)"
      ],
      "metadata": {
        "id": "Ys-drCX-wbz0"
      },
      "execution_count": null,
      "outputs": []
    },
    {
      "cell_type": "code",
      "source": [
        "# Method 2 --->Time Complexity--->O(n),where n = n1+n2\n",
        "# Space Complexity = O(1)(Constant)\n",
        "def intersectionTwoArray(nums1,nums2,n1,n2):\n",
        "  i =0\n",
        "  j=0\n",
        "  common_list = []\n",
        "  n1 = len(nums1)\n",
        "  n2 = len(nums2)\n",
        "  while(i < n1 and j <n2):   # ------------------------------------>O(n1+n2)=O(n)\n",
        "    if nums1[i] < nums2[j]:\n",
        "      i=i+1\n",
        "    elif nums1[i] == nums2[j]:\n",
        "      common_list.append(nums1[i])\n",
        "      i = i+1\n",
        "      j = j+1\n",
        "    else:\n",
        "      j=j+1\n",
        "  print(common_list)\n",
        "\n",
        "\n",
        "# Driver Code\n",
        "# Test Case1\n",
        "nums1 = [1 ,2 ,2 ,2, 3 ,4]\n",
        "nums2 = [2 ,2 ,3 ,3]\n",
        "# Output: [2,2,3]\n",
        "\n",
        "# Test Case 2\n",
        "#nums1 = [1,4,5]\n",
        "#nums2 = [3,4,5]\n",
        "# Output: [4,5]\n",
        "\n",
        "# Test Case 3\n",
        "#nums1 = [1,2,3]\n",
        "#nums2 = [3,4]\n",
        "# Output = [3]\n",
        "n1 = len(nums1)\n",
        "n2 = len(nums2)\n",
        "intersectionTwoArray(nums1,nums2,n1,n2)"
      ],
      "metadata": {
        "id": "piZNaiM4wcet"
      },
      "execution_count": null,
      "outputs": []
    },
    {
      "cell_type": "markdown",
      "source": [
        "Problem46: We have arrays containg 0 and 1 in an unsorted manner.Function define so that the array is in the sorted fashion without using the sort method.\n",
        "\n",
        " Test Case 1\n",
        "\n",
        "\n",
        " array = [0,1,1,0,1]\n",
        "\n",
        " Output--->[0,0,1,1,1]\n",
        "\n",
        " Test Case 2\n",
        "\n",
        " array = [1,0,1,1,1,0,1,0,0,1]\n",
        "\n",
        " Output --->[0,0,0,0,1,1,1,1,1,1]\n",
        "\n",
        " https://practice.geeksforgeeks.org/problems/binary-array-sorting-1587115620/1"
      ],
      "metadata": {
        "id": "4bSn6I3uQXba"
      }
    },
    {
      "cell_type": "code",
      "source": [
        "# Method 1 --->Using while Loop\n",
        "# Time Complexity--->O(n)\n",
        "# Space Complexity--->O(1)\n",
        "\n",
        "def sortingElements(array,n1,n2):\n",
        "  temp = 0\n",
        "  while(n1<n2):\n",
        "    if array[n1] ==0:\n",
        "      n1 = n1+1\n",
        "    elif array[n2] ==1:\n",
        "      n2 = n2-1\n",
        "    else:\n",
        "      temp = array[n1]\n",
        "      array[n1] = array[n2]\n",
        "      array[n2] = temp\n",
        "  print(\"The original array after the sorting is {}\".format(array))\n",
        "# Driver Code\n",
        "\n",
        "# Test Case 1\n",
        "# array = [0,1,1,0,1]\n",
        "# Output--->[0,0,1,1,1]\n",
        "\n",
        "# Test Case 2\n",
        "array = [1,0,1,1,1,0,1,0,0,1]\n",
        "# Output --->[0,0,0,0,1,1,1,1,1,1]\n",
        "\n",
        "n = len(array)\n",
        "n1 = 0\n",
        "n2 = n-1\n",
        "sortingElements(array,n1,n2)"
      ],
      "metadata": {
        "id": "SnkiIL_YQZ9W"
      },
      "execution_count": null,
      "outputs": []
    },
    {
      "cell_type": "code",
      "source": [
        "def sortingElements(array,n1,n2):\n",
        "  temp = 0\n",
        "  while(n1<n2):\n",
        "    if array[n1]<array[n2]:\n",
        "      n1 = n1+1\n",
        "      n2 = n2-1\n",
        "    elif array[n1]>array[n2]:\n",
        "      temp = array[n1]\n",
        "      array[n1] = array[n2]\n",
        "      array[n2] = temp\n",
        "      n1= n1+1\n",
        "      n2=n2-1\n",
        "    elif array[n1] ==array[n2]:\n",
        "      if(array[n1]==1):\n",
        "        n2 = n2-1\n",
        "      elif(array[n1]==0):\n",
        "        n1 = n1 + 1\n",
        "\n",
        "  print(\"The original array after the sorting is {}\".format(array))\n",
        "# Driver Code\n",
        "\n",
        "# Test Case 1\n",
        "#array = [0,1,1,0,1]\n",
        "# Output--->[0,0,1,1,1]\n",
        "\n",
        "# Test Case 2\n",
        "array = [1,0,1,1,1,0,1,0,0,1]\n",
        "# Output --->[0,0,0,0,1,1,1,1,1,1]\n",
        "\n",
        "n = len(array)\n",
        "n1 = 0\n",
        "n2 = n-1\n",
        "sortingElements(array,n1,n2)"
      ],
      "metadata": {
        "id": "rVozSJqpQrHR"
      },
      "execution_count": null,
      "outputs": []
    },
    {
      "cell_type": "markdown",
      "source": [
        "Question47:Given two arrays of equal size N and an integer K. The task is to\n",
        "\n",
        " check if after permuting both arrays, we get sum of their corresponding\n",
        "\n",
        " element greater than or equal to k i.e Ai + Bi >= K for all i (from 0 to N-1).\n",
        "\n",
        " Return true if possible, else false.\n",
        "\n",
        " Input :\n",
        "\n",
        "a[] = {2, 1, 3},\n",
        "\n",
        "b[] = { 7, 8, 9 },\n",
        "\n",
        "k = 10.\n",
        "\n",
        "Output :\n",
        "\n",
        "True\n",
        "\n",
        "Explanation:\n",
        "\n",
        "Permutation  a[] = { 1, 2, 3 }\n",
        "\n",
        "and b[] = { 9, 8, 7 }\n",
        "\n",
        "satisfied the condition a[i] + b[i] >= K.\n",
        "\n",
        "\n",
        "https://practice.geeksforgeeks.org/problems/permutations-in-array1747/1"
      ],
      "metadata": {
        "id": "9VILZs7wWh4k"
      }
    },
    {
      "cell_type": "code",
      "source": [
        "def isPermutationPossible(a, b, n, k):\n",
        "    # Your code goes here\n",
        "        a.sort()\n",
        "        b.sort(reverse = True)\n",
        "        for i in range(n):\n",
        "            if a[i] + b[i] < k:\n",
        "                return False\n",
        "                break\n",
        "        return True\n",
        "a = [2,1,3]\n",
        "b = [7,8,9]\n",
        "k = 10\n",
        "n = len(a)\n",
        "isPermutationPossible(a,b,n,k)"
      ],
      "metadata": {
        "id": "7QwttEGrWhFU"
      },
      "execution_count": null,
      "outputs": []
    },
    {
      "cell_type": "markdown",
      "source": [
        "Ques 48:Half Sorted Array.\n",
        "\n",
        "The link to the question is as follows:\n",
        "https://practice.geeksforgeeks.org/problems/sort-the-half-sorted2157/1"
      ],
      "metadata": {
        "id": "3gmrxyqDKNAT"
      }
    },
    {
      "cell_type": "code",
      "source": [
        "def halfSorted(arr,n):\n",
        "  half = 0\n",
        "  temp = []\n",
        "\n",
        "\n",
        "  #####TIME COMPLEXITY:\n",
        "  ### Part 1 ----->O(n)\n",
        "  ### Part2 ------>O(n*(n-high))/O(n*(high - low))\n",
        "\n",
        "  ### Overall Time Complexity ------>O(^2)------->Which is relatively high\n",
        "\n",
        "  ###### Part 1 #########\n",
        "  for i in range(n): # -------------------------->O(n)\n",
        "    if(i+1<n):\n",
        "      if(arr[i+1]<arr[i]):\n",
        "        half = i+1\n",
        "        break\n",
        "  low = 0\n",
        "  high = half\n",
        "\n",
        "  #####  Part 2  ###########\n",
        "  while (low < half and high < n):#--------------------->O(n)\n",
        "    if(arr[low]> arr[high]):\n",
        "      temp.append(arr[high])\n",
        "      high = high + 1\n",
        "    elif(arr[low] < arr[high]):\n",
        "      temp.append(arr[low])\n",
        "      low = low + 1\n",
        "    if(low == half and high < n ):\n",
        "      for i in range(high,n):#--------------------->O(n-high)\n",
        "        temp.append(arr[i])\n",
        "    elif(low < half and high ==n):\n",
        "      for i in range(low,half):#------------------->O(half-low)\n",
        "        temp.append(arr[i])\n",
        "      print('Low executed')\n",
        "  print(half)\n",
        "  print(temp)\n",
        "\n",
        "\n",
        "#Driver Code\n",
        "arr = [2, 3, 8, 9,-1 ,7 ,10,66,888]\n",
        "n = len(arr)\n",
        "halfSorted(arr,n)"
      ],
      "metadata": {
        "id": "KQRxod2kKKWB"
      },
      "execution_count": null,
      "outputs": []
    },
    {
      "cell_type": "code",
      "source": [
        "## Approach 2 ------>Time Complexity ---->O(n),Space Complexity--->O(n)\n",
        "\n",
        "#######Time Complexity###########\n",
        "\n",
        "#Part1 -------->O(n)\n",
        "#Part2-------->O(n)\n",
        "#Part3-------->O(half-low)\n",
        "#Part4 -------->O(n-high)\n",
        "\n",
        "#OverallTime Complexity ------->Part1 + Part2 + Part3 + Part4\n",
        "\n",
        "#Time Complexity ----->O(N)/O(n)\n",
        "\n",
        "\n",
        "\n",
        "def halfSorted(arr,n):\n",
        "  half = 0\n",
        "  temp = []\n",
        "  for i in range(n):\n",
        "    temp.append(0)\n",
        "\n",
        "  ######## Part1 #############\n",
        "  for i in range(n): # -------------------------->O(n)\n",
        "    if(i+1<n):\n",
        "      if(arr[i+1]<arr[i]):\n",
        "        half = i+1\n",
        "        break\n",
        "  print(temp)\n",
        "  low = 0\n",
        "  k= 0\n",
        "  high = half\n",
        "\n",
        "  #####  Part 2  ###########\n",
        "  while (low < half  and  high < n):#--------------------->O(n)\n",
        "    print('Low<half and half<n')\n",
        "    if(arr[low]> arr[high]):# ---------------------->O(1)\n",
        "      temp[k] = arr[high]\n",
        "      high = high + 1\n",
        "      k = k+1\n",
        "    elif(arr[low] < arr[high]):#------------------->O(1)\n",
        "      temp[k]=arr[low]\n",
        "      k=k+1\n",
        "      low = low + 1\n",
        "\n",
        "  ######## Part3 ########\n",
        "\n",
        "  while(low < half): #---------------------------------->O(half-low)\n",
        "    print('Low<half')\n",
        "    temp[k] = arr[low]\n",
        "    k = k+1\n",
        "    low = low+1\n",
        "\n",
        "  ######## Part4#########\n",
        "  while(high < n):# ----------------------------------->O(n-high)\n",
        "    print('high<n')\n",
        "    print(k)\n",
        "    temp[k] = arr[high]\n",
        "    k = k+1\n",
        "    high = high+1\n",
        "\n",
        "  #print(half)\n",
        "  #print(temp)\n",
        "  for  i in range(n):\n",
        "      arr[i] = temp[i]\n",
        "  print(arr)\n",
        "\n",
        "\n",
        "#Driver Code\n",
        "arr = [2, 3, 8, 9,-1 ,7 ,10,66,888]\n",
        "n = len(arr)\n",
        "halfSorted(arr,n)"
      ],
      "metadata": {
        "id": "yOvmmGXMtzJr"
      },
      "execution_count": null,
      "outputs": []
    },
    {
      "cell_type": "code",
      "source": [
        "### Still Pending#######\n",
        "\n",
        "def halfSorted(arr,n):\n",
        "  half = 0\n",
        "  temp = []\n",
        "  #for i in range(n):\n",
        "  #  temp.append(0)\n",
        "\n",
        "  ######## Part1 #############\n",
        "  for i in range(n): # -------------------------->O(n)\n",
        "    if(i+1<n):\n",
        "      if(arr[i+1]<arr[i]):\n",
        "        half = i+1\n",
        "        break\n",
        "  print(temp)\n",
        "  print(half)\n",
        "  low = 0\n",
        "  k= 0\n",
        "  high = half\n",
        "\n",
        "  #####  Part 2  ###########\n",
        "  while (low < half  or  high <=n):#--------------------->O(n)\n",
        "    print('Low<half and half<n')\n",
        "    if(arr[low]> arr[high]):# ---------------------->O(1)\n",
        "      temp.append(arr[high])\n",
        "      high = high + 1\n",
        "    elif(arr[low] < arr[high]):#------------------->O(1)\n",
        "      temp.append(arr[low])\n",
        "      low = low + 1\n",
        "    if(low==half):\n",
        "      print('low<half')\n",
        "      temp.append(arr[high])\n",
        "      high = high+1\n",
        "    elif(high==n):\n",
        "      print('high<n')\n",
        "      temp.append(arr[low])\n",
        "      low = low+1\n",
        "\n",
        "  #print(half)\n",
        "  print(temp)\n",
        "\n",
        "\n",
        "#Driver Code\n",
        "arr = [2, 3, 8, 9,-1 ,7 ,10,66,888]\n",
        "n = len(arr)\n",
        "halfSorted(arr,n)"
      ],
      "metadata": {
        "id": "L6nUtHcYak72"
      },
      "execution_count": null,
      "outputs": []
    },
    {
      "cell_type": "markdown",
      "source": [
        "**2D ARRAY CONCEPTS**"
      ],
      "metadata": {
        "id": "1wJ-yJmJYsw8"
      }
    },
    {
      "cell_type": "markdown",
      "source": [
        "Question 49:\n",
        "Matrix of N* N size is given.Find out the transpose of that matrix.\n",
        "\n",
        "Please use both:\n",
        "1.Brutt Force Approach\n",
        "2.Optimsed Approach\n",
        "\n",
        "N = 4\n",
        "\n",
        "mat = [[1, 1, 1, 1],\n",
        "           [2, 2, 2, 2],\n",
        "           [3, 3, 3, 3],\n",
        "           [4, 4, 4, 4]]\n",
        "           \n",
        "Output:\n",
        "\n",
        "[[1, 2, 3, 4],  \n",
        " [1, 2, 3, 4]  \n",
        " [1, 2, 3, 4]\n",
        " [1, 2, 3, 4]]\n"
      ],
      "metadata": {
        "id": "fN7U9XYJcuKT"
      }
    },
    {
      "cell_type": "markdown",
      "source": [
        "**METHOD 1 ---->By using extra Matrix**\n"
      ],
      "metadata": {
        "id": "uLmQ1WDXcm0N"
      }
    },
    {
      "cell_type": "code",
      "source": [
        "#Time Complexity --->O(N2)\n",
        "#Space Complexity ---->O(N2)--------->Which is not desired\n",
        "\n",
        "\n",
        "def matrixTransapose(arr,m,n):\n",
        "  extra_array= []\n",
        "  column_array = []\n",
        "\n",
        " #This code is for the making of extra array namely extra array\n",
        "\n",
        "  for i in range(m):\n",
        "      #print('Value of i is {}'.format(i))\n",
        "      for j in range(n):\n",
        "        #print('Value of j is {}'.format(j))\n",
        "        #print(j)\n",
        "         column_array.append(0)\n",
        "         break\n",
        "      extra_array.append(column_array)\n",
        "      #print(extra_array)\n",
        "  #extra_array = [[0 for x in range(m)] for y in range(n)]\n",
        "  #print(extra_array)\n",
        "\n",
        "\n",
        "  for i in range(m):\n",
        "    for j in range(n):\n",
        "      extra_array[i][j] = arr[j][i]\n",
        "  return extra_array\n",
        "\n",
        "\n",
        "\n",
        "\n",
        "#Driver Code\n",
        "\n",
        "#arr = [[1, 1, 1, 1], [2, 2, 2, 2], [3, 3, 3, 3], [4, 4, 4, 4]]\n",
        "#m =4\n",
        "#n =4\n",
        "arr = [[1, 1, 1, 1,1], [2, 2, 2, 2,2], [3, 3, 3, 3,3], [4, 4, 4, 4,4],[5,5,5,5,5]]\n",
        "m =5\n",
        "n =5\n",
        "matrixTransapose(arr,m,n)"
      ],
      "metadata": {
        "id": "FU-om-yzYxSt"
      },
      "execution_count": null,
      "outputs": []
    },
    {
      "cell_type": "markdown",
      "source": [
        "**METHOD 2 ---->By using same Matrix**\n"
      ],
      "metadata": {
        "id": "2yVnn0K940ql"
      }
    },
    {
      "cell_type": "code",
      "source": [
        "# SPACE COMPLEXITY -->O(1)\n",
        "#TIME COMPLEXITY -->O(N2)\n",
        "\n",
        "def matrixTranspose(arr,m,n):\n",
        "  temp = 0\n",
        "  for i in range(m):\n",
        "      for j in range(i,n):\n",
        "        temp = arr[i][j]\n",
        "        arr[i][j] = arr[j][i]\n",
        "        arr[j][i] = temp\n",
        "  return arr\n",
        "\n",
        "\n",
        "\n",
        "\n",
        "#Driver Code\n",
        "\n",
        "#arr = [[1, 1, 1, 1], [2, 2, 2, 2], [3, 3, 3, 3], [4, 4, 4, 4]]\n",
        "#m =4\n",
        "#n =4\n",
        "arr = [[1, 1, 1, 1,1], [2, 2, 2, 2,2], [3, 3, 3, 3,3], [4, 4, 4, 4,4],[5,5,5,5,5]]\n",
        "m =5\n",
        "n =5\n",
        "matrixTranspose(arr,m,n)"
      ],
      "metadata": {
        "id": "0ukiKEjmcB2Y"
      },
      "execution_count": null,
      "outputs": []
    },
    {
      "cell_type": "markdown",
      "source": [
        "Ques 50: Rotate the matrix by 90 degrees\n",
        "\n",
        "The complete code is given below:\n",
        "https://practice.geeksforgeeks.org/problems/rotate-by-90-degree-1587115621/1"
      ],
      "metadata": {
        "id": "wwW-w6rzynY6"
      }
    },
    {
      "cell_type": "code",
      "source": [
        "def rotateby90(a, n):\n",
        "\n",
        "        # 1.Taking the transpose of the matrix.\n",
        "        for i in range(n):\n",
        "            for j in range(i,n):\n",
        "                temp = a[i][j]\n",
        "                a[i][j] = a[j][i]\n",
        "                a[j][i] = temp\n",
        "\n",
        "        # 2. Now interchanging the rows of the transposed matrix.\n",
        "        for i in range(n):\n",
        "            low = 0\n",
        "            high = n-1\n",
        "            while(low < high):\n",
        "                temp = a[low][i]\n",
        "                a[low][i] = a[high][i]\n",
        "                a[high][i] = temp\n",
        "                low = low + 1\n",
        "                high = high -1\n",
        "        print(a)\n",
        "\n",
        "# Driver Code\n",
        "n = 3\n",
        "a = [[1, 2, 3],\n",
        "     [4, 5, 6],\n",
        "     [7, 8, 9]]\n",
        "rotateby90(a,n)"
      ],
      "metadata": {
        "id": "rEzqg_D-y1x9"
      },
      "execution_count": null,
      "outputs": []
    },
    {
      "cell_type": "markdown",
      "source": [
        "Ques 51: Count the number of zeros\n",
        "\n",
        "The exact question cn be found here:\n",
        "https://practice.geeksforgeeks.org/problems/count-zeros-in-a-sorted-matrix/1\n",
        "\n",
        "\n"
      ],
      "metadata": {
        "id": "sXdXazROT77M"
      }
    },
    {
      "cell_type": "code",
      "source": [
        "# Space Complexity ---->O(1)\n",
        "#Time Complexity ---->O(n)\n",
        "\n",
        "def countZeros2DArray(arr,n):\n",
        "  col = 0\n",
        "  row = 2\n",
        "  count = 0\n",
        "  while(col < n and row >=0):\n",
        "    if (arr[row][col] == 0):\n",
        "      count = count + row +1\n",
        "      col = col + 1\n",
        "    elif(arr[row][col]==1):\n",
        "      row = row -1\n",
        "  print('Total number of zeros are {}'.format(count))\n",
        "\n",
        "\n",
        "#Driver Code\n",
        "arr = [[0,0,0],[0,0,0],[0,0,0]]\n",
        "n = len(arr[0])\n",
        "countZeros2DArray(arr,n)"
      ],
      "metadata": {
        "id": "DPq__JWwT5xF"
      },
      "execution_count": null,
      "outputs": []
    },
    {
      "cell_type": "markdown",
      "source": [
        "Question 52 :Digits in factorial\n",
        "\n",
        "Given an integer N.\n",
        "\n",
        "Find the number of digits that appear in its factorial.\n",
        "\n",
        "Factorial is defined as, factorial(n) = 1*2*3*4……..*N and factorial(0) = 1.\n",
        "\n",
        "Input: N = 5\n",
        "\n",
        "Output: 3\n",
        "\n",
        "Explanation: Factorial of 5 is 120.\n",
        "\n",
        "Number of digits in 120 is 3 (1, 2, and 0)\n",
        "\n",
        "https://practice.geeksforgeeks.org/batch/gcl-66/track/DSASP-Mathematics/problem/digits-in-factorial"
      ],
      "metadata": {
        "id": "Vw53mcXp59h2"
      }
    },
    {
      "cell_type": "code",
      "source": [
        "#################             METHOD1\n",
        "#User function Template for python3\n",
        "import math\n",
        "def digitsInFactorial(N):\n",
        "        # code here\n",
        "        s=0\n",
        "        for i in range(1,N+1):\n",
        "            s=s+math.log10(i)\n",
        "        return (math.floor(s))+1\n",
        "N = int(input('Enter the number to be input:'))\n",
        "digitsInFactorial(N)"
      ],
      "metadata": {
        "id": "oXh61XIn5AZg"
      },
      "execution_count": null,
      "outputs": []
    },
    {
      "cell_type": "code",
      "source": [
        "###########################     METHOD2 ########################\n",
        "\n",
        "def digitsInFactorial(N):\n",
        "        factorial = 1\n",
        "        for i in range(1,N+1):\n",
        "            factorial = factorial * i\n",
        "        #print('The value of the factorial is {}'.format(factorial))\n",
        "        #factorial = str(factorial)\n",
        "        #number_digits = len(factorial)\n",
        "        #return number_digits\n",
        "        count = 0\n",
        "        while(factorial !=0):\n",
        "            count = count + 1\n",
        "            factorial = int(factorial//10)\n",
        "        return count\n",
        "N = int(input('Enter the number to be input:'))\n",
        "digitsInFactorial(N)"
      ],
      "metadata": {
        "id": "3CiojFCI5E4M"
      },
      "execution_count": null,
      "outputs": []
    },
    {
      "cell_type": "markdown",
      "source": [
        "**BIT CONCEPTS**"
      ],
      "metadata": {
        "id": "cwyuhlgzcDJ_"
      }
    },
    {
      "cell_type": "markdown",
      "source": [
        "Ques 1 :\n",
        "Check whether K-th bit is set or not\n",
        "\n",
        "The exact ques can be found here:\n",
        "\n",
        "https://www.geeksforgeeks.org/batch/gcl-66/track/DSASP-BitMagic/problem/check-whether-k-th-bit-is-set-or-not-1587115620"
      ],
      "metadata": {
        "id": "gzXUzHo0cUO1"
      }
    },
    {
      "cell_type": "code",
      "source": [
        "# Method 1 ---->Using Right Shift Operator\n",
        "\n",
        "def checkSetBit(n,k):\n",
        "  num = n >> k\n",
        "  isSetBit = (num & 1)\n",
        "  if(isSetBit ==1):\n",
        "    print('Set bit is there')\n",
        "  else:\n",
        "    print('No set bit is there')\n",
        "\n",
        "#Driver Code\n",
        "n = int(input('Enter the number: '))\n",
        "k = int(input('Enter the number for which you want to check the set bit: '))\n",
        "checkSetBit(n,k)"
      ],
      "metadata": {
        "id": "R8hjdL0vcGjT"
      },
      "execution_count": null,
      "outputs": []
    },
    {
      "cell_type": "code",
      "source": [
        "# Method 2 ----->Using the left shift operator\n",
        "\n",
        "def checkSetBit(n,k):\n",
        "  actualOne = 1 << k\n",
        "  isSetBit = (n & actualOne)\n",
        "  if(isSetBit ==1):\n",
        "    print('Set bit is there')\n",
        "  else:\n",
        "    print('No set bit is there')\n",
        "\n",
        "#Driver Code\n",
        "n = int(input('Enter the number: '))\n",
        "k = int(input('Enter the number for which you want to check the set bit: '))\n",
        "checkSetBit(n,k)"
      ],
      "metadata": {
        "id": "pYGb9iYnlAr0"
      },
      "execution_count": null,
      "outputs": []
    },
    {
      "cell_type": "markdown",
      "source": [
        "Ques 1:\n",
        " **Find first set bit\n",
        "Given an integer N. The task is to return the position of first set bit found from the right side in the binary representation of the number.\n",
        "Note: If there is no set bit in the integer N, then return 0 from the function.**  \n",
        "https://www.geeksforgeeks.org/batch/gcl-66/track/DSASP-BitMagic/problem/find-first-set-bit-1587115620"
      ],
      "metadata": {
        "id": "EIppybC9SpTB"
      }
    },
    {
      "cell_type": "code",
      "source": [
        "def getFirstSetBit(n):\n",
        "  position = 1\n",
        "  m=1\n",
        "  while (not(n & m)):\n",
        "    m = m <<1\n",
        "    position = position +1\n",
        "    print(\"Value of position is:{}\".format(position))\n",
        "  return position\n",
        "\n",
        "\n",
        "# Driver Code\n",
        "n = int(input(\"Enter the number you want to input:\"))\n",
        "getFirstSetBit(n)"
      ],
      "metadata": {
        "id": "-LlOnWSaljXF"
      },
      "execution_count": null,
      "outputs": []
    },
    {
      "cell_type": "markdown",
      "source": [
        "Ques 3:\n",
        "Count total set bits\n",
        "\n",
        "You are given a number N. Find the total count of set bits for all numbers from 1 to N(both inclusive).\n",
        "\n",
        "https://www.geeksforgeeks.org/batch/gcl-66/track/DSASP-BitMagic/problem/count-total-set-bits-1587115620"
      ],
      "metadata": {
        "id": "DxvzTrDV6yzK"
      }
    },
    {
      "cell_type": "code",
      "source": [
        "# Method 1----->Time Complexity ---->O(N)\n",
        "# Time Complexity --->O(2n)--->O(N)\n",
        "\n",
        "def totalSetBitInOneNumber(n):\n",
        "  totalSetBit = 0\n",
        "  #while (n):\n",
        "  #  if (n & 1):\n",
        "  #    totalSetBit = totalSetBit + (n & 1)\n",
        "    #Right shifting the number by one unit\n",
        "  #  n = n >> 1\n",
        "  # return totalSetBit\n",
        "  # if (n <= 0):\n",
        "  #      return 0\n",
        "  # return (0 if int(n % 2) == 0 else 1) + totalNumberSetBit(int(n / 2))\n",
        "  while (n):\n",
        "    if (n & 1):\n",
        "      totalSetBit = totalSetBit + 1\n",
        "    #Right shifting the number by one unit\n",
        "    n = n >> 1\n",
        "  return totalSetBit\n",
        "\n",
        "def totalNumberSetBit(num):\n",
        "  totalNumberSetBits = 0\n",
        "  for i in range(1,num+1):\n",
        "    totalSetBitNum = totalSetBitInOneNumber(i)\n",
        "    print('Value of total set bit for num {} is {}'.format(i,totalSetBitNum))\n",
        "    totalNumberSetBits = totalNumberSetBits + totalSetBitNum\n",
        "  return totalNumberSetBits\n",
        "\n",
        "\n",
        "# Driver Code\n",
        "num = int(input(\"Enter the number you want to input:\"))\n",
        "totalNumberSetBit(num)"
      ],
      "metadata": {
        "id": "iKPIfdK--LXs"
      },
      "execution_count": null,
      "outputs": []
    },
    {
      "cell_type": "markdown",
      "source": [
        "Ques 4\n",
        "\n",
        "**Count the total number of set bits for a number n input by the user**"
      ],
      "metadata": {
        "id": "0Jk-Aj0MB4a4"
      }
    },
    {
      "cell_type": "code",
      "source": [
        "def totalSetBit(n):\n",
        "  totalSetBit = 0\n",
        "  while (n):\n",
        "    if (n & 1):\n",
        "      totalSetBit = totalSetBit + 1\n",
        "    #Right shifting the number by one unit\n",
        "    n = n >> 1\n",
        "  return totalSetBit\n",
        "\n",
        "# Driver Code\n",
        "n = int(input(\"Enter the number you want to input:\"))\n",
        "totalSetBit(n)"
      ],
      "metadata": {
        "id": "9Zq3tfWBBtTy"
      },
      "execution_count": null,
      "outputs": []
    },
    {
      "cell_type": "markdown",
      "source": [
        "Ques 5:\n",
        "\n",
        "**Check wether a number is perfectly divisible by 2 or not**"
      ],
      "metadata": {
        "id": "RPNCtrcT06aA"
      }
    },
    {
      "cell_type": "code",
      "source": [
        "# Method 1 ----->Using number concepts\n",
        "\n",
        "def isPowerOfTwo(num):\n",
        "  while(num != 1):\n",
        "    rem = int(num%2)\n",
        "    #print('Remainder is {}.'.format(rem))\n",
        "    #print('Num value is {}'.format(num))\n",
        "    if(rem != 0):\n",
        "      return False\n",
        "      break\n",
        "    num = int(num/2)\n",
        "\n",
        "  return True\n",
        "\n",
        "#Driver Code\n",
        "\n",
        "num = int(input('Enter the number you want to check: '))\n",
        "isPowerOfTwo(num)\n"
      ],
      "metadata": {
        "id": "CjXSU3pMsUac"
      },
      "execution_count": null,
      "outputs": []
    },
    {
      "cell_type": "code",
      "source": [
        "# Method 2 ------>Using concepts of bits\n",
        "def isDivisibleBy2(num):\n",
        "  if(num & 1 == 0):\n",
        "    return True\n",
        "  else:\n",
        "    return False\n",
        "\n",
        "# Driver Code\n",
        "num = int(input('Enter the number you want to check for even/odd:'))\n",
        "isDivisibleBy2(num)"
      ],
      "metadata": {
        "id": "WOiYdGwFzVlK"
      },
      "execution_count": null,
      "outputs": []
    },
    {
      "cell_type": "markdown",
      "source": [
        "Ques 6 :\n",
        " Rightmost different bit\n",
        "\n",
        "Given two numbers M and N. The task is to find the position of the rightmost different bit in the binary representation of numbers. If both M and N are the same then return -1 in this case.\n",
        "\n",
        "https://www.geeksforgeeks.org/batch/gcl-66/track/DSASP-BitMagic/problem/rightmost-different-bit-1587115621\n"
      ],
      "metadata": {
        "id": "T4RbJgiO02_X"
      }
    },
    {
      "cell_type": "code",
      "source": [
        "# Method 1\n",
        "#Time Complexity ---->O(n)\n",
        "\n",
        "def rightMostBitDifference(m,n):\n",
        "  numxor = m ^ n\n",
        "  #print(numxor)\n",
        "  pos = 0\n",
        "  one = 1\n",
        "  while(numxor):\n",
        "    if(numxor & one ==1):\n",
        "      pos = pos + 1\n",
        "      break\n",
        "    #Left shifting the 1 by 1 unit\n",
        "    #one = one << 1\n",
        "    pos = pos +1\n",
        "    numxor = numxor >>1\n",
        "  if pos == 0:\n",
        "    return -1\n",
        "  else:\n",
        "    return pos\n",
        "\n",
        "#Driver Code\n",
        "m = int(input('Enter the number 1: '))\n",
        "n = int(input('Enter the number 2: '))\n",
        "rightMostBitDifference(m,n)"
      ],
      "metadata": {
        "id": "UK0t1_TbisPI"
      },
      "execution_count": null,
      "outputs": []
    },
    {
      "cell_type": "code",
      "source": [
        "# Method2 --->Time Complexity\n",
        "# Time Complexity ---->O(logn)\n",
        "\n",
        "def rightMostBitDifference(m,n):\n",
        "  def getRightMostSetBit(n):\n",
        "              if (n == 0):\n",
        "                  return -1\n",
        "\n",
        "              return math.log2(n & -n) + 1\n",
        "  return getRightMostSetBit(m ^ n)\n",
        "\n",
        "#Driver Code\n",
        "\n",
        "m = int(input('Enter the number 1: '))\n",
        "n = int(input('Enter the number 2: '))\n",
        "rightMostBitDifference(m,n)"
      ],
      "metadata": {
        "id": "uRZsxlmU3ge_"
      },
      "execution_count": null,
      "outputs": []
    },
    {
      "cell_type": "markdown",
      "source": [
        " **Ques 7:\n",
        "Bit Difference\n",
        "You are given two numbers A and B. The task is to count the number of bits needed to be flipped to convert A to B.**\n",
        "https://www.geeksforgeeks.org/batch/gcl-66/track/DSASP-BitMagic/problem/bit-difference-1587115620"
      ],
      "metadata": {
        "id": "Qhn8aoFng2V7"
      }
    },
    {
      "cell_type": "code",
      "source": [
        "# Method 1 ---->Time Complexity -->O(n)\n",
        "def bitDifference(a,b):\n",
        "  count = 0\n",
        "  m=1\n",
        "  num = a ^ b\n",
        "  #print(num)\n",
        "  while(num > 0):\n",
        "    if(num & m):\n",
        "      count = count + 1\n",
        "    #num should be right shift by 1 units in order to make the while loop runs for a finite time.If we will not do so, then the loop will run infinite times\n",
        "    num = num >> 1\n",
        "  return count\n",
        "\n",
        "# Driver Code\n",
        "a = int(input('Enter the number 1: '))\n",
        "b = int(input('Enter the number 2: '))\n",
        "bitDifference(a,b)"
      ],
      "metadata": {
        "id": "_ngnAaiyhDF4"
      },
      "execution_count": null,
      "outputs": []
    },
    {
      "cell_type": "code",
      "source": [
        "#Method 2\n",
        "\n",
        "def bitDifference(a,b):\n",
        "  result = bin(a ^ b).count(\"1\")\n",
        "  return result\n",
        "\n",
        "\n",
        "# Driver Code\n",
        "a = int(input('Enter the number 1: '))\n",
        "b = int(input('Enter the number 2: '))\n",
        "bitDifference(a,b)"
      ],
      "metadata": {
        "id": "VYV0knpjikKo"
      },
      "execution_count": null,
      "outputs": []
    },
    {
      "cell_type": "markdown",
      "source": [
        "Ques 8 :Parse number or not:\n",
        "Number is sparse or not\n",
        "\n",
        "https://www.geeksforgeeks.org/batch/gcl-66/track/DSASP-BitMagic/problem/number-is-sparse-or-not-1587115620"
      ],
      "metadata": {
        "id": "rJns4YTbBdw7"
      }
    },
    {
      "cell_type": "code",
      "source": [
        "def isParse(n):\n",
        "  count = 0\n",
        "  temp = 0\n",
        "  while n>0:\n",
        "      if n&1 == 1:\n",
        "          count+=1\n",
        "      else:\n",
        "          temp = max(temp, count)\n",
        "          count = 0\n",
        "      n = n>>1\n",
        "  temp = max(temp, count)\n",
        "  if(temp >= 2):\n",
        "    return 0\n",
        "  else:\n",
        "    return 1\n",
        "\n",
        "\n",
        "# Driver Code\n",
        "\n",
        "n = int(input('Enter the number you want to input: '))\n",
        "isParse(n)\n"
      ],
      "metadata": {
        "id": "uhnHVvf6Bp2L"
      },
      "execution_count": null,
      "outputs": []
    },
    {
      "cell_type": "markdown",
      "source": [
        "**Ques 9 :Longest Consecutive 1's**\n",
        "\n",
        "\n",
        "https://www.geeksforgeeks.org/batch/gcl-66/track/DSASP-BitMagic/problem/longest-consecutive-1s-1587115620"
      ],
      "metadata": {
        "id": "fqX4djCFJoDm"
      }
    },
    {
      "cell_type": "code",
      "source": [
        "n = int(input('enter your no: '))\n",
        "count = 0\n",
        "temp = 0\n",
        "while n>0:\n",
        "    if n&1 == 1:\n",
        "        count+=1\n",
        "    else:\n",
        "        temp = max(temp, count)\n",
        "        count = 0\n",
        "    n = n>>1\n",
        "temp = max(temp, count)\n",
        "print(temp) #3"
      ],
      "metadata": {
        "id": "CGL0917SBw-g"
      },
      "execution_count": null,
      "outputs": []
    }
  ]
}