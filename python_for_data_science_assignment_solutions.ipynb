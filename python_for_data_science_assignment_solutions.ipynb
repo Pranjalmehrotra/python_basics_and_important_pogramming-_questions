{
  "nbformat": 4,
  "nbformat_minor": 0,
  "metadata": {
    "colab": {
      "private_outputs": true,
      "provenance": []
    },
    "kernelspec": {
      "name": "python3",
      "display_name": "Python 3"
    },
    "language_info": {
      "name": "python"
    }
  },
  "cells": [
    {
      "cell_type": "markdown",
      "source": [
        "**Pandas Assignment1(Salary) Solutions**"
      ],
      "metadata": {
        "id": "ucx1K01TLgC6"
      }
    },
    {
      "cell_type": "code",
      "source": [
        "pwd"
      ],
      "metadata": {
        "id": "lpMcnEOCLi8C"
      },
      "execution_count": null,
      "outputs": []
    },
    {
      "cell_type": "code",
      "source": [
        "import pandas as pd"
      ],
      "metadata": {
        "id": "qE6WYTK0Xf9L"
      },
      "execution_count": null,
      "outputs": []
    },
    {
      "cell_type": "code",
      "source": [
        "from google.colab import files \n",
        "uploaded = files.upload()"
      ],
      "metadata": {
        "id": "Ej77nGU-LqHt"
      },
      "execution_count": null,
      "outputs": []
    },
    {
      "cell_type": "code",
      "source": [
        "import io\n",
        "sal = pd.read_csv(io.BytesIO(uploaded['Salaries.csv']))\n",
        "sal"
      ],
      "metadata": {
        "id": "LUgc2sQXXbNL"
      },
      "execution_count": null,
      "outputs": []
    },
    {
      "cell_type": "code",
      "source": [
        "sal.info()"
      ],
      "metadata": {
        "id": "DeLuWOU4XeAi"
      },
      "execution_count": null,
      "outputs": []
    },
    {
      "cell_type": "markdown",
      "source": [
        "**What is the average BasePay ?**"
      ],
      "metadata": {
        "id": "Fy7NfAGO1vVd"
      }
    },
    {
      "cell_type": "code",
      "source": [
        "sal['BasePay'].mean() "
      ],
      "metadata": {
        "id": "QIScTeCzYHEs"
      },
      "execution_count": null,
      "outputs": []
    },
    {
      "cell_type": "markdown",
      "source": [
        "**What is the highest amount of OvertimePay in the dataset ?**"
      ],
      "metadata": {
        "id": "zjGMRg5D1q6K"
      }
    },
    {
      "cell_type": "code",
      "source": [
        "sal['OvertimePay'].max()"
      ],
      "metadata": {
        "id": "SkBpFDRwYeH6"
      },
      "execution_count": null,
      "outputs": []
    },
    {
      "cell_type": "markdown",
      "source": [
        "**What is the job title of  JOSEPH DRISCOLL ? Note: Use all caps, otherwise you may get an answer that doesn't match up (there is also a lowercase Joseph Driscoll).**"
      ],
      "metadata": {
        "id": "Kkw6ItSG10pv"
      }
    },
    {
      "cell_type": "code",
      "source": [
        "sal_joseph=sal[sal[\"EmployeeName\"] == \"JOSEPH DRISCOLL\"]"
      ],
      "metadata": {
        "id": "I6rQvI6QZf1U"
      },
      "execution_count": null,
      "outputs": []
    },
    {
      "cell_type": "code",
      "source": [
        "sal[sal[\"EmployeeName\"] == \"JOSEPH DRISCOLL\"]['JobTitle']"
      ],
      "metadata": {
        "id": "eIoUziXol4Q1"
      },
      "execution_count": null,
      "outputs": []
    },
    {
      "cell_type": "markdown",
      "source": [
        "**How much does JOSEPH DRISCOLL make (including benefits)?**  "
      ],
      "metadata": {
        "id": "wN8R0PeS17MP"
      }
    },
    {
      "cell_type": "code",
      "source": [
        "sal_joseph=sal[sal[\"EmployeeName\"] == \"JOSEPH DRISCOLL\"]\n",
        "sal_joseph['TotalPay']"
      ],
      "metadata": {
        "id": "PEpm6if4l7Q-"
      },
      "execution_count": null,
      "outputs": []
    },
    {
      "cell_type": "markdown",
      "source": [
        "**What is the name of highest paid person (including benefits)?**"
      ],
      "metadata": {
        "id": "1CbBR7Qa2Gp2"
      }
    },
    {
      "cell_type": "code",
      "source": [
        "sal[sal['TotalPay']==sal['TotalPay'].max()]"
      ],
      "metadata": {
        "id": "cfWl3mK-mrAz"
      },
      "execution_count": null,
      "outputs": []
    },
    {
      "cell_type": "code",
      "source": [
        "sal[sal['TotalPay']==sal['TotalPay'].max()]['EmployeeName']"
      ],
      "metadata": {
        "id": "KUi25xu0nBoN"
      },
      "execution_count": null,
      "outputs": []
    },
    {
      "cell_type": "markdown",
      "source": [
        "**What is the name of lowest paid person (including benefits)? Do you notice something strange about how much he or she is paid?**"
      ],
      "metadata": {
        "id": "QPncrnbA2NO1"
      }
    },
    {
      "cell_type": "code",
      "source": [
        "sal[sal['TotalPay']==sal['TotalPay'].min()]"
      ],
      "metadata": {
        "id": "BHRSK9nJoUvQ"
      },
      "execution_count": null,
      "outputs": []
    },
    {
      "cell_type": "code",
      "source": [
        "sal[sal['TotalPay']==sal['TotalPay'].min()]['EmployeeName']"
      ],
      "metadata": {
        "id": "71nf81qYRWeN"
      },
      "execution_count": null,
      "outputs": []
    },
    {
      "cell_type": "markdown",
      "source": [
        "**What was the average (mean) BasePay of all employees per year? (2011-2014) ?**"
      ],
      "metadata": {
        "id": "2lYqDnQc2RJi"
      }
    },
    {
      "cell_type": "code",
      "source": [
        "sal.groupby('Year')['BasePay'].mean()"
      ],
      "metadata": {
        "id": "cFzQJ6GORX6D"
      },
      "execution_count": null,
      "outputs": []
    },
    {
      "cell_type": "markdown",
      "source": [
        "**How many unique job titles are there?**"
      ],
      "metadata": {
        "id": "k3BXnVv62V9y"
      }
    },
    {
      "cell_type": "code",
      "source": [
        "sal['JobTitle'].nunique()"
      ],
      "metadata": {
        "id": "RrjYq02fSPbs"
      },
      "execution_count": null,
      "outputs": []
    },
    {
      "cell_type": "markdown",
      "source": [
        "**What are the top 5 most common jobs?**"
      ],
      "metadata": {
        "id": "7NqWmIv_2ZpC"
      }
    },
    {
      "cell_type": "code",
      "source": [
        "sal[\"JobTitle\"].value_counts().head(5)"
      ],
      "metadata": {
        "id": "p2ATLf44VTwr"
      },
      "execution_count": null,
      "outputs": []
    },
    {
      "cell_type": "markdown",
      "source": [
        "**How many Job Titles were represented by only one person in 2013? (e.g. Job Titles with only one occurence in 2013?)**"
      ],
      "metadata": {
        "id": "y43aRTbC2dNu"
      }
    },
    {
      "cell_type": "code",
      "source": [
        "thir = sal[sal[\"Year\"] == 2013]\n",
        "thir"
      ],
      "metadata": {
        "id": "91MBh5ineJfI"
      },
      "execution_count": null,
      "outputs": []
    },
    {
      "cell_type": "code",
      "source": [
        "sum(thir['JobTitle'].value_counts()==1)"
      ],
      "metadata": {
        "id": "mqcZLp1BelOv"
      },
      "execution_count": null,
      "outputs": []
    },
    {
      "cell_type": "markdown",
      "source": [
        "**How many people have the word Chief in their job title? (This is pretty tricky)**"
      ],
      "metadata": {
        "id": "1Y04TLFc2i1L"
      }
    },
    {
      "cell_type": "code",
      "source": [
        "def chiefInJobTitle(jobTitle):\n",
        "  if 'chief' in jobTitle.lower().split():\n",
        "    return True\n",
        "  else:\n",
        "    return False\n"
      ],
      "metadata": {
        "id": "E9EN5tn_gbEr"
      },
      "execution_count": null,
      "outputs": []
    },
    {
      "cell_type": "code",
      "source": [
        "sal['JobTitle']"
      ],
      "metadata": {
        "id": "gl1w1l9o_yF2"
      },
      "execution_count": null,
      "outputs": []
    },
    {
      "cell_type": "code",
      "source": [
        "sum(sal['JobTitle'].apply(lambda x : chiefInJobTitle(x)))"
      ],
      "metadata": {
        "id": "nNmHrdriBEXN"
      },
      "execution_count": null,
      "outputs": []
    }
  ]
}